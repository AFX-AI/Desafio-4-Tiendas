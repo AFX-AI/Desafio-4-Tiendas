{
  "nbformat": 4,
  "nbformat_minor": 0,
  "metadata": {
    "colab": {
      "provenance": [],
      "collapsed_sections": [
        "X62IW3KFUIYm",
        "2V_vcAPzWZmR",
        "Rq6tU_xSY3jk",
        "DmNp1KPBZCm-"
      ]
    },
    "kernelspec": {
      "name": "python3",
      "display_name": "Python 3"
    },
    "language_info": {
      "name": "python"
    }
  },
  "cells": [
    {
      "cell_type": "markdown",
      "source": [
        "# **DESAFIO ALURA, EVALUACIÓN DE TIENDAS**"
      ],
      "metadata": {
        "id": "4cEZ1U6GFo4N"
      }
    },
    {
      "cell_type": "markdown",
      "source": [
        "### Importación de datos\n",
        "\n"
      ],
      "metadata": {
        "id": "RhEdWd9YUR6H"
      }
    },
    {
      "cell_type": "code",
      "execution_count": null,
      "metadata": {
        "colab": {
          "base_uri": "https://localhost:8080/",
          "height": 400
        },
        "id": "T3EvaeQ_INIL",
        "outputId": "597018af-f85e-4d51-ed5e-fce179b16214"
      },
      "outputs": [
        {
          "output_type": "execute_result",
          "data": {
            "text/plain": [
              "            Producto Categoría del Producto    Precio  Costo de envío  \\\n",
              "0  Asistente virtual           Electrónicos  164300.0          6900.0   \n",
              "1    Mesa de comedor                Muebles  192300.0          8400.0   \n",
              "2      Juego de mesa               Juguetes  209600.0         15900.0   \n",
              "3         Microondas      Electrodomésticos  757500.0         41000.0   \n",
              "4   Silla de oficina                Muebles  335200.0         20200.0   \n",
              "\n",
              "  Fecha de Compra         Vendedor Lugar de Compra  Calificación  \\\n",
              "0      16/01/2021      Pedro Gomez          Bogotá             4   \n",
              "1      18/05/2022  Beatriz Morales        Medellín             1   \n",
              "2      15/03/2021   Juan Fernandez       Cartagena             1   \n",
              "3      03/05/2022   Juan Fernandez            Cali             4   \n",
              "4      07/11/2020    Maria Alfonso        Medellín             5   \n",
              "\n",
              "       Método de pago  Cantidad de cuotas       lat       lon  \n",
              "0  Tarjeta de crédito                   8   4.60971 -74.08175  \n",
              "1  Tarjeta de crédito                   4   6.25184 -75.56359  \n",
              "2  Tarjeta de crédito                   1  10.39972 -75.51444  \n",
              "3               Nequi                   1   3.43722 -76.52250  \n",
              "4               Nequi                   1   6.25184 -75.56359  "
            ],
            "text/html": [
              "\n",
              "  <div id=\"df-63714fa1-cfac-4d6f-b0fc-424be1484c78\" class=\"colab-df-container\">\n",
              "    <div>\n",
              "<style scoped>\n",
              "    .dataframe tbody tr th:only-of-type {\n",
              "        vertical-align: middle;\n",
              "    }\n",
              "\n",
              "    .dataframe tbody tr th {\n",
              "        vertical-align: top;\n",
              "    }\n",
              "\n",
              "    .dataframe thead th {\n",
              "        text-align: right;\n",
              "    }\n",
              "</style>\n",
              "<table border=\"1\" class=\"dataframe\">\n",
              "  <thead>\n",
              "    <tr style=\"text-align: right;\">\n",
              "      <th></th>\n",
              "      <th>Producto</th>\n",
              "      <th>Categoría del Producto</th>\n",
              "      <th>Precio</th>\n",
              "      <th>Costo de envío</th>\n",
              "      <th>Fecha de Compra</th>\n",
              "      <th>Vendedor</th>\n",
              "      <th>Lugar de Compra</th>\n",
              "      <th>Calificación</th>\n",
              "      <th>Método de pago</th>\n",
              "      <th>Cantidad de cuotas</th>\n",
              "      <th>lat</th>\n",
              "      <th>lon</th>\n",
              "    </tr>\n",
              "  </thead>\n",
              "  <tbody>\n",
              "    <tr>\n",
              "      <th>0</th>\n",
              "      <td>Asistente virtual</td>\n",
              "      <td>Electrónicos</td>\n",
              "      <td>164300.0</td>\n",
              "      <td>6900.0</td>\n",
              "      <td>16/01/2021</td>\n",
              "      <td>Pedro Gomez</td>\n",
              "      <td>Bogotá</td>\n",
              "      <td>4</td>\n",
              "      <td>Tarjeta de crédito</td>\n",
              "      <td>8</td>\n",
              "      <td>4.60971</td>\n",
              "      <td>-74.08175</td>\n",
              "    </tr>\n",
              "    <tr>\n",
              "      <th>1</th>\n",
              "      <td>Mesa de comedor</td>\n",
              "      <td>Muebles</td>\n",
              "      <td>192300.0</td>\n",
              "      <td>8400.0</td>\n",
              "      <td>18/05/2022</td>\n",
              "      <td>Beatriz Morales</td>\n",
              "      <td>Medellín</td>\n",
              "      <td>1</td>\n",
              "      <td>Tarjeta de crédito</td>\n",
              "      <td>4</td>\n",
              "      <td>6.25184</td>\n",
              "      <td>-75.56359</td>\n",
              "    </tr>\n",
              "    <tr>\n",
              "      <th>2</th>\n",
              "      <td>Juego de mesa</td>\n",
              "      <td>Juguetes</td>\n",
              "      <td>209600.0</td>\n",
              "      <td>15900.0</td>\n",
              "      <td>15/03/2021</td>\n",
              "      <td>Juan Fernandez</td>\n",
              "      <td>Cartagena</td>\n",
              "      <td>1</td>\n",
              "      <td>Tarjeta de crédito</td>\n",
              "      <td>1</td>\n",
              "      <td>10.39972</td>\n",
              "      <td>-75.51444</td>\n",
              "    </tr>\n",
              "    <tr>\n",
              "      <th>3</th>\n",
              "      <td>Microondas</td>\n",
              "      <td>Electrodomésticos</td>\n",
              "      <td>757500.0</td>\n",
              "      <td>41000.0</td>\n",
              "      <td>03/05/2022</td>\n",
              "      <td>Juan Fernandez</td>\n",
              "      <td>Cali</td>\n",
              "      <td>4</td>\n",
              "      <td>Nequi</td>\n",
              "      <td>1</td>\n",
              "      <td>3.43722</td>\n",
              "      <td>-76.52250</td>\n",
              "    </tr>\n",
              "    <tr>\n",
              "      <th>4</th>\n",
              "      <td>Silla de oficina</td>\n",
              "      <td>Muebles</td>\n",
              "      <td>335200.0</td>\n",
              "      <td>20200.0</td>\n",
              "      <td>07/11/2020</td>\n",
              "      <td>Maria Alfonso</td>\n",
              "      <td>Medellín</td>\n",
              "      <td>5</td>\n",
              "      <td>Nequi</td>\n",
              "      <td>1</td>\n",
              "      <td>6.25184</td>\n",
              "      <td>-75.56359</td>\n",
              "    </tr>\n",
              "  </tbody>\n",
              "</table>\n",
              "</div>\n",
              "    <div class=\"colab-df-buttons\">\n",
              "\n",
              "  <div class=\"colab-df-container\">\n",
              "    <button class=\"colab-df-convert\" onclick=\"convertToInteractive('df-63714fa1-cfac-4d6f-b0fc-424be1484c78')\"\n",
              "            title=\"Convert this dataframe to an interactive table.\"\n",
              "            style=\"display:none;\">\n",
              "\n",
              "  <svg xmlns=\"http://www.w3.org/2000/svg\" height=\"24px\" viewBox=\"0 -960 960 960\">\n",
              "    <path d=\"M120-120v-720h720v720H120Zm60-500h600v-160H180v160Zm220 220h160v-160H400v160Zm0 220h160v-160H400v160ZM180-400h160v-160H180v160Zm440 0h160v-160H620v160ZM180-180h160v-160H180v160Zm440 0h160v-160H620v160Z\"/>\n",
              "  </svg>\n",
              "    </button>\n",
              "\n",
              "  <style>\n",
              "    .colab-df-container {\n",
              "      display:flex;\n",
              "      gap: 12px;\n",
              "    }\n",
              "\n",
              "    .colab-df-convert {\n",
              "      background-color: #E8F0FE;\n",
              "      border: none;\n",
              "      border-radius: 50%;\n",
              "      cursor: pointer;\n",
              "      display: none;\n",
              "      fill: #1967D2;\n",
              "      height: 32px;\n",
              "      padding: 0 0 0 0;\n",
              "      width: 32px;\n",
              "    }\n",
              "\n",
              "    .colab-df-convert:hover {\n",
              "      background-color: #E2EBFA;\n",
              "      box-shadow: 0px 1px 2px rgba(60, 64, 67, 0.3), 0px 1px 3px 1px rgba(60, 64, 67, 0.15);\n",
              "      fill: #174EA6;\n",
              "    }\n",
              "\n",
              "    .colab-df-buttons div {\n",
              "      margin-bottom: 4px;\n",
              "    }\n",
              "\n",
              "    [theme=dark] .colab-df-convert {\n",
              "      background-color: #3B4455;\n",
              "      fill: #D2E3FC;\n",
              "    }\n",
              "\n",
              "    [theme=dark] .colab-df-convert:hover {\n",
              "      background-color: #434B5C;\n",
              "      box-shadow: 0px 1px 3px 1px rgba(0, 0, 0, 0.15);\n",
              "      filter: drop-shadow(0px 1px 2px rgba(0, 0, 0, 0.3));\n",
              "      fill: #FFFFFF;\n",
              "    }\n",
              "  </style>\n",
              "\n",
              "    <script>\n",
              "      const buttonEl =\n",
              "        document.querySelector('#df-63714fa1-cfac-4d6f-b0fc-424be1484c78 button.colab-df-convert');\n",
              "      buttonEl.style.display =\n",
              "        google.colab.kernel.accessAllowed ? 'block' : 'none';\n",
              "\n",
              "      async function convertToInteractive(key) {\n",
              "        const element = document.querySelector('#df-63714fa1-cfac-4d6f-b0fc-424be1484c78');\n",
              "        const dataTable =\n",
              "          await google.colab.kernel.invokeFunction('convertToInteractive',\n",
              "                                                    [key], {});\n",
              "        if (!dataTable) return;\n",
              "\n",
              "        const docLinkHtml = 'Like what you see? Visit the ' +\n",
              "          '<a target=\"_blank\" href=https://colab.research.google.com/notebooks/data_table.ipynb>data table notebook</a>'\n",
              "          + ' to learn more about interactive tables.';\n",
              "        element.innerHTML = '';\n",
              "        dataTable['output_type'] = 'display_data';\n",
              "        await google.colab.output.renderOutput(dataTable, element);\n",
              "        const docLink = document.createElement('div');\n",
              "        docLink.innerHTML = docLinkHtml;\n",
              "        element.appendChild(docLink);\n",
              "      }\n",
              "    </script>\n",
              "  </div>\n",
              "\n",
              "\n",
              "<div id=\"df-199eaacc-f34d-4dfd-ae31-38603221a151\">\n",
              "  <button class=\"colab-df-quickchart\" onclick=\"quickchart('df-199eaacc-f34d-4dfd-ae31-38603221a151')\"\n",
              "            title=\"Suggest charts\"\n",
              "            style=\"display:none;\">\n",
              "\n",
              "<svg xmlns=\"http://www.w3.org/2000/svg\" height=\"24px\"viewBox=\"0 0 24 24\"\n",
              "     width=\"24px\">\n",
              "    <g>\n",
              "        <path d=\"M19 3H5c-1.1 0-2 .9-2 2v14c0 1.1.9 2 2 2h14c1.1 0 2-.9 2-2V5c0-1.1-.9-2-2-2zM9 17H7v-7h2v7zm4 0h-2V7h2v10zm4 0h-2v-4h2v4z\"/>\n",
              "    </g>\n",
              "</svg>\n",
              "  </button>\n",
              "\n",
              "<style>\n",
              "  .colab-df-quickchart {\n",
              "      --bg-color: #E8F0FE;\n",
              "      --fill-color: #1967D2;\n",
              "      --hover-bg-color: #E2EBFA;\n",
              "      --hover-fill-color: #174EA6;\n",
              "      --disabled-fill-color: #AAA;\n",
              "      --disabled-bg-color: #DDD;\n",
              "  }\n",
              "\n",
              "  [theme=dark] .colab-df-quickchart {\n",
              "      --bg-color: #3B4455;\n",
              "      --fill-color: #D2E3FC;\n",
              "      --hover-bg-color: #434B5C;\n",
              "      --hover-fill-color: #FFFFFF;\n",
              "      --disabled-bg-color: #3B4455;\n",
              "      --disabled-fill-color: #666;\n",
              "  }\n",
              "\n",
              "  .colab-df-quickchart {\n",
              "    background-color: var(--bg-color);\n",
              "    border: none;\n",
              "    border-radius: 50%;\n",
              "    cursor: pointer;\n",
              "    display: none;\n",
              "    fill: var(--fill-color);\n",
              "    height: 32px;\n",
              "    padding: 0;\n",
              "    width: 32px;\n",
              "  }\n",
              "\n",
              "  .colab-df-quickchart:hover {\n",
              "    background-color: var(--hover-bg-color);\n",
              "    box-shadow: 0 1px 2px rgba(60, 64, 67, 0.3), 0 1px 3px 1px rgba(60, 64, 67, 0.15);\n",
              "    fill: var(--button-hover-fill-color);\n",
              "  }\n",
              "\n",
              "  .colab-df-quickchart-complete:disabled,\n",
              "  .colab-df-quickchart-complete:disabled:hover {\n",
              "    background-color: var(--disabled-bg-color);\n",
              "    fill: var(--disabled-fill-color);\n",
              "    box-shadow: none;\n",
              "  }\n",
              "\n",
              "  .colab-df-spinner {\n",
              "    border: 2px solid var(--fill-color);\n",
              "    border-color: transparent;\n",
              "    border-bottom-color: var(--fill-color);\n",
              "    animation:\n",
              "      spin 1s steps(1) infinite;\n",
              "  }\n",
              "\n",
              "  @keyframes spin {\n",
              "    0% {\n",
              "      border-color: transparent;\n",
              "      border-bottom-color: var(--fill-color);\n",
              "      border-left-color: var(--fill-color);\n",
              "    }\n",
              "    20% {\n",
              "      border-color: transparent;\n",
              "      border-left-color: var(--fill-color);\n",
              "      border-top-color: var(--fill-color);\n",
              "    }\n",
              "    30% {\n",
              "      border-color: transparent;\n",
              "      border-left-color: var(--fill-color);\n",
              "      border-top-color: var(--fill-color);\n",
              "      border-right-color: var(--fill-color);\n",
              "    }\n",
              "    40% {\n",
              "      border-color: transparent;\n",
              "      border-right-color: var(--fill-color);\n",
              "      border-top-color: var(--fill-color);\n",
              "    }\n",
              "    60% {\n",
              "      border-color: transparent;\n",
              "      border-right-color: var(--fill-color);\n",
              "    }\n",
              "    80% {\n",
              "      border-color: transparent;\n",
              "      border-right-color: var(--fill-color);\n",
              "      border-bottom-color: var(--fill-color);\n",
              "    }\n",
              "    90% {\n",
              "      border-color: transparent;\n",
              "      border-bottom-color: var(--fill-color);\n",
              "    }\n",
              "  }\n",
              "</style>\n",
              "\n",
              "  <script>\n",
              "    async function quickchart(key) {\n",
              "      const quickchartButtonEl =\n",
              "        document.querySelector('#' + key + ' button');\n",
              "      quickchartButtonEl.disabled = true;  // To prevent multiple clicks.\n",
              "      quickchartButtonEl.classList.add('colab-df-spinner');\n",
              "      try {\n",
              "        const charts = await google.colab.kernel.invokeFunction(\n",
              "            'suggestCharts', [key], {});\n",
              "      } catch (error) {\n",
              "        console.error('Error during call to suggestCharts:', error);\n",
              "      }\n",
              "      quickchartButtonEl.classList.remove('colab-df-spinner');\n",
              "      quickchartButtonEl.classList.add('colab-df-quickchart-complete');\n",
              "    }\n",
              "    (() => {\n",
              "      let quickchartButtonEl =\n",
              "        document.querySelector('#df-199eaacc-f34d-4dfd-ae31-38603221a151 button');\n",
              "      quickchartButtonEl.style.display =\n",
              "        google.colab.kernel.accessAllowed ? 'block' : 'none';\n",
              "    })();\n",
              "  </script>\n",
              "</div>\n",
              "\n",
              "    </div>\n",
              "  </div>\n"
            ],
            "application/vnd.google.colaboratory.intrinsic+json": {
              "type": "dataframe",
              "variable_name": "tienda",
              "summary": "{\n  \"name\": \"tienda\",\n  \"rows\": 2359,\n  \"fields\": [\n    {\n      \"column\": \"Producto\",\n      \"properties\": {\n        \"dtype\": \"category\",\n        \"num_unique_values\": 51,\n        \"samples\": [\n          \"Guitarra ac\\u00fastica\",\n          \"Bal\\u00f3n de baloncesto\",\n          \"Smartwatch\"\n        ],\n        \"semantic_type\": \"\",\n        \"description\": \"\"\n      }\n    },\n    {\n      \"column\": \"Categor\\u00eda del Producto\",\n      \"properties\": {\n        \"dtype\": \"category\",\n        \"num_unique_values\": 8,\n        \"samples\": [\n          \"Muebles\",\n          \"Deportes y diversi\\u00f3n\",\n          \"Electr\\u00f3nicos\"\n        ],\n        \"semantic_type\": \"\",\n        \"description\": \"\"\n      }\n    },\n    {\n      \"column\": \"Precio\",\n      \"properties\": {\n        \"dtype\": \"number\",\n        \"std\": 614686.7653873172,\n        \"min\": 7600.0,\n        \"max\": 2977000.0,\n        \"num_unique_values\": 1937,\n        \"samples\": [\n          2499400.0,\n          14800.0,\n          80500.0\n        ],\n        \"semantic_type\": \"\",\n        \"description\": \"\"\n      }\n    },\n    {\n      \"column\": \"Costo de env\\u00edo\",\n      \"properties\": {\n        \"dtype\": \"number\",\n        \"std\": 32860.0017825605,\n        \"min\": 0.0,\n        \"max\": 160800.0,\n        \"num_unique_values\": 753,\n        \"samples\": [\n          117800.0,\n          54700.0,\n          45600.0\n        ],\n        \"semantic_type\": \"\",\n        \"description\": \"\"\n      }\n    },\n    {\n      \"column\": \"Fecha de Compra\",\n      \"properties\": {\n        \"dtype\": \"object\",\n        \"num_unique_values\": 1018,\n        \"samples\": [\n          \"15/09/2022\",\n          \"03/06/2020\",\n          \"06/11/2021\"\n        ],\n        \"semantic_type\": \"\",\n        \"description\": \"\"\n      }\n    },\n    {\n      \"column\": \"Vendedor\",\n      \"properties\": {\n        \"dtype\": \"category\",\n        \"num_unique_values\": 14,\n        \"samples\": [\n          \"Juliana Costa\",\n          \"Mariana Herrera\",\n          \"Pedro Gomez\"\n        ],\n        \"semantic_type\": \"\",\n        \"description\": \"\"\n      }\n    },\n    {\n      \"column\": \"Lugar de Compra\",\n      \"properties\": {\n        \"dtype\": \"category\",\n        \"num_unique_values\": 19,\n        \"samples\": [\n          \"Bogot\\u00e1\",\n          \"Pereira\",\n          \"Neiva\"\n        ],\n        \"semantic_type\": \"\",\n        \"description\": \"\"\n      }\n    },\n    {\n      \"column\": \"Calificaci\\u00f3n\",\n      \"properties\": {\n        \"dtype\": \"number\",\n        \"std\": 1,\n        \"min\": 1,\n        \"max\": 5,\n        \"num_unique_values\": 5,\n        \"samples\": [\n          1,\n          2,\n          5\n        ],\n        \"semantic_type\": \"\",\n        \"description\": \"\"\n      }\n    },\n    {\n      \"column\": \"M\\u00e9todo de pago\",\n      \"properties\": {\n        \"dtype\": \"category\",\n        \"num_unique_values\": 4,\n        \"samples\": [\n          \"Nequi\",\n          \"Tarjeta de d\\u00e9bito\",\n          \"Tarjeta de cr\\u00e9dito\"\n        ],\n        \"semantic_type\": \"\",\n        \"description\": \"\"\n      }\n    },\n    {\n      \"column\": \"Cantidad de cuotas\",\n      \"properties\": {\n        \"dtype\": \"number\",\n        \"std\": 2,\n        \"min\": 1,\n        \"max\": 24,\n        \"num_unique_values\": 15,\n        \"samples\": [\n          7,\n          14,\n          8\n        ],\n        \"semantic_type\": \"\",\n        \"description\": \"\"\n      }\n    },\n    {\n      \"column\": \"lat\",\n      \"properties\": {\n        \"dtype\": \"number\",\n        \"std\": 2.2874452492678627,\n        \"min\": -4.21528,\n        \"max\": 11.54444,\n        \"num_unique_values\": 19,\n        \"samples\": [\n          4.60971,\n          4.81333,\n          2.9273\n        ],\n        \"semantic_type\": \"\",\n        \"description\": \"\"\n      }\n    },\n    {\n      \"column\": \"lon\",\n      \"properties\": {\n        \"dtype\": \"number\",\n        \"std\": 1.2178272727088486,\n        \"min\": -77.28111,\n        \"max\": -67.9239,\n        \"num_unique_values\": 19,\n        \"samples\": [\n          -74.08175,\n          -75.69611,\n          -75.28189\n        ],\n        \"semantic_type\": \"\",\n        \"description\": \"\"\n      }\n    }\n  ]\n}"
            }
          },
          "metadata": {},
          "execution_count": 1
        }
      ],
      "source": [
        "import pandas as pd\n",
        "\n",
        "url = \"https://raw.githubusercontent.com/alura-es-cursos/challenge1-data-science-latam/refs/heads/main/base-de-datos-challenge1-latam/tienda_1%20.csv\"\n",
        "url2 = \"https://raw.githubusercontent.com/alura-es-cursos/challenge1-data-science-latam/refs/heads/main/base-de-datos-challenge1-latam/tienda_2.csv\"\n",
        "url3 = \"https://raw.githubusercontent.com/alura-es-cursos/challenge1-data-science-latam/refs/heads/main/base-de-datos-challenge1-latam/tienda_3.csv\"\n",
        "url4 = \"https://raw.githubusercontent.com/alura-es-cursos/challenge1-data-science-latam/refs/heads/main/base-de-datos-challenge1-latam/tienda_4.csv\"\n",
        "\n",
        "tienda = pd.read_csv(url)\n",
        "tienda2 = pd.read_csv(url2)\n",
        "tienda3 = pd.read_csv(url3)\n",
        "tienda4 = pd.read_csv(url4)\n",
        "\n",
        "tienda.head()"
      ]
    },
    {
      "cell_type": "code",
      "source": [
        "# Contar en cuántas tiendas aparece cada vendedor\n",
        "vendedores_repetidos = tienda_unificada.groupby('Vendedor')['tienda'].nunique().reset_index()\n",
        "vendedores_repetidos.rename(columns={'tienda': 'numero_tiendas'}, inplace=True)\n",
        "\n",
        "# Filtrar vendedores que aparecen en más de una tienda\n",
        "vendedores_repetidos = vendedores_repetidos[vendedores_repetidos['numero_tiendas'] > 1]\n",
        "\n",
        "# Mostrar vendedores repetidos\n",
        "print(\"\\nVendedores que aparecen en más de una tienda:\")\n",
        "print(vendedores_repetidos)"
      ],
      "metadata": {
        "colab": {
          "base_uri": "https://localhost:8080/"
        },
        "collapsed": true,
        "id": "FqprrKbz0Zx3",
        "outputId": "244c1d87-7e06-44cb-f1a9-db576ab75af0"
      },
      "execution_count": null,
      "outputs": [
        {
          "output_type": "stream",
          "name": "stdout",
          "text": [
            "\n",
            "Vendedores que aparecen en más de una tienda:\n",
            "           Vendedor  numero_tiendas\n",
            "0   Beatriz Morales               4\n",
            "1    Blanca Ramirez               4\n",
            "2     Camila Rivera               4\n",
            "3     Felipe Santos               4\n",
            "4   Izabela de León               4\n",
            "5    Juan Fernandez               4\n",
            "6     Juliana Costa               4\n",
            "7     Lucas Olivera               4\n",
            "8     Maria Alfonso               4\n",
            "9   Mariana Herrera               4\n",
            "10      Pedro Gomez               4\n",
            "11    Rafael Acosta               4\n",
            "12   Santiago Silva               4\n",
            "13  Ángel Rodriguez               4\n"
          ]
        }
      ]
    },
    {
      "cell_type": "code",
      "source": [
        "# Contar el número de lugares de compra únicos\n",
        "lugares_compra_unicos = tienda_unificada['Lugar de Compra'].nunique()\n",
        "\n",
        "# Mostrar el resultado\n",
        "print(f\"\\nNúmero total de lugares de compra únicos: {lugares_compra_unicos}\")"
      ],
      "metadata": {
        "colab": {
          "base_uri": "https://localhost:8080/"
        },
        "collapsed": true,
        "id": "SZcuG8i4AK-Q",
        "outputId": "c688d4be-fee4-4304-f70c-64e3f38304ed"
      },
      "execution_count": null,
      "outputs": [
        {
          "output_type": "stream",
          "name": "stdout",
          "text": [
            "\n",
            "Número total de lugares de compra únicos: 19\n"
          ]
        }
      ]
    },
    {
      "cell_type": "code",
      "source": [
        "# Obtener una lista de todos los lugares de compra únicos\n",
        "lista_lugares_compra = tienda_unificada['Lugar de Compra'].unique()\n",
        "\n",
        "# Mostrar la lista\n",
        "print(\"\\nLista de lugares de compra únicos:\")\n",
        "print(lista_lugares_compra)"
      ],
      "metadata": {
        "colab": {
          "base_uri": "https://localhost:8080/"
        },
        "collapsed": true,
        "id": "_09jP3ViAPg_",
        "outputId": "0ef3008f-7a08-4c91-b7ce-4904cdda3ec7"
      },
      "execution_count": null,
      "outputs": [
        {
          "output_type": "stream",
          "name": "stdout",
          "text": [
            "\n",
            "Lista de lugares de compra únicos:\n",
            "['Bogotá' 'Medellín' 'Cartagena' 'Cali' 'Santa Marta' 'Pereira'\n",
            " 'Barranquilla' 'Villavicencio' 'Inírida' 'Cúcuta' 'Manizales' 'Neiva'\n",
            " 'Bucaramanga' 'Valledupar' 'Pasto' 'Riohacha' 'Armenia' 'Leticia'\n",
            " 'Soacha']\n"
          ]
        }
      ]
    },
    {
      "cell_type": "code",
      "source": [
        "# Calcular el total de ventas por lugar de compra\n",
        "ventas_por_lugar = tienda_unificada.groupby('Lugar de Compra').agg(\n",
        "    total_ventas=('Precio', 'sum'),\n",
        "    numero_transacciones=('Precio', 'count')\n",
        ").reset_index()\n",
        "\n",
        "# Ordenar por total de ventas descendente\n",
        "ventas_por_lugar = ventas_por_lugar.sort_values(by='total_ventas', ascending=False)\n",
        "\n",
        "# Mostrar los resultados\n",
        "print(\"\\nVentas totales por lugar de compra:\")\n",
        "print(ventas_por_lugar)"
      ],
      "metadata": {
        "colab": {
          "base_uri": "https://localhost:8080/"
        },
        "collapsed": true,
        "id": "hBvosqn4Ag-u",
        "outputId": "a0bd6ed8-2557-4920-82da-0e09635bb48c"
      },
      "execution_count": null,
      "outputs": [
        {
          "output_type": "stream",
          "name": "stdout",
          "text": [
            "\n",
            "Ventas totales por lugar de compra:\n",
            "   Lugar de Compra  total_ventas  numero_transacciones\n",
            "2           Bogotá  1.814858e+09                  3943\n",
            "10        Medellín  1.096669e+09                  2314\n",
            "4             Cali  5.065261e+08                  1007\n",
            "13         Pereira  2.259273e+08                   517\n",
            "1     Barranquilla  1.320405e+08                   310\n",
            "5        Cartagena  1.023767e+08                   242\n",
            "6           Cúcuta  9.936910e+07                   186\n",
            "3      Bucaramanga  9.057330e+07                   181\n",
            "14        Riohacha  7.387970e+07                   163\n",
            "8          Leticia  6.714990e+07                   142\n",
            "15     Santa Marta  5.310050e+07                   151\n",
            "12           Pasto  4.901430e+07                    94\n",
            "11           Neiva  2.089800e+07                    40\n",
            "9        Manizales  1.936790e+07                    41\n",
            "18   Villavicencio  1.333360e+07                    29\n",
            "16          Soacha  1.231770e+07                    19\n",
            "0          Armenia  1.224290e+07                    28\n",
            "7          Inírida  8.087900e+06                    14\n",
            "17      Valledupar  5.886300e+06                    14\n"
          ]
        }
      ]
    },
    {
      "cell_type": "code",
      "source": [
        "# Calcular el total de ventas por lugar de compra\n",
        "ventas_por_lugar = tienda_unificada.groupby('Lugar de Compra').agg(\n",
        "    total_ventas=('Precio', 'sum'),\n",
        "    lat=('lat', 'first'),  # Tomar la primera latitud disponible\n",
        "    lon=('lon', 'first')   # Tomar la primera longitud disponible\n",
        ").reset_index()\n",
        "\n",
        "# Ordenar por total de ventas descendente\n",
        "ventas_por_lugar = ventas_por_lugar.sort_values(by='total_ventas', ascending=False)\n",
        "\n",
        "# Mostrar los resultados\n",
        "print(\"\\nVentas totales por lugar de compra:\")\n",
        "print(ventas_por_lugar)"
      ],
      "metadata": {
        "colab": {
          "base_uri": "https://localhost:8080/"
        },
        "collapsed": true,
        "id": "Vziq7axPBNSU",
        "outputId": "5f8e11cd-2cea-4235-e3ac-2b4e2e64e66a"
      },
      "execution_count": null,
      "outputs": [
        {
          "output_type": "stream",
          "name": "stdout",
          "text": [
            "\n",
            "Ventas totales por lugar de compra:\n",
            "   Lugar de Compra  total_ventas       lat       lon\n",
            "2           Bogotá  1.814858e+09   4.60971 -74.08175\n",
            "10        Medellín  1.096669e+09   6.25184 -75.56359\n",
            "4             Cali  5.065261e+08   3.43722 -76.52250\n",
            "13         Pereira  2.259273e+08   4.81333 -75.69611\n",
            "1     Barranquilla  1.320405e+08  10.96854 -74.78132\n",
            "5        Cartagena  1.023767e+08  10.39972 -75.51444\n",
            "6           Cúcuta  9.936910e+07   7.89391 -72.50782\n",
            "3      Bucaramanga  9.057330e+07   7.12539 -73.11980\n",
            "14        Riohacha  7.387970e+07  11.54444 -72.90722\n",
            "8          Leticia  6.714990e+07  -4.21528 -69.94056\n",
            "15     Santa Marta  5.310050e+07  11.24079 -74.19904\n",
            "12           Pasto  4.901430e+07   1.21361 -77.28111\n",
            "11           Neiva  2.089800e+07   2.92730 -75.28189\n",
            "9        Manizales  1.936790e+07   5.06889 -75.51738\n",
            "18   Villavicencio  1.333360e+07   4.14200 -73.62664\n",
            "16          Soacha  1.231770e+07   4.57937 -74.21682\n",
            "0          Armenia  1.224290e+07   4.53389 -75.68111\n",
            "7          Inírida  8.087900e+06   3.86530 -67.92390\n",
            "17      Valledupar  5.886300e+06  10.46314 -73.25322\n"
          ]
        }
      ]
    },
    {
      "cell_type": "code",
      "source": [
        "import folium\n",
        "\n",
        "# Crear un mapa centrado en Colombia\n",
        "mapa = folium.Map(location=[4.5709, -74.2973], zoom_start=6)\n",
        "\n",
        "# Normalizar el tamaño de los círculos (ajustar entre 500 y 50000)\n",
        "max_ventas = ventas_por_lugar['total_ventas'].max()\n",
        "min_ventas = ventas_por_lugar['total_ventas'].min()\n",
        "ventas_por_lugar['radio'] = ((ventas_por_lugar['total_ventas'] - min_ventas) / (max_ventas - min_ventas)) * 49500 + 500\n",
        "\n",
        "# Agregar círculos para cada lugar de compra\n",
        "for _, fila in ventas_por_lugar.iterrows():\n",
        "    lugar = fila['Lugar de Compra']\n",
        "    lat, lon = fila['lat'], fila['lon']\n",
        "    radio = fila['radio']\n",
        "    total_ventas = fila['total_ventas']\n",
        "\n",
        "    folium.Circle(\n",
        "        location=[lat, lon],\n",
        "        radius=radio,\n",
        "        color='blue',\n",
        "        fill=True,\n",
        "        fill_color='blue',\n",
        "        fill_opacity=0.6,\n",
        "        popup=f\"Lugar: {lugar}<br>Ventas totales: {total_ventas:.2f}\"\n",
        "    ).add_to(mapa)\n",
        "\n",
        "# Mostrar el mapa\n",
        "mapa"
      ],
      "metadata": {
        "colab": {
          "base_uri": "https://localhost:8080/",
          "height": 903
        },
        "id": "RmqWf7IiBRxV",
        "outputId": "98b35c58-d968-42a7-9857-c36ddb7d9358"
      },
      "execution_count": null,
      "outputs": [
        {
          "output_type": "execute_result",
          "data": {
            "text/plain": [
              "<folium.folium.Map at 0x7e27bde3e090>"
            ],
            "text/html": [
              "<div style=\"width:100%;\"><div style=\"position:relative;width:100%;height:0;padding-bottom:60%;\"><span style=\"color:#565656\">Make this Notebook Trusted to load map: File -> Trust Notebook</span><iframe srcdoc=\"&lt;!DOCTYPE html&gt;\n",
              "&lt;html&gt;\n",
              "&lt;head&gt;\n",
              "    \n",
              "    &lt;meta http-equiv=&quot;content-type&quot; content=&quot;text/html; charset=UTF-8&quot; /&gt;\n",
              "    \n",
              "        &lt;script&gt;\n",
              "            L_NO_TOUCH = false;\n",
              "            L_DISABLE_3D = false;\n",
              "        &lt;/script&gt;\n",
              "    \n",
              "    &lt;style&gt;html, body {width: 100%;height: 100%;margin: 0;padding: 0;}&lt;/style&gt;\n",
              "    &lt;style&gt;#map {position:absolute;top:0;bottom:0;right:0;left:0;}&lt;/style&gt;\n",
              "    &lt;script src=&quot;https://cdn.jsdelivr.net/npm/leaflet@1.9.3/dist/leaflet.js&quot;&gt;&lt;/script&gt;\n",
              "    &lt;script src=&quot;https://code.jquery.com/jquery-3.7.1.min.js&quot;&gt;&lt;/script&gt;\n",
              "    &lt;script src=&quot;https://cdn.jsdelivr.net/npm/bootstrap@5.2.2/dist/js/bootstrap.bundle.min.js&quot;&gt;&lt;/script&gt;\n",
              "    &lt;script src=&quot;https://cdnjs.cloudflare.com/ajax/libs/Leaflet.awesome-markers/2.0.2/leaflet.awesome-markers.js&quot;&gt;&lt;/script&gt;\n",
              "    &lt;link rel=&quot;stylesheet&quot; href=&quot;https://cdn.jsdelivr.net/npm/leaflet@1.9.3/dist/leaflet.css&quot;/&gt;\n",
              "    &lt;link rel=&quot;stylesheet&quot; href=&quot;https://cdn.jsdelivr.net/npm/bootstrap@5.2.2/dist/css/bootstrap.min.css&quot;/&gt;\n",
              "    &lt;link rel=&quot;stylesheet&quot; href=&quot;https://netdna.bootstrapcdn.com/bootstrap/3.0.0/css/bootstrap-glyphicons.css&quot;/&gt;\n",
              "    &lt;link rel=&quot;stylesheet&quot; href=&quot;https://cdn.jsdelivr.net/npm/@fortawesome/fontawesome-free@6.2.0/css/all.min.css&quot;/&gt;\n",
              "    &lt;link rel=&quot;stylesheet&quot; href=&quot;https://cdnjs.cloudflare.com/ajax/libs/Leaflet.awesome-markers/2.0.2/leaflet.awesome-markers.css&quot;/&gt;\n",
              "    &lt;link rel=&quot;stylesheet&quot; href=&quot;https://cdn.jsdelivr.net/gh/python-visualization/folium/folium/templates/leaflet.awesome.rotate.min.css&quot;/&gt;\n",
              "    \n",
              "            &lt;meta name=&quot;viewport&quot; content=&quot;width=device-width,\n",
              "                initial-scale=1.0, maximum-scale=1.0, user-scalable=no&quot; /&gt;\n",
              "            &lt;style&gt;\n",
              "                #map_dbce93ce42de1d0f8d6579984b7041c0 {\n",
              "                    position: relative;\n",
              "                    width: 100.0%;\n",
              "                    height: 100.0%;\n",
              "                    left: 0.0%;\n",
              "                    top: 0.0%;\n",
              "                }\n",
              "                .leaflet-container { font-size: 1rem; }\n",
              "            &lt;/style&gt;\n",
              "        \n",
              "&lt;/head&gt;\n",
              "&lt;body&gt;\n",
              "    \n",
              "    \n",
              "            &lt;div class=&quot;folium-map&quot; id=&quot;map_dbce93ce42de1d0f8d6579984b7041c0&quot; &gt;&lt;/div&gt;\n",
              "        \n",
              "&lt;/body&gt;\n",
              "&lt;script&gt;\n",
              "    \n",
              "    \n",
              "            var map_dbce93ce42de1d0f8d6579984b7041c0 = L.map(\n",
              "                &quot;map_dbce93ce42de1d0f8d6579984b7041c0&quot;,\n",
              "                {\n",
              "                    center: [4.5709, -74.2973],\n",
              "                    crs: L.CRS.EPSG3857,\n",
              "                    ...{\n",
              "  &quot;zoom&quot;: 6,\n",
              "  &quot;zoomControl&quot;: true,\n",
              "  &quot;preferCanvas&quot;: false,\n",
              "}\n",
              "\n",
              "                }\n",
              "            );\n",
              "\n",
              "            \n",
              "\n",
              "        \n",
              "    \n",
              "            var tile_layer_c6799184ea03243a2f49641086dcaa10 = L.tileLayer(\n",
              "                &quot;https://tile.openstreetmap.org/{z}/{x}/{y}.png&quot;,\n",
              "                {\n",
              "  &quot;minZoom&quot;: 0,\n",
              "  &quot;maxZoom&quot;: 19,\n",
              "  &quot;maxNativeZoom&quot;: 19,\n",
              "  &quot;noWrap&quot;: false,\n",
              "  &quot;attribution&quot;: &quot;\\u0026copy; \\u003ca href=\\&quot;https://www.openstreetmap.org/copyright\\&quot;\\u003eOpenStreetMap\\u003c/a\\u003e contributors&quot;,\n",
              "  &quot;subdomains&quot;: &quot;abc&quot;,\n",
              "  &quot;detectRetina&quot;: false,\n",
              "  &quot;tms&quot;: false,\n",
              "  &quot;opacity&quot;: 1,\n",
              "}\n",
              "\n",
              "            );\n",
              "        \n",
              "    \n",
              "            tile_layer_c6799184ea03243a2f49641086dcaa10.addTo(map_dbce93ce42de1d0f8d6579984b7041c0);\n",
              "        \n",
              "    \n",
              "            var circle_145242f75b86bd01a549fc5b4d8ed500 = L.circle(\n",
              "                [4.60971, -74.08175],\n",
              "                {&quot;bubblingMouseEvents&quot;: true, &quot;color&quot;: &quot;blue&quot;, &quot;dashArray&quot;: null, &quot;dashOffset&quot;: null, &quot;fill&quot;: true, &quot;fillColor&quot;: &quot;blue&quot;, &quot;fillOpacity&quot;: 0.6, &quot;fillRule&quot;: &quot;evenodd&quot;, &quot;lineCap&quot;: &quot;round&quot;, &quot;lineJoin&quot;: &quot;round&quot;, &quot;opacity&quot;: 1.0, &quot;radius&quot;: 50000.0, &quot;stroke&quot;: true, &quot;weight&quot;: 3}\n",
              "            ).addTo(map_dbce93ce42de1d0f8d6579984b7041c0);\n",
              "        \n",
              "    \n",
              "        var popup_3eb1fee7631fec573446ae41554d7f1d = L.popup({\n",
              "  &quot;maxWidth&quot;: &quot;100%&quot;,\n",
              "});\n",
              "\n",
              "        \n",
              "            \n",
              "                var html_9a14f96c6fb844b9c0eb9c70f460cb57 = $(`&lt;div id=&quot;html_9a14f96c6fb844b9c0eb9c70f460cb57&quot; style=&quot;width: 100.0%; height: 100.0%;&quot;&gt;Lugar: Bogotá&lt;br&gt;Ventas totales: 1814858300.00&lt;/div&gt;`)[0];\n",
              "                popup_3eb1fee7631fec573446ae41554d7f1d.setContent(html_9a14f96c6fb844b9c0eb9c70f460cb57);\n",
              "            \n",
              "        \n",
              "\n",
              "        circle_145242f75b86bd01a549fc5b4d8ed500.bindPopup(popup_3eb1fee7631fec573446ae41554d7f1d)\n",
              "        ;\n",
              "\n",
              "        \n",
              "    \n",
              "    \n",
              "            var circle_a252320f2b73330b3805f68a13474387 = L.circle(\n",
              "                [6.25184, -75.56359],\n",
              "                {&quot;bubblingMouseEvents&quot;: true, &quot;color&quot;: &quot;blue&quot;, &quot;dashArray&quot;: null, &quot;dashOffset&quot;: null, &quot;fill&quot;: true, &quot;fillColor&quot;: &quot;blue&quot;, &quot;fillOpacity&quot;: 0.6, &quot;fillRule&quot;: &quot;evenodd&quot;, &quot;lineCap&quot;: &quot;round&quot;, &quot;lineJoin&quot;: &quot;round&quot;, &quot;opacity&quot;: 1.0, &quot;radius&quot;: 30347.755272055067, &quot;stroke&quot;: true, &quot;weight&quot;: 3}\n",
              "            ).addTo(map_dbce93ce42de1d0f8d6579984b7041c0);\n",
              "        \n",
              "    \n",
              "        var popup_2eb9420c9ab4d7b547e6f6fad7975fd9 = L.popup({\n",
              "  &quot;maxWidth&quot;: &quot;100%&quot;,\n",
              "});\n",
              "\n",
              "        \n",
              "            \n",
              "                var html_d8f0f13eeebb9a716866a305c5e24eab = $(`&lt;div id=&quot;html_d8f0f13eeebb9a716866a305c5e24eab&quot; style=&quot;width: 100.0%; height: 100.0%;&quot;&gt;Lugar: Medellín&lt;br&gt;Ventas totales: 1096669200.00&lt;/div&gt;`)[0];\n",
              "                popup_2eb9420c9ab4d7b547e6f6fad7975fd9.setContent(html_d8f0f13eeebb9a716866a305c5e24eab);\n",
              "            \n",
              "        \n",
              "\n",
              "        circle_a252320f2b73330b3805f68a13474387.bindPopup(popup_2eb9420c9ab4d7b547e6f6fad7975fd9)\n",
              "        ;\n",
              "\n",
              "        \n",
              "    \n",
              "    \n",
              "            var circle_503bbe6356c32cf0be54f3178439879e = L.circle(\n",
              "                [3.43722, -76.5225],\n",
              "                {&quot;bubblingMouseEvents&quot;: true, &quot;color&quot;: &quot;blue&quot;, &quot;dashArray&quot;: null, &quot;dashOffset&quot;: null, &quot;fill&quot;: true, &quot;fillColor&quot;: &quot;blue&quot;, &quot;fillOpacity&quot;: 0.6, &quot;fillRule&quot;: &quot;evenodd&quot;, &quot;lineCap&quot;: &quot;round&quot;, &quot;lineJoin&quot;: &quot;round&quot;, &quot;opacity&quot;: 1.0, &quot;radius&quot;: 14199.311045168195, &quot;stroke&quot;: true, &quot;weight&quot;: 3}\n",
              "            ).addTo(map_dbce93ce42de1d0f8d6579984b7041c0);\n",
              "        \n",
              "    \n",
              "        var popup_d2e8e9cdd0286a9879794da48baf283e = L.popup({\n",
              "  &quot;maxWidth&quot;: &quot;100%&quot;,\n",
              "});\n",
              "\n",
              "        \n",
              "            \n",
              "                var html_171f12deb4c10641c6d26dd51f825011 = $(`&lt;div id=&quot;html_171f12deb4c10641c6d26dd51f825011&quot; style=&quot;width: 100.0%; height: 100.0%;&quot;&gt;Lugar: Cali&lt;br&gt;Ventas totales: 506526100.00&lt;/div&gt;`)[0];\n",
              "                popup_d2e8e9cdd0286a9879794da48baf283e.setContent(html_171f12deb4c10641c6d26dd51f825011);\n",
              "            \n",
              "        \n",
              "\n",
              "        circle_503bbe6356c32cf0be54f3178439879e.bindPopup(popup_d2e8e9cdd0286a9879794da48baf283e)\n",
              "        ;\n",
              "\n",
              "        \n",
              "    \n",
              "    \n",
              "            var circle_8adf33313bd9934a4afe05df59690805 = L.circle(\n",
              "                [4.81333, -75.69611],\n",
              "                {&quot;bubblingMouseEvents&quot;: true, &quot;color&quot;: &quot;blue&quot;, &quot;dashArray&quot;: null, &quot;dashOffset&quot;: null, &quot;fill&quot;: true, &quot;fillColor&quot;: &quot;blue&quot;, &quot;fillOpacity&quot;: 0.6, &quot;fillRule&quot;: &quot;evenodd&quot;, &quot;lineCap&quot;: &quot;round&quot;, &quot;lineJoin&quot;: &quot;round&quot;, &quot;opacity&quot;: 1.0, &quot;radius&quot;: 6521.115583878578, &quot;stroke&quot;: true, &quot;weight&quot;: 3}\n",
              "            ).addTo(map_dbce93ce42de1d0f8d6579984b7041c0);\n",
              "        \n",
              "    \n",
              "        var popup_de917f49aceac82648c182b0e3e89c41 = L.popup({\n",
              "  &quot;maxWidth&quot;: &quot;100%&quot;,\n",
              "});\n",
              "\n",
              "        \n",
              "            \n",
              "                var html_79ad253993cd0e40d147134e2f2c4016 = $(`&lt;div id=&quot;html_79ad253993cd0e40d147134e2f2c4016&quot; style=&quot;width: 100.0%; height: 100.0%;&quot;&gt;Lugar: Pereira&lt;br&gt;Ventas totales: 225927300.00&lt;/div&gt;`)[0];\n",
              "                popup_de917f49aceac82648c182b0e3e89c41.setContent(html_79ad253993cd0e40d147134e2f2c4016);\n",
              "            \n",
              "        \n",
              "\n",
              "        circle_8adf33313bd9934a4afe05df59690805.bindPopup(popup_de917f49aceac82648c182b0e3e89c41)\n",
              "        ;\n",
              "\n",
              "        \n",
              "    \n",
              "    \n",
              "            var circle_62d3214421b571e4099c3c46a2a6f313 = L.circle(\n",
              "                [10.96854, -74.78132],\n",
              "                {&quot;bubblingMouseEvents&quot;: true, &quot;color&quot;: &quot;blue&quot;, &quot;dashArray&quot;: null, &quot;dashOffset&quot;: null, &quot;fill&quot;: true, &quot;fillColor&quot;: &quot;blue&quot;, &quot;fillOpacity&quot;: 0.6, &quot;fillRule&quot;: &quot;evenodd&quot;, &quot;lineCap&quot;: &quot;round&quot;, &quot;lineJoin&quot;: &quot;round&quot;, &quot;opacity&quot;: 1.0, &quot;radius&quot;: 3952.034028166274, &quot;stroke&quot;: true, &quot;weight&quot;: 3}\n",
              "            ).addTo(map_dbce93ce42de1d0f8d6579984b7041c0);\n",
              "        \n",
              "    \n",
              "        var popup_ab3629d5bcab961913e7749a18ade2b1 = L.popup({\n",
              "  &quot;maxWidth&quot;: &quot;100%&quot;,\n",
              "});\n",
              "\n",
              "        \n",
              "            \n",
              "                var html_3e7b2206d178ce574f5b273bf4b59ac9 = $(`&lt;div id=&quot;html_3e7b2206d178ce574f5b273bf4b59ac9&quot; style=&quot;width: 100.0%; height: 100.0%;&quot;&gt;Lugar: Barranquilla&lt;br&gt;Ventas totales: 132040500.00&lt;/div&gt;`)[0];\n",
              "                popup_ab3629d5bcab961913e7749a18ade2b1.setContent(html_3e7b2206d178ce574f5b273bf4b59ac9);\n",
              "            \n",
              "        \n",
              "\n",
              "        circle_62d3214421b571e4099c3c46a2a6f313.bindPopup(popup_ab3629d5bcab961913e7749a18ade2b1)\n",
              "        ;\n",
              "\n",
              "        \n",
              "    \n",
              "    \n",
              "            var circle_6fc44b1a2ca1a3a3d727ba55b9ef6ef0 = L.circle(\n",
              "                [10.39972, -75.51444],\n",
              "                {&quot;bubblingMouseEvents&quot;: true, &quot;color&quot;: &quot;blue&quot;, &quot;dashArray&quot;: null, &quot;dashOffset&quot;: null, &quot;fill&quot;: true, &quot;fillColor&quot;: &quot;blue&quot;, &quot;fillOpacity&quot;: 0.6, &quot;fillRule&quot;: &quot;evenodd&quot;, &quot;lineCap&quot;: &quot;round&quot;, &quot;lineJoin&quot;: &quot;round&quot;, &quot;opacity&quot;: 1.0, &quot;radius&quot;: 3140.325444506604, &quot;stroke&quot;: true, &quot;weight&quot;: 3}\n",
              "            ).addTo(map_dbce93ce42de1d0f8d6579984b7041c0);\n",
              "        \n",
              "    \n",
              "        var popup_636d60cec21a99bdd5c9fc88f36a1501 = L.popup({\n",
              "  &quot;maxWidth&quot;: &quot;100%&quot;,\n",
              "});\n",
              "\n",
              "        \n",
              "            \n",
              "                var html_0c2e87b91e1bb2ca136c64eae848e1a4 = $(`&lt;div id=&quot;html_0c2e87b91e1bb2ca136c64eae848e1a4&quot; style=&quot;width: 100.0%; height: 100.0%;&quot;&gt;Lugar: Cartagena&lt;br&gt;Ventas totales: 102376700.00&lt;/div&gt;`)[0];\n",
              "                popup_636d60cec21a99bdd5c9fc88f36a1501.setContent(html_0c2e87b91e1bb2ca136c64eae848e1a4);\n",
              "            \n",
              "        \n",
              "\n",
              "        circle_6fc44b1a2ca1a3a3d727ba55b9ef6ef0.bindPopup(popup_636d60cec21a99bdd5c9fc88f36a1501)\n",
              "        ;\n",
              "\n",
              "        \n",
              "    \n",
              "    \n",
              "            var circle_dca44498a590ec3272c1260eb276bf6c = L.circle(\n",
              "                [7.89391, -72.50782],\n",
              "                {&quot;bubblingMouseEvents&quot;: true, &quot;color&quot;: &quot;blue&quot;, &quot;dashArray&quot;: null, &quot;dashOffset&quot;: null, &quot;fill&quot;: true, &quot;fillColor&quot;: &quot;blue&quot;, &quot;fillOpacity&quot;: 0.6, &quot;fillRule&quot;: &quot;evenodd&quot;, &quot;lineCap&quot;: &quot;round&quot;, &quot;lineJoin&quot;: &quot;round&quot;, &quot;opacity&quot;: 1.0, &quot;radius&quot;: 3058.0266582346217, &quot;stroke&quot;: true, &quot;weight&quot;: 3}\n",
              "            ).addTo(map_dbce93ce42de1d0f8d6579984b7041c0);\n",
              "        \n",
              "    \n",
              "        var popup_f8a5b1d28a95dd7b1a72db0b9ea4dcfd = L.popup({\n",
              "  &quot;maxWidth&quot;: &quot;100%&quot;,\n",
              "});\n",
              "\n",
              "        \n",
              "            \n",
              "                var html_61d963734fd768bbda7d52afad3fe956 = $(`&lt;div id=&quot;html_61d963734fd768bbda7d52afad3fe956&quot; style=&quot;width: 100.0%; height: 100.0%;&quot;&gt;Lugar: Cúcuta&lt;br&gt;Ventas totales: 99369100.00&lt;/div&gt;`)[0];\n",
              "                popup_f8a5b1d28a95dd7b1a72db0b9ea4dcfd.setContent(html_61d963734fd768bbda7d52afad3fe956);\n",
              "            \n",
              "        \n",
              "\n",
              "        circle_dca44498a590ec3272c1260eb276bf6c.bindPopup(popup_f8a5b1d28a95dd7b1a72db0b9ea4dcfd)\n",
              "        ;\n",
              "\n",
              "        \n",
              "    \n",
              "    \n",
              "            var circle_db6ea2ffd0a1bf78dc29aa433f0efcc9 = L.circle(\n",
              "                [7.12539, -73.1198],\n",
              "                {&quot;bubblingMouseEvents&quot;: true, &quot;color&quot;: &quot;blue&quot;, &quot;dashArray&quot;: null, &quot;dashOffset&quot;: null, &quot;fill&quot;: true, &quot;fillColor&quot;: &quot;blue&quot;, &quot;fillOpacity&quot;: 0.6, &quot;fillRule&quot;: &quot;evenodd&quot;, &quot;lineCap&quot;: &quot;round&quot;, &quot;lineJoin&quot;: &quot;round&quot;, &quot;opacity&quot;: 1.0, &quot;radius&quot;: 2817.3418383479675, &quot;stroke&quot;: true, &quot;weight&quot;: 3}\n",
              "            ).addTo(map_dbce93ce42de1d0f8d6579984b7041c0);\n",
              "        \n",
              "    \n",
              "        var popup_2e26ccfb37270b248ebfa4d4352e499b = L.popup({\n",
              "  &quot;maxWidth&quot;: &quot;100%&quot;,\n",
              "});\n",
              "\n",
              "        \n",
              "            \n",
              "                var html_8b482159267027eddfe86179f52b69c5 = $(`&lt;div id=&quot;html_8b482159267027eddfe86179f52b69c5&quot; style=&quot;width: 100.0%; height: 100.0%;&quot;&gt;Lugar: Bucaramanga&lt;br&gt;Ventas totales: 90573300.00&lt;/div&gt;`)[0];\n",
              "                popup_2e26ccfb37270b248ebfa4d4352e499b.setContent(html_8b482159267027eddfe86179f52b69c5);\n",
              "            \n",
              "        \n",
              "\n",
              "        circle_db6ea2ffd0a1bf78dc29aa433f0efcc9.bindPopup(popup_2e26ccfb37270b248ebfa4d4352e499b)\n",
              "        ;\n",
              "\n",
              "        \n",
              "    \n",
              "    \n",
              "            var circle_0c9a39428b17c05bf20ee502b8f04359 = L.circle(\n",
              "                [11.54444, -72.90722],\n",
              "                {&quot;bubblingMouseEvents&quot;: true, &quot;color&quot;: &quot;blue&quot;, &quot;dashArray&quot;: null, &quot;dashOffset&quot;: null, &quot;fill&quot;: true, &quot;fillColor&quot;: &quot;blue&quot;, &quot;fillOpacity&quot;: 0.6, &quot;fillRule&quot;: &quot;evenodd&quot;, &quot;lineCap&quot;: &quot;round&quot;, &quot;lineJoin&quot;: &quot;round&quot;, &quot;opacity&quot;: 1.0, &quot;radius&quot;: 2360.5447182156495, &quot;stroke&quot;: true, &quot;weight&quot;: 3}\n",
              "            ).addTo(map_dbce93ce42de1d0f8d6579984b7041c0);\n",
              "        \n",
              "    \n",
              "        var popup_47179f48f0712b383e1d6496a7c62958 = L.popup({\n",
              "  &quot;maxWidth&quot;: &quot;100%&quot;,\n",
              "});\n",
              "\n",
              "        \n",
              "            \n",
              "                var html_81e7b44d0020712a960f791308c08ecc = $(`&lt;div id=&quot;html_81e7b44d0020712a960f791308c08ecc&quot; style=&quot;width: 100.0%; height: 100.0%;&quot;&gt;Lugar: Riohacha&lt;br&gt;Ventas totales: 73879700.00&lt;/div&gt;`)[0];\n",
              "                popup_47179f48f0712b383e1d6496a7c62958.setContent(html_81e7b44d0020712a960f791308c08ecc);\n",
              "            \n",
              "        \n",
              "\n",
              "        circle_0c9a39428b17c05bf20ee502b8f04359.bindPopup(popup_47179f48f0712b383e1d6496a7c62958)\n",
              "        ;\n",
              "\n",
              "        \n",
              "    \n",
              "    \n",
              "            var circle_e09504116aebead39ae91e0ee1a2d895 = L.circle(\n",
              "                [-4.21528, -69.94056],\n",
              "                {&quot;bubblingMouseEvents&quot;: true, &quot;color&quot;: &quot;blue&quot;, &quot;dashArray&quot;: null, &quot;dashOffset&quot;: null, &quot;fill&quot;: true, &quot;fillColor&quot;: &quot;blue&quot;, &quot;fillOpacity&quot;: 0.6, &quot;fillRule&quot;: &quot;evenodd&quot;, &quot;lineCap&quot;: &quot;round&quot;, &quot;lineJoin&quot;: &quot;round&quot;, &quot;opacity&quot;: 1.0, &quot;radius&quot;: 2176.3931116678423, &quot;stroke&quot;: true, &quot;weight&quot;: 3}\n",
              "            ).addTo(map_dbce93ce42de1d0f8d6579984b7041c0);\n",
              "        \n",
              "    \n",
              "        var popup_99e65cccce56210cb31f562ac8412725 = L.popup({\n",
              "  &quot;maxWidth&quot;: &quot;100%&quot;,\n",
              "});\n",
              "\n",
              "        \n",
              "            \n",
              "                var html_7debe641c6c82701d1db8cb7824e9e11 = $(`&lt;div id=&quot;html_7debe641c6c82701d1db8cb7824e9e11&quot; style=&quot;width: 100.0%; height: 100.0%;&quot;&gt;Lugar: Leticia&lt;br&gt;Ventas totales: 67149900.00&lt;/div&gt;`)[0];\n",
              "                popup_99e65cccce56210cb31f562ac8412725.setContent(html_7debe641c6c82701d1db8cb7824e9e11);\n",
              "            \n",
              "        \n",
              "\n",
              "        circle_e09504116aebead39ae91e0ee1a2d895.bindPopup(popup_99e65cccce56210cb31f562ac8412725)\n",
              "        ;\n",
              "\n",
              "        \n",
              "    \n",
              "    \n",
              "            var circle_f7f4f92041adde4d2c4ed845634c89d9 = L.circle(\n",
              "                [11.24079, -74.19904],\n",
              "                {&quot;bubblingMouseEvents&quot;: true, &quot;color&quot;: &quot;blue&quot;, &quot;dashArray&quot;: null, &quot;dashOffset&quot;: null, &quot;fill&quot;: true, &quot;fillColor&quot;: &quot;blue&quot;, &quot;fillOpacity&quot;: 0.6, &quot;fillRule&quot;: &quot;evenodd&quot;, &quot;lineCap&quot;: &quot;round&quot;, &quot;lineJoin&quot;: &quot;round&quot;, &quot;opacity&quot;: 1.0, &quot;radius&quot;: 1791.9508427991145, &quot;stroke&quot;: true, &quot;weight&quot;: 3}\n",
              "            ).addTo(map_dbce93ce42de1d0f8d6579984b7041c0);\n",
              "        \n",
              "    \n",
              "        var popup_fce254d4e2bcb0d1f32828e8a09839fc = L.popup({\n",
              "  &quot;maxWidth&quot;: &quot;100%&quot;,\n",
              "});\n",
              "\n",
              "        \n",
              "            \n",
              "                var html_7b1735a005caf2445e64e38a6fc1808f = $(`&lt;div id=&quot;html_7b1735a005caf2445e64e38a6fc1808f&quot; style=&quot;width: 100.0%; height: 100.0%;&quot;&gt;Lugar: Santa Marta&lt;br&gt;Ventas totales: 53100500.00&lt;/div&gt;`)[0];\n",
              "                popup_fce254d4e2bcb0d1f32828e8a09839fc.setContent(html_7b1735a005caf2445e64e38a6fc1808f);\n",
              "            \n",
              "        \n",
              "\n",
              "        circle_f7f4f92041adde4d2c4ed845634c89d9.bindPopup(popup_fce254d4e2bcb0d1f32828e8a09839fc)\n",
              "        ;\n",
              "\n",
              "        \n",
              "    \n",
              "    \n",
              "            var circle_38dfc2e98826695484a858e497223226 = L.circle(\n",
              "                [1.21361, -77.28111],\n",
              "                {&quot;bubblingMouseEvents&quot;: true, &quot;color&quot;: &quot;blue&quot;, &quot;dashArray&quot;: null, &quot;dashOffset&quot;: null, &quot;fill&quot;: true, &quot;fillColor&quot;: &quot;blue&quot;, &quot;fillOpacity&quot;: 0.6, &quot;fillRule&quot;: &quot;evenodd&quot;, &quot;lineCap&quot;: &quot;round&quot;, &quot;lineJoin&quot;: &quot;round&quot;, &quot;opacity&quot;: 1.0, &quot;radius&quot;: 1680.137669350327, &quot;stroke&quot;: true, &quot;weight&quot;: 3}\n",
              "            ).addTo(map_dbce93ce42de1d0f8d6579984b7041c0);\n",
              "        \n",
              "    \n",
              "        var popup_fbd837a8121c8adc67e6f61882411781 = L.popup({\n",
              "  &quot;maxWidth&quot;: &quot;100%&quot;,\n",
              "});\n",
              "\n",
              "        \n",
              "            \n",
              "                var html_240c12bfc851c0376d09a4b820134d6a = $(`&lt;div id=&quot;html_240c12bfc851c0376d09a4b820134d6a&quot; style=&quot;width: 100.0%; height: 100.0%;&quot;&gt;Lugar: Pasto&lt;br&gt;Ventas totales: 49014300.00&lt;/div&gt;`)[0];\n",
              "                popup_fbd837a8121c8adc67e6f61882411781.setContent(html_240c12bfc851c0376d09a4b820134d6a);\n",
              "            \n",
              "        \n",
              "\n",
              "        circle_38dfc2e98826695484a858e497223226.bindPopup(popup_fbd837a8121c8adc67e6f61882411781)\n",
              "        ;\n",
              "\n",
              "        \n",
              "    \n",
              "    \n",
              "            var circle_46e7886168459625b499e628df708fd7 = L.circle(\n",
              "                [2.9273, -75.28189],\n",
              "                {&quot;bubblingMouseEvents&quot;: true, &quot;color&quot;: &quot;blue&quot;, &quot;dashArray&quot;: null, &quot;dashOffset&quot;: null, &quot;fill&quot;: true, &quot;fillColor&quot;: &quot;blue&quot;, &quot;fillOpacity&quot;: 0.6, &quot;fillRule&quot;: &quot;evenodd&quot;, &quot;lineCap&quot;: &quot;round&quot;, &quot;lineJoin&quot;: &quot;round&quot;, &quot;opacity&quot;: 1.0, &quot;radius&quot;: 910.7742684795564, &quot;stroke&quot;: true, &quot;weight&quot;: 3}\n",
              "            ).addTo(map_dbce93ce42de1d0f8d6579984b7041c0);\n",
              "        \n",
              "    \n",
              "        var popup_8c61eb7b9826873697e73c84d1f46640 = L.popup({\n",
              "  &quot;maxWidth&quot;: &quot;100%&quot;,\n",
              "});\n",
              "\n",
              "        \n",
              "            \n",
              "                var html_ae974066a85311cf89a0ae6015a43b69 = $(`&lt;div id=&quot;html_ae974066a85311cf89a0ae6015a43b69&quot; style=&quot;width: 100.0%; height: 100.0%;&quot;&gt;Lugar: Neiva&lt;br&gt;Ventas totales: 20898000.00&lt;/div&gt;`)[0];\n",
              "                popup_8c61eb7b9826873697e73c84d1f46640.setContent(html_ae974066a85311cf89a0ae6015a43b69);\n",
              "            \n",
              "        \n",
              "\n",
              "        circle_46e7886168459625b499e628df708fd7.bindPopup(popup_8c61eb7b9826873697e73c84d1f46640)\n",
              "        ;\n",
              "\n",
              "        \n",
              "    \n",
              "    \n",
              "            var circle_c855d8dfd63e8455094312be19a938e2 = L.circle(\n",
              "                [5.06889, -75.51738],\n",
              "                {&quot;bubblingMouseEvents&quot;: true, &quot;color&quot;: &quot;blue&quot;, &quot;dashArray&quot;: null, &quot;dashOffset&quot;: null, &quot;fill&quot;: true, &quot;fillColor&quot;: &quot;blue&quot;, &quot;fillOpacity&quot;: 0.6, &quot;fillRule&quot;: &quot;evenodd&quot;, &quot;lineCap&quot;: &quot;round&quot;, &quot;lineJoin&quot;: &quot;round&quot;, &quot;opacity&quot;: 1.0, &quot;radius&quot;: 868.9052124632111, &quot;stroke&quot;: true, &quot;weight&quot;: 3}\n",
              "            ).addTo(map_dbce93ce42de1d0f8d6579984b7041c0);\n",
              "        \n",
              "    \n",
              "        var popup_4bf3ceaaf496f8f59170650e42c036eb = L.popup({\n",
              "  &quot;maxWidth&quot;: &quot;100%&quot;,\n",
              "});\n",
              "\n",
              "        \n",
              "            \n",
              "                var html_01f66f20dec02a5e6392345325a54df7 = $(`&lt;div id=&quot;html_01f66f20dec02a5e6392345325a54df7&quot; style=&quot;width: 100.0%; height: 100.0%;&quot;&gt;Lugar: Manizales&lt;br&gt;Ventas totales: 19367900.00&lt;/div&gt;`)[0];\n",
              "                popup_4bf3ceaaf496f8f59170650e42c036eb.setContent(html_01f66f20dec02a5e6392345325a54df7);\n",
              "            \n",
              "        \n",
              "\n",
              "        circle_c855d8dfd63e8455094312be19a938e2.bindPopup(popup_4bf3ceaaf496f8f59170650e42c036eb)\n",
              "        ;\n",
              "\n",
              "        \n",
              "    \n",
              "    \n",
              "            var circle_823044d14b6943549b651e7246e08a33 = L.circle(\n",
              "                [4.142, -73.62664],\n",
              "                {&quot;bubblingMouseEvents&quot;: true, &quot;color&quot;: &quot;blue&quot;, &quot;dashArray&quot;: null, &quot;dashOffset&quot;: null, &quot;fill&quot;: true, &quot;fillColor&quot;: &quot;blue&quot;, &quot;fillOpacity&quot;: 0.6, &quot;fillRule&quot;: &quot;evenodd&quot;, &quot;lineCap&quot;: &quot;round&quot;, &quot;lineJoin&quot;: &quot;round&quot;, &quot;opacity&quot;: 1.0, &quot;radius&quot;: 703.7849950137427, &quot;stroke&quot;: true, &quot;weight&quot;: 3}\n",
              "            ).addTo(map_dbce93ce42de1d0f8d6579984b7041c0);\n",
              "        \n",
              "    \n",
              "        var popup_030ef3e97d7a95c2e9d99b3d6dc36d63 = L.popup({\n",
              "  &quot;maxWidth&quot;: &quot;100%&quot;,\n",
              "});\n",
              "\n",
              "        \n",
              "            \n",
              "                var html_6591c4565f57cef9c3a7027b8e3a6edb = $(`&lt;div id=&quot;html_6591c4565f57cef9c3a7027b8e3a6edb&quot; style=&quot;width: 100.0%; height: 100.0%;&quot;&gt;Lugar: Villavicencio&lt;br&gt;Ventas totales: 13333600.00&lt;/div&gt;`)[0];\n",
              "                popup_030ef3e97d7a95c2e9d99b3d6dc36d63.setContent(html_6591c4565f57cef9c3a7027b8e3a6edb);\n",
              "            \n",
              "        \n",
              "\n",
              "        circle_823044d14b6943549b651e7246e08a33.bindPopup(popup_030ef3e97d7a95c2e9d99b3d6dc36d63)\n",
              "        ;\n",
              "\n",
              "        \n",
              "    \n",
              "    \n",
              "            var circle_46b1029f49e620a53e2a998876f8774f = L.circle(\n",
              "                [4.57937, -74.21682],\n",
              "                {&quot;bubblingMouseEvents&quot;: true, &quot;color&quot;: &quot;blue&quot;, &quot;dashArray&quot;: null, &quot;dashOffset&quot;: null, &quot;fill&quot;: true, &quot;fillColor&quot;: &quot;blue&quot;, &quot;fillOpacity&quot;: 0.6, &quot;fillRule&quot;: &quot;evenodd&quot;, &quot;lineCap&quot;: &quot;round&quot;, &quot;lineJoin&quot;: &quot;round&quot;, &quot;opacity&quot;: 1.0, &quot;radius&quot;: 675.9863060345876, &quot;stroke&quot;: true, &quot;weight&quot;: 3}\n",
              "            ).addTo(map_dbce93ce42de1d0f8d6579984b7041c0);\n",
              "        \n",
              "    \n",
              "        var popup_d89f365e4c6c1b0528f6a17b376d0627 = L.popup({\n",
              "  &quot;maxWidth&quot;: &quot;100%&quot;,\n",
              "});\n",
              "\n",
              "        \n",
              "            \n",
              "                var html_5708f1f9e3ddfb09960a3fc312b33ecf = $(`&lt;div id=&quot;html_5708f1f9e3ddfb09960a3fc312b33ecf&quot; style=&quot;width: 100.0%; height: 100.0%;&quot;&gt;Lugar: Soacha&lt;br&gt;Ventas totales: 12317700.00&lt;/div&gt;`)[0];\n",
              "                popup_d89f365e4c6c1b0528f6a17b376d0627.setContent(html_5708f1f9e3ddfb09960a3fc312b33ecf);\n",
              "            \n",
              "        \n",
              "\n",
              "        circle_46b1029f49e620a53e2a998876f8774f.bindPopup(popup_d89f365e4c6c1b0528f6a17b376d0627)\n",
              "        ;\n",
              "\n",
              "        \n",
              "    \n",
              "    \n",
              "            var circle_5347734acbb73250a25ee9f4f7d8adfe = L.circle(\n",
              "                [4.53389, -75.68111],\n",
              "                {&quot;bubblingMouseEvents&quot;: true, &quot;color&quot;: &quot;blue&quot;, &quot;dashArray&quot;: null, &quot;dashOffset&quot;: null, &quot;fill&quot;: true, &quot;fillColor&quot;: &quot;blue&quot;, &quot;fillOpacity&quot;: 0.6, &quot;fillRule&quot;: &quot;evenodd&quot;, &quot;lineCap&quot;: &quot;round&quot;, &quot;lineJoin&quot;: &quot;round&quot;, &quot;opacity&quot;: 1.0, &quot;radius&quot;: 673.939508184759, &quot;stroke&quot;: true, &quot;weight&quot;: 3}\n",
              "            ).addTo(map_dbce93ce42de1d0f8d6579984b7041c0);\n",
              "        \n",
              "    \n",
              "        var popup_1a3b165a64d1554bdca7118bac0ecb29 = L.popup({\n",
              "  &quot;maxWidth&quot;: &quot;100%&quot;,\n",
              "});\n",
              "\n",
              "        \n",
              "            \n",
              "                var html_9ffabd1b0ebdf78bf71dc975915cc76d = $(`&lt;div id=&quot;html_9ffabd1b0ebdf78bf71dc975915cc76d&quot; style=&quot;width: 100.0%; height: 100.0%;&quot;&gt;Lugar: Armenia&lt;br&gt;Ventas totales: 12242900.00&lt;/div&gt;`)[0];\n",
              "                popup_1a3b165a64d1554bdca7118bac0ecb29.setContent(html_9ffabd1b0ebdf78bf71dc975915cc76d);\n",
              "            \n",
              "        \n",
              "\n",
              "        circle_5347734acbb73250a25ee9f4f7d8adfe.bindPopup(popup_1a3b165a64d1554bdca7118bac0ecb29)\n",
              "        ;\n",
              "\n",
              "        \n",
              "    \n",
              "    \n",
              "            var circle_ec7debaca4251444d9c2dc1a1093cc46 = L.circle(\n",
              "                [3.8653, -67.9239],\n",
              "                {&quot;bubblingMouseEvents&quot;: true, &quot;color&quot;: &quot;blue&quot;, &quot;dashArray&quot;: null, &quot;dashOffset&quot;: null, &quot;fill&quot;: true, &quot;fillColor&quot;: &quot;blue&quot;, &quot;fillOpacity&quot;: 0.6, &quot;fillRule&quot;: &quot;evenodd&quot;, &quot;lineCap&quot;: &quot;round&quot;, &quot;lineJoin&quot;: &quot;round&quot;, &quot;opacity&quot;: 1.0, &quot;radius&quot;: 560.2437185318513, &quot;stroke&quot;: true, &quot;weight&quot;: 3}\n",
              "            ).addTo(map_dbce93ce42de1d0f8d6579984b7041c0);\n",
              "        \n",
              "    \n",
              "        var popup_a668a7b52e503f9ae7aac55059af6827 = L.popup({\n",
              "  &quot;maxWidth&quot;: &quot;100%&quot;,\n",
              "});\n",
              "\n",
              "        \n",
              "            \n",
              "                var html_9612da724721b2b51464817f91dac0d1 = $(`&lt;div id=&quot;html_9612da724721b2b51464817f91dac0d1&quot; style=&quot;width: 100.0%; height: 100.0%;&quot;&gt;Lugar: Inírida&lt;br&gt;Ventas totales: 8087900.00&lt;/div&gt;`)[0];\n",
              "                popup_a668a7b52e503f9ae7aac55059af6827.setContent(html_9612da724721b2b51464817f91dac0d1);\n",
              "            \n",
              "        \n",
              "\n",
              "        circle_ec7debaca4251444d9c2dc1a1093cc46.bindPopup(popup_a668a7b52e503f9ae7aac55059af6827)\n",
              "        ;\n",
              "\n",
              "        \n",
              "    \n",
              "    \n",
              "            var circle_becdaa96a454304ef27e4c84b51bcef4 = L.circle(\n",
              "                [10.46314, -73.25322],\n",
              "                {&quot;bubblingMouseEvents&quot;: true, &quot;color&quot;: &quot;blue&quot;, &quot;dashArray&quot;: null, &quot;dashOffset&quot;: null, &quot;fill&quot;: true, &quot;fillColor&quot;: &quot;blue&quot;, &quot;fillOpacity&quot;: 0.6, &quot;fillRule&quot;: &quot;evenodd&quot;, &quot;lineCap&quot;: &quot;round&quot;, &quot;lineJoin&quot;: &quot;round&quot;, &quot;opacity&quot;: 1.0, &quot;radius&quot;: 500.0, &quot;stroke&quot;: true, &quot;weight&quot;: 3}\n",
              "            ).addTo(map_dbce93ce42de1d0f8d6579984b7041c0);\n",
              "        \n",
              "    \n",
              "        var popup_cc332e39f5f0632e4e38a4199968430e = L.popup({\n",
              "  &quot;maxWidth&quot;: &quot;100%&quot;,\n",
              "});\n",
              "\n",
              "        \n",
              "            \n",
              "                var html_03b49bf1d05b3175696b006dba31397c = $(`&lt;div id=&quot;html_03b49bf1d05b3175696b006dba31397c&quot; style=&quot;width: 100.0%; height: 100.0%;&quot;&gt;Lugar: Valledupar&lt;br&gt;Ventas totales: 5886300.00&lt;/div&gt;`)[0];\n",
              "                popup_cc332e39f5f0632e4e38a4199968430e.setContent(html_03b49bf1d05b3175696b006dba31397c);\n",
              "            \n",
              "        \n",
              "\n",
              "        circle_becdaa96a454304ef27e4c84b51bcef4.bindPopup(popup_cc332e39f5f0632e4e38a4199968430e)\n",
              "        ;\n",
              "\n",
              "        \n",
              "    \n",
              "&lt;/script&gt;\n",
              "&lt;/html&gt;\" style=\"position:absolute;width:100%;height:100%;left:0;top:0;border:none !important;\" allowfullscreen webkitallowfullscreen mozallowfullscreen></iframe></div></div>"
            ]
          },
          "metadata": {},
          "execution_count": 76
        }
      ]
    },
    {
      "cell_type": "markdown",
      "source": [
        "#1. Análisis de facturación\n",
        "\n"
      ],
      "metadata": {
        "id": "X62IW3KFUIYm"
      }
    },
    {
      "cell_type": "code",
      "source": [
        "import pandas as pd\n",
        "\n",
        "# Lista de URLs de los archivos CSV\n",
        "urls = [\n",
        "    \"https://raw.githubusercontent.com/alura-es-cursos/challenge1-data-science-latam/refs/heads/main/base-de-datos-challenge1-latam/tienda_1%20.csv\",\n",
        "    \"https://raw.githubusercontent.com/alura-es-cursos/challenge1-data-science-latam/refs/heads/main/base-de-datos-challenge1-latam/tienda_2.csv\",\n",
        "    \"https://raw.githubusercontent.com/alura-es-cursos/challenge1-data-science-latam/refs/heads/main/base-de-datos-challenge1-latam/tienda_3.csv\",\n",
        "    \"https://raw.githubusercontent.com/alura-es-cursos/challenge1-data-science-latam/refs/heads/main/base-de-datos-challenge1-latam/tienda_4.csv\"\n",
        "]\n",
        "\n",
        "# Leer todos los archivos CSV y almacenarlos en una lista de DataFrames\n",
        "dataframes = [pd.read_csv(url) for url in urls]\n",
        "\n",
        "# Combinar todos los DataFrames en uno solo\n",
        "tienda_unificada = pd.concat(dataframes, ignore_index=True)\n",
        "\n",
        "# Mostrar las primeras filas del DataFrame unificado\n",
        "print(\"Primeras filas del conjunto de datos:\")\n",
        "tienda_unificada.head()\n"
      ],
      "metadata": {
        "id": "xykobSftV64I",
        "colab": {
          "base_uri": "https://localhost:8080/",
          "height": 418
        },
        "outputId": "913b1de2-2fd2-4b44-8fd6-594018086d0a"
      },
      "execution_count": null,
      "outputs": [
        {
          "output_type": "stream",
          "name": "stdout",
          "text": [
            "Primeras filas del conjunto de datos:\n"
          ]
        },
        {
          "output_type": "execute_result",
          "data": {
            "text/plain": [
              "            Producto Categoría del Producto    Precio  Costo de envío  \\\n",
              "0  Asistente virtual           Electrónicos  164300.0          6900.0   \n",
              "1    Mesa de comedor                Muebles  192300.0          8400.0   \n",
              "2      Juego de mesa               Juguetes  209600.0         15900.0   \n",
              "3         Microondas      Electrodomésticos  757500.0         41000.0   \n",
              "4   Silla de oficina                Muebles  335200.0         20200.0   \n",
              "\n",
              "  Fecha de Compra         Vendedor Lugar de Compra  Calificación  \\\n",
              "0      16/01/2021      Pedro Gomez          Bogotá             4   \n",
              "1      18/05/2022  Beatriz Morales        Medellín             1   \n",
              "2      15/03/2021   Juan Fernandez       Cartagena             1   \n",
              "3      03/05/2022   Juan Fernandez            Cali             4   \n",
              "4      07/11/2020    Maria Alfonso        Medellín             5   \n",
              "\n",
              "       Método de pago  Cantidad de cuotas       lat       lon  \n",
              "0  Tarjeta de crédito                   8   4.60971 -74.08175  \n",
              "1  Tarjeta de crédito                   4   6.25184 -75.56359  \n",
              "2  Tarjeta de crédito                   1  10.39972 -75.51444  \n",
              "3               Nequi                   1   3.43722 -76.52250  \n",
              "4               Nequi                   1   6.25184 -75.56359  "
            ],
            "text/html": [
              "\n",
              "  <div id=\"df-e7075605-4e45-44bf-9e5e-4a3a80d321ba\" class=\"colab-df-container\">\n",
              "    <div>\n",
              "<style scoped>\n",
              "    .dataframe tbody tr th:only-of-type {\n",
              "        vertical-align: middle;\n",
              "    }\n",
              "\n",
              "    .dataframe tbody tr th {\n",
              "        vertical-align: top;\n",
              "    }\n",
              "\n",
              "    .dataframe thead th {\n",
              "        text-align: right;\n",
              "    }\n",
              "</style>\n",
              "<table border=\"1\" class=\"dataframe\">\n",
              "  <thead>\n",
              "    <tr style=\"text-align: right;\">\n",
              "      <th></th>\n",
              "      <th>Producto</th>\n",
              "      <th>Categoría del Producto</th>\n",
              "      <th>Precio</th>\n",
              "      <th>Costo de envío</th>\n",
              "      <th>Fecha de Compra</th>\n",
              "      <th>Vendedor</th>\n",
              "      <th>Lugar de Compra</th>\n",
              "      <th>Calificación</th>\n",
              "      <th>Método de pago</th>\n",
              "      <th>Cantidad de cuotas</th>\n",
              "      <th>lat</th>\n",
              "      <th>lon</th>\n",
              "    </tr>\n",
              "  </thead>\n",
              "  <tbody>\n",
              "    <tr>\n",
              "      <th>0</th>\n",
              "      <td>Asistente virtual</td>\n",
              "      <td>Electrónicos</td>\n",
              "      <td>164300.0</td>\n",
              "      <td>6900.0</td>\n",
              "      <td>16/01/2021</td>\n",
              "      <td>Pedro Gomez</td>\n",
              "      <td>Bogotá</td>\n",
              "      <td>4</td>\n",
              "      <td>Tarjeta de crédito</td>\n",
              "      <td>8</td>\n",
              "      <td>4.60971</td>\n",
              "      <td>-74.08175</td>\n",
              "    </tr>\n",
              "    <tr>\n",
              "      <th>1</th>\n",
              "      <td>Mesa de comedor</td>\n",
              "      <td>Muebles</td>\n",
              "      <td>192300.0</td>\n",
              "      <td>8400.0</td>\n",
              "      <td>18/05/2022</td>\n",
              "      <td>Beatriz Morales</td>\n",
              "      <td>Medellín</td>\n",
              "      <td>1</td>\n",
              "      <td>Tarjeta de crédito</td>\n",
              "      <td>4</td>\n",
              "      <td>6.25184</td>\n",
              "      <td>-75.56359</td>\n",
              "    </tr>\n",
              "    <tr>\n",
              "      <th>2</th>\n",
              "      <td>Juego de mesa</td>\n",
              "      <td>Juguetes</td>\n",
              "      <td>209600.0</td>\n",
              "      <td>15900.0</td>\n",
              "      <td>15/03/2021</td>\n",
              "      <td>Juan Fernandez</td>\n",
              "      <td>Cartagena</td>\n",
              "      <td>1</td>\n",
              "      <td>Tarjeta de crédito</td>\n",
              "      <td>1</td>\n",
              "      <td>10.39972</td>\n",
              "      <td>-75.51444</td>\n",
              "    </tr>\n",
              "    <tr>\n",
              "      <th>3</th>\n",
              "      <td>Microondas</td>\n",
              "      <td>Electrodomésticos</td>\n",
              "      <td>757500.0</td>\n",
              "      <td>41000.0</td>\n",
              "      <td>03/05/2022</td>\n",
              "      <td>Juan Fernandez</td>\n",
              "      <td>Cali</td>\n",
              "      <td>4</td>\n",
              "      <td>Nequi</td>\n",
              "      <td>1</td>\n",
              "      <td>3.43722</td>\n",
              "      <td>-76.52250</td>\n",
              "    </tr>\n",
              "    <tr>\n",
              "      <th>4</th>\n",
              "      <td>Silla de oficina</td>\n",
              "      <td>Muebles</td>\n",
              "      <td>335200.0</td>\n",
              "      <td>20200.0</td>\n",
              "      <td>07/11/2020</td>\n",
              "      <td>Maria Alfonso</td>\n",
              "      <td>Medellín</td>\n",
              "      <td>5</td>\n",
              "      <td>Nequi</td>\n",
              "      <td>1</td>\n",
              "      <td>6.25184</td>\n",
              "      <td>-75.56359</td>\n",
              "    </tr>\n",
              "  </tbody>\n",
              "</table>\n",
              "</div>\n",
              "    <div class=\"colab-df-buttons\">\n",
              "\n",
              "  <div class=\"colab-df-container\">\n",
              "    <button class=\"colab-df-convert\" onclick=\"convertToInteractive('df-e7075605-4e45-44bf-9e5e-4a3a80d321ba')\"\n",
              "            title=\"Convert this dataframe to an interactive table.\"\n",
              "            style=\"display:none;\">\n",
              "\n",
              "  <svg xmlns=\"http://www.w3.org/2000/svg\" height=\"24px\" viewBox=\"0 -960 960 960\">\n",
              "    <path d=\"M120-120v-720h720v720H120Zm60-500h600v-160H180v160Zm220 220h160v-160H400v160Zm0 220h160v-160H400v160ZM180-400h160v-160H180v160Zm440 0h160v-160H620v160ZM180-180h160v-160H180v160Zm440 0h160v-160H620v160Z\"/>\n",
              "  </svg>\n",
              "    </button>\n",
              "\n",
              "  <style>\n",
              "    .colab-df-container {\n",
              "      display:flex;\n",
              "      gap: 12px;\n",
              "    }\n",
              "\n",
              "    .colab-df-convert {\n",
              "      background-color: #E8F0FE;\n",
              "      border: none;\n",
              "      border-radius: 50%;\n",
              "      cursor: pointer;\n",
              "      display: none;\n",
              "      fill: #1967D2;\n",
              "      height: 32px;\n",
              "      padding: 0 0 0 0;\n",
              "      width: 32px;\n",
              "    }\n",
              "\n",
              "    .colab-df-convert:hover {\n",
              "      background-color: #E2EBFA;\n",
              "      box-shadow: 0px 1px 2px rgba(60, 64, 67, 0.3), 0px 1px 3px 1px rgba(60, 64, 67, 0.15);\n",
              "      fill: #174EA6;\n",
              "    }\n",
              "\n",
              "    .colab-df-buttons div {\n",
              "      margin-bottom: 4px;\n",
              "    }\n",
              "\n",
              "    [theme=dark] .colab-df-convert {\n",
              "      background-color: #3B4455;\n",
              "      fill: #D2E3FC;\n",
              "    }\n",
              "\n",
              "    [theme=dark] .colab-df-convert:hover {\n",
              "      background-color: #434B5C;\n",
              "      box-shadow: 0px 1px 3px 1px rgba(0, 0, 0, 0.15);\n",
              "      filter: drop-shadow(0px 1px 2px rgba(0, 0, 0, 0.3));\n",
              "      fill: #FFFFFF;\n",
              "    }\n",
              "  </style>\n",
              "\n",
              "    <script>\n",
              "      const buttonEl =\n",
              "        document.querySelector('#df-e7075605-4e45-44bf-9e5e-4a3a80d321ba button.colab-df-convert');\n",
              "      buttonEl.style.display =\n",
              "        google.colab.kernel.accessAllowed ? 'block' : 'none';\n",
              "\n",
              "      async function convertToInteractive(key) {\n",
              "        const element = document.querySelector('#df-e7075605-4e45-44bf-9e5e-4a3a80d321ba');\n",
              "        const dataTable =\n",
              "          await google.colab.kernel.invokeFunction('convertToInteractive',\n",
              "                                                    [key], {});\n",
              "        if (!dataTable) return;\n",
              "\n",
              "        const docLinkHtml = 'Like what you see? Visit the ' +\n",
              "          '<a target=\"_blank\" href=https://colab.research.google.com/notebooks/data_table.ipynb>data table notebook</a>'\n",
              "          + ' to learn more about interactive tables.';\n",
              "        element.innerHTML = '';\n",
              "        dataTable['output_type'] = 'display_data';\n",
              "        await google.colab.output.renderOutput(dataTable, element);\n",
              "        const docLink = document.createElement('div');\n",
              "        docLink.innerHTML = docLinkHtml;\n",
              "        element.appendChild(docLink);\n",
              "      }\n",
              "    </script>\n",
              "  </div>\n",
              "\n",
              "\n",
              "<div id=\"df-f634b135-9103-456a-b2f9-70a4c4510185\">\n",
              "  <button class=\"colab-df-quickchart\" onclick=\"quickchart('df-f634b135-9103-456a-b2f9-70a4c4510185')\"\n",
              "            title=\"Suggest charts\"\n",
              "            style=\"display:none;\">\n",
              "\n",
              "<svg xmlns=\"http://www.w3.org/2000/svg\" height=\"24px\"viewBox=\"0 0 24 24\"\n",
              "     width=\"24px\">\n",
              "    <g>\n",
              "        <path d=\"M19 3H5c-1.1 0-2 .9-2 2v14c0 1.1.9 2 2 2h14c1.1 0 2-.9 2-2V5c0-1.1-.9-2-2-2zM9 17H7v-7h2v7zm4 0h-2V7h2v10zm4 0h-2v-4h2v4z\"/>\n",
              "    </g>\n",
              "</svg>\n",
              "  </button>\n",
              "\n",
              "<style>\n",
              "  .colab-df-quickchart {\n",
              "      --bg-color: #E8F0FE;\n",
              "      --fill-color: #1967D2;\n",
              "      --hover-bg-color: #E2EBFA;\n",
              "      --hover-fill-color: #174EA6;\n",
              "      --disabled-fill-color: #AAA;\n",
              "      --disabled-bg-color: #DDD;\n",
              "  }\n",
              "\n",
              "  [theme=dark] .colab-df-quickchart {\n",
              "      --bg-color: #3B4455;\n",
              "      --fill-color: #D2E3FC;\n",
              "      --hover-bg-color: #434B5C;\n",
              "      --hover-fill-color: #FFFFFF;\n",
              "      --disabled-bg-color: #3B4455;\n",
              "      --disabled-fill-color: #666;\n",
              "  }\n",
              "\n",
              "  .colab-df-quickchart {\n",
              "    background-color: var(--bg-color);\n",
              "    border: none;\n",
              "    border-radius: 50%;\n",
              "    cursor: pointer;\n",
              "    display: none;\n",
              "    fill: var(--fill-color);\n",
              "    height: 32px;\n",
              "    padding: 0;\n",
              "    width: 32px;\n",
              "  }\n",
              "\n",
              "  .colab-df-quickchart:hover {\n",
              "    background-color: var(--hover-bg-color);\n",
              "    box-shadow: 0 1px 2px rgba(60, 64, 67, 0.3), 0 1px 3px 1px rgba(60, 64, 67, 0.15);\n",
              "    fill: var(--button-hover-fill-color);\n",
              "  }\n",
              "\n",
              "  .colab-df-quickchart-complete:disabled,\n",
              "  .colab-df-quickchart-complete:disabled:hover {\n",
              "    background-color: var(--disabled-bg-color);\n",
              "    fill: var(--disabled-fill-color);\n",
              "    box-shadow: none;\n",
              "  }\n",
              "\n",
              "  .colab-df-spinner {\n",
              "    border: 2px solid var(--fill-color);\n",
              "    border-color: transparent;\n",
              "    border-bottom-color: var(--fill-color);\n",
              "    animation:\n",
              "      spin 1s steps(1) infinite;\n",
              "  }\n",
              "\n",
              "  @keyframes spin {\n",
              "    0% {\n",
              "      border-color: transparent;\n",
              "      border-bottom-color: var(--fill-color);\n",
              "      border-left-color: var(--fill-color);\n",
              "    }\n",
              "    20% {\n",
              "      border-color: transparent;\n",
              "      border-left-color: var(--fill-color);\n",
              "      border-top-color: var(--fill-color);\n",
              "    }\n",
              "    30% {\n",
              "      border-color: transparent;\n",
              "      border-left-color: var(--fill-color);\n",
              "      border-top-color: var(--fill-color);\n",
              "      border-right-color: var(--fill-color);\n",
              "    }\n",
              "    40% {\n",
              "      border-color: transparent;\n",
              "      border-right-color: var(--fill-color);\n",
              "      border-top-color: var(--fill-color);\n",
              "    }\n",
              "    60% {\n",
              "      border-color: transparent;\n",
              "      border-right-color: var(--fill-color);\n",
              "    }\n",
              "    80% {\n",
              "      border-color: transparent;\n",
              "      border-right-color: var(--fill-color);\n",
              "      border-bottom-color: var(--fill-color);\n",
              "    }\n",
              "    90% {\n",
              "      border-color: transparent;\n",
              "      border-bottom-color: var(--fill-color);\n",
              "    }\n",
              "  }\n",
              "</style>\n",
              "\n",
              "  <script>\n",
              "    async function quickchart(key) {\n",
              "      const quickchartButtonEl =\n",
              "        document.querySelector('#' + key + ' button');\n",
              "      quickchartButtonEl.disabled = true;  // To prevent multiple clicks.\n",
              "      quickchartButtonEl.classList.add('colab-df-spinner');\n",
              "      try {\n",
              "        const charts = await google.colab.kernel.invokeFunction(\n",
              "            'suggestCharts', [key], {});\n",
              "      } catch (error) {\n",
              "        console.error('Error during call to suggestCharts:', error);\n",
              "      }\n",
              "      quickchartButtonEl.classList.remove('colab-df-spinner');\n",
              "      quickchartButtonEl.classList.add('colab-df-quickchart-complete');\n",
              "    }\n",
              "    (() => {\n",
              "      let quickchartButtonEl =\n",
              "        document.querySelector('#df-f634b135-9103-456a-b2f9-70a4c4510185 button');\n",
              "      quickchartButtonEl.style.display =\n",
              "        google.colab.kernel.accessAllowed ? 'block' : 'none';\n",
              "    })();\n",
              "  </script>\n",
              "</div>\n",
              "\n",
              "    </div>\n",
              "  </div>\n"
            ],
            "application/vnd.google.colaboratory.intrinsic+json": {
              "type": "dataframe",
              "variable_name": "tienda_unificada",
              "summary": "{\n  \"name\": \"tienda_unificada\",\n  \"rows\": 9435,\n  \"fields\": [\n    {\n      \"column\": \"Producto\",\n      \"properties\": {\n        \"dtype\": \"category\",\n        \"num_unique_values\": 51,\n        \"samples\": [\n          \"Guitarra ac\\u00fastica\",\n          \"Bal\\u00f3n de baloncesto\",\n          \"Smartwatch\"\n        ],\n        \"semantic_type\": \"\",\n        \"description\": \"\"\n      }\n    },\n    {\n      \"column\": \"Categor\\u00eda del Producto\",\n      \"properties\": {\n        \"dtype\": \"category\",\n        \"num_unique_values\": 8,\n        \"samples\": [\n          \"Muebles\",\n          \"Deportes y diversi\\u00f3n\",\n          \"Electr\\u00f3nicos\"\n        ],\n        \"semantic_type\": \"\",\n        \"description\": \"\"\n      }\n    },\n    {\n      \"column\": \"Precio\",\n      \"properties\": {\n        \"dtype\": \"number\",\n        \"std\": 590320.6753149017,\n        \"min\": 7600.0,\n        \"max\": 2977000.0,\n        \"num_unique_values\": 5483,\n        \"samples\": [\n          153400.0,\n          55600.0,\n          1518200.0\n        ],\n        \"semantic_type\": \"\",\n        \"description\": \"\"\n      }\n    },\n    {\n      \"column\": \"Costo de env\\u00edo\",\n      \"properties\": {\n        \"dtype\": \"number\",\n        \"std\": 31480.036345702658,\n        \"min\": 0.0,\n        \"max\": 162500.0,\n        \"num_unique_values\": 1204,\n        \"samples\": [\n          24100.0,\n          15400.0,\n          106400.0\n        ],\n        \"semantic_type\": \"\",\n        \"description\": \"\"\n      }\n    },\n    {\n      \"column\": \"Fecha de Compra\",\n      \"properties\": {\n        \"dtype\": \"object\",\n        \"num_unique_values\": 1185,\n        \"samples\": [\n          \"15/04/2021\",\n          \"28/08/2021\",\n          \"17/05/2022\"\n        ],\n        \"semantic_type\": \"\",\n        \"description\": \"\"\n      }\n    },\n    {\n      \"column\": \"Vendedor\",\n      \"properties\": {\n        \"dtype\": \"category\",\n        \"num_unique_values\": 14,\n        \"samples\": [\n          \"Juliana Costa\",\n          \"Mariana Herrera\",\n          \"Pedro Gomez\"\n        ],\n        \"semantic_type\": \"\",\n        \"description\": \"\"\n      }\n    },\n    {\n      \"column\": \"Lugar de Compra\",\n      \"properties\": {\n        \"dtype\": \"category\",\n        \"num_unique_values\": 19,\n        \"samples\": [\n          \"Bogot\\u00e1\",\n          \"Pereira\",\n          \"Neiva\"\n        ],\n        \"semantic_type\": \"\",\n        \"description\": \"\"\n      }\n    },\n    {\n      \"column\": \"Calificaci\\u00f3n\",\n      \"properties\": {\n        \"dtype\": \"number\",\n        \"std\": 1,\n        \"min\": 1,\n        \"max\": 5,\n        \"num_unique_values\": 5,\n        \"samples\": [\n          1,\n          2,\n          5\n        ],\n        \"semantic_type\": \"\",\n        \"description\": \"\"\n      }\n    },\n    {\n      \"column\": \"M\\u00e9todo de pago\",\n      \"properties\": {\n        \"dtype\": \"category\",\n        \"num_unique_values\": 4,\n        \"samples\": [\n          \"Nequi\",\n          \"Tarjeta de d\\u00e9bito\",\n          \"Tarjeta de cr\\u00e9dito\"\n        ],\n        \"semantic_type\": \"\",\n        \"description\": \"\"\n      }\n    },\n    {\n      \"column\": \"Cantidad de cuotas\",\n      \"properties\": {\n        \"dtype\": \"number\",\n        \"std\": 2,\n        \"min\": 1,\n        \"max\": 24,\n        \"num_unique_values\": 19,\n        \"samples\": [\n          8,\n          2,\n          14\n        ],\n        \"semantic_type\": \"\",\n        \"description\": \"\"\n      }\n    },\n    {\n      \"column\": \"lat\",\n      \"properties\": {\n        \"dtype\": \"number\",\n        \"std\": 2.3556634699371206,\n        \"min\": -4.21528,\n        \"max\": 11.54444,\n        \"num_unique_values\": 19,\n        \"samples\": [\n          4.60971,\n          4.81333,\n          2.9273\n        ],\n        \"semantic_type\": \"\",\n        \"description\": \"\"\n      }\n    },\n    {\n      \"column\": \"lon\",\n      \"properties\": {\n        \"dtype\": \"number\",\n        \"std\": 1.2071549925700666,\n        \"min\": -77.28111,\n        \"max\": -67.9239,\n        \"num_unique_values\": 19,\n        \"samples\": [\n          -74.08175,\n          -75.69611,\n          -75.28189\n        ],\n        \"semantic_type\": \"\",\n        \"description\": \"\"\n      }\n    }\n  ]\n}"
            }
          },
          "metadata": {},
          "execution_count": 3
        }
      ]
    },
    {
      "cell_type": "code",
      "source": [
        "# Lista de URLs de los archivos CSV\n",
        "urls = [\n",
        "    \"https://raw.githubusercontent.com/alura-es-cursos/challenge1-data-science-latam/refs/heads/main/base-de-datos-challenge1-latam/tienda_1%20.csv\",\n",
        "    \"https://raw.githubusercontent.com/alura-es-cursos/challenge1-data-science-latam/refs/heads/main/base-de-datos-challenge1-latam/tienda_2.csv\",\n",
        "    \"https://raw.githubusercontent.com/alura-es-cursos/challenge1-data-science-latam/refs/heads/main/base-de-datos-challenge1-latam/tienda_3.csv\",\n",
        "    \"https://raw.githubusercontent.com/alura-es-cursos/challenge1-data-science-latam/refs/heads/main/base-de-datos-challenge1-latam/tienda_4.csv\"\n",
        "]\n",
        "\n",
        "# Lista de nombres de tiendas correspondientes a cada URL\n",
        "nombres_tiendas = ['Tienda 1', 'Tienda 2', 'Tienda 3', 'Tienda 4']\n",
        "\n",
        "# Leer todos los archivos CSV y agregar una columna 'tienda'\n",
        "dataframes = []\n",
        "for url, nombre_tienda in zip(urls, nombres_tiendas):\n",
        "    df = pd.read_csv(url)\n",
        "    df['tienda'] = nombre_tienda  # Agregar columna 'tienda'\n",
        "    dataframes.append(df)\n",
        "\n",
        "# Combinar todos los DataFrames en uno solo\n",
        "tienda_unificada = pd.concat(dataframes, ignore_index=True)\n",
        "\n",
        "# Verificar las columnas del DataFrame unificado\n",
        "print(\"Columnas después de agregar la columna 'tienda':\")\n",
        "print(tienda_unificada.columns)\n"
      ],
      "metadata": {
        "colab": {
          "base_uri": "https://localhost:8080/"
        },
        "id": "4msUvizWvevH",
        "outputId": "87c7842a-71eb-4b40-ca4d-46c52f3efa0f"
      },
      "execution_count": null,
      "outputs": [
        {
          "output_type": "stream",
          "name": "stdout",
          "text": [
            "Columnas después de agregar la columna 'tienda':\n",
            "Index(['Producto', 'Categoría del Producto', 'Precio', 'Costo de envío',\n",
            "       'Fecha de Compra', 'Vendedor', 'Lugar de Compra', 'Calificación',\n",
            "       'Método de pago', 'Cantidad de cuotas', 'lat', 'lon', 'tienda'],\n",
            "      dtype='object')\n"
          ]
        }
      ]
    },
    {
      "cell_type": "code",
      "source": [
        "# Agrupar por tienda y calcular métricas de facturación\n",
        "analisis_facturacion = tienda_unificada.groupby('tienda').agg(\n",
        "    total_ventas=('Precio', 'sum'),  # Suma de precios (ventas totales)\n",
        "    promedio_ventas=('Precio', 'mean'),  # Promedio de precios\n",
        "    numero_transacciones=('Precio', 'count'),  # Número de transacciones\n",
        "    venta_maxima=('Precio', 'max'),  # Venta más alta\n",
        "    venta_minima=('Precio', 'min')  # Venta más baja\n",
        ").reset_index()\n",
        "\n",
        "# Mostrar el análisis de facturación\n",
        "print(\"\\nAnálisis de facturación por tienda:\")\n",
        "print(analisis_facturacion)"
      ],
      "metadata": {
        "colab": {
          "base_uri": "https://localhost:8080/"
        },
        "id": "E3Nprc-Nvkvg",
        "outputId": "3bb0e8e3-3862-49c3-8e17-1cc04bd4fb7f"
      },
      "execution_count": null,
      "outputs": [
        {
          "output_type": "stream",
          "name": "stdout",
          "text": [
            "\n",
            "Análisis de facturación por tienda:\n",
            "     tienda  total_ventas  promedio_ventas  numero_transacciones  \\\n",
            "0  Tienda 1  1.150880e+09    487867.910131                  2359   \n",
            "1  Tienda 2  1.116344e+09    473227.426876                  2359   \n",
            "2  Tienda 3  1.098020e+09    465459.771089                  2359   \n",
            "3  Tienda 4  1.038376e+09    440362.892282                  2358   \n",
            "\n",
            "   venta_maxima  venta_minima  \n",
            "0     2977000.0        7600.0  \n",
            "1     2953400.0        7600.0  \n",
            "2     2968200.0        7600.0  \n",
            "3     2902200.0        7600.0  \n"
          ]
        }
      ]
    },
    {
      "cell_type": "code",
      "source": [
        "import matplotlib.pyplot as plt\n",
        "\n",
        "# Gráfico de barras para el total de ventas por tienda\n",
        "plt.figure(figsize=(10, 6))\n",
        "plt.bar(analisis_facturacion['tienda'], analisis_facturacion['total_ventas'], color='skyblue')\n",
        "plt.title('Total de Ventas por Tienda')\n",
        "plt.xlabel('Tienda')\n",
        "plt.ylabel('Total de Ventas')\n",
        "plt.xticks(rotation=45)\n",
        "plt.show()"
      ],
      "metadata": {
        "colab": {
          "base_uri": "https://localhost:8080/",
          "height": 581
        },
        "id": "MC-D6PZUvpDB",
        "outputId": "c1ce1a25-af17-428c-9c78-f83d2caeefda"
      },
      "execution_count": null,
      "outputs": [
        {
          "output_type": "display_data",
          "data": {
            "text/plain": [
              "<Figure size 1000x600 with 1 Axes>"
            ],
            "image/png": "[encoded data removed]"
          },
          "metadata": {}
        }
      ]
    },
    {
      "cell_type": "code",
      "source": [
        "# Guardar el análisis en un archivo CSV\n",
        "analisis_facturacion.to_csv('analisis_facturacion.csv', index=False)\n",
        "print(\"\\nEl análisis de facturación ha sido guardado en 'analisis_facturacion.csv'.\")"
      ],
      "metadata": {
        "colab": {
          "base_uri": "https://localhost:8080/"
        },
        "id": "8QDsC-OHvuSL",
        "outputId": "0550b91f-a5b3-4f7d-bccb-1543bffa64e2"
      },
      "execution_count": null,
      "outputs": [
        {
          "output_type": "stream",
          "name": "stdout",
          "text": [
            "\n",
            "El análisis de facturación ha sido guardado en 'analisis_facturacion.csv'.\n"
          ]
        }
      ]
    },
    {
      "cell_type": "code",
      "source": [
        "# Opción 1: Usar print()\n",
        "print(analisis_facturacion)"
      ],
      "metadata": {
        "colab": {
          "base_uri": "https://localhost:8080/"
        },
        "id": "fXRQFx0vzp4v",
        "outputId": "7e41f8cc-d7d0-40ee-cc0d-34a2f0ca7736"
      },
      "execution_count": null,
      "outputs": [
        {
          "output_type": "stream",
          "name": "stdout",
          "text": [
            "     tienda  total_ventas  promedio_ventas  numero_transacciones  \\\n",
            "0  Tienda 1  1.150880e+09    487867.910131                  2359   \n",
            "1  Tienda 2  1.116344e+09    473227.426876                  2359   \n",
            "2  Tienda 3  1.098020e+09    465459.771089                  2359   \n",
            "3  Tienda 4  1.038376e+09    440362.892282                  2358   \n",
            "\n",
            "   venta_maxima  venta_minima  \n",
            "0     2977000.0        7600.0  \n",
            "1     2953400.0        7600.0  \n",
            "2     2968200.0        7600.0  \n",
            "3     2902200.0        7600.0  \n"
          ]
        }
      ]
    },
    {
      "cell_type": "markdown",
      "source": [
        "# 2. Ventas por categoría"
      ],
      "metadata": {
        "id": "2V_vcAPzWZmR"
      }
    },
    {
      "cell_type": "code",
      "source": [
        "# Mostrar las categorías únicas en el DataFrame\n",
        "print(\"Categorías únicas en el DataFrame:\")\n",
        "print(tienda_unificada['Categoría del Producto'].unique())"
      ],
      "metadata": {
        "id": "A34YupIuYhfF",
        "colab": {
          "base_uri": "https://localhost:8080/"
        },
        "outputId": "8f45419f-011e-4bed-c4a5-fb31e8d717d8"
      },
      "execution_count": null,
      "outputs": [
        {
          "output_type": "stream",
          "name": "stdout",
          "text": [
            "Categorías únicas en el DataFrame:\n",
            "['Electrónicos' 'Muebles' 'Juguetes' 'Electrodomésticos'\n",
            " 'Artículos para el hogar' 'Deportes y diversión' 'Libros'\n",
            " 'Instrumentos musicales']\n"
          ]
        }
      ]
    },
    {
      "cell_type": "code",
      "source": [
        "# Contar la frecuencia de cada categoría por tienda\n",
        "categorias_por_tienda = tienda_unificada.groupby(['tienda', 'Categoría del Producto']).size().reset_index(name='frecuencia')\n",
        "\n",
        "# Mostrar el resultado\n",
        "print(\"\\nFrecuencia de categorías por tienda:\")\n",
        "print(categorias_por_tienda)"
      ],
      "metadata": {
        "id": "yZR6cOjXYSk1",
        "colab": {
          "base_uri": "https://localhost:8080/"
        },
        "outputId": "059db46e-dd28-4bef-e50b-d81e3a037d74"
      },
      "execution_count": null,
      "outputs": [
        {
          "output_type": "stream",
          "name": "stdout",
          "text": [
            "\n",
            "Frecuencia de categorías por tienda:\n",
            "      tienda   Categoría del Producto  frecuencia\n",
            "0   Tienda 1  Artículos para el hogar         171\n",
            "1   Tienda 1     Deportes y diversión         284\n",
            "2   Tienda 1        Electrodomésticos         312\n",
            "3   Tienda 1             Electrónicos         448\n",
            "4   Tienda 1   Instrumentos musicales         182\n",
            "5   Tienda 1                 Juguetes         324\n",
            "6   Tienda 1                   Libros         173\n",
            "7   Tienda 1                  Muebles         465\n",
            "8   Tienda 2  Artículos para el hogar         181\n",
            "9   Tienda 2     Deportes y diversión         275\n",
            "10  Tienda 2        Electrodomésticos         305\n",
            "11  Tienda 2             Electrónicos         422\n",
            "12  Tienda 2   Instrumentos musicales         224\n",
            "13  Tienda 2                 Juguetes         313\n",
            "14  Tienda 2                   Libros         197\n",
            "15  Tienda 2                  Muebles         442\n",
            "16  Tienda 3  Artículos para el hogar         177\n",
            "17  Tienda 3     Deportes y diversión         277\n",
            "18  Tienda 3        Electrodomésticos         278\n",
            "19  Tienda 3             Electrónicos         451\n",
            "20  Tienda 3   Instrumentos musicales         177\n",
            "21  Tienda 3                 Juguetes         315\n",
            "22  Tienda 3                   Libros         185\n",
            "23  Tienda 3                  Muebles         499\n",
            "24  Tienda 4  Artículos para el hogar         201\n",
            "25  Tienda 4     Deportes y diversión         277\n",
            "26  Tienda 4        Electrodomésticos         254\n",
            "27  Tienda 4             Electrónicos         451\n",
            "28  Tienda 4   Instrumentos musicales         170\n",
            "29  Tienda 4                 Juguetes         338\n",
            "30  Tienda 4                   Libros         187\n",
            "31  Tienda 4                  Muebles         480\n"
          ]
        }
      ]
    },
    {
      "cell_type": "code",
      "source": [
        "# Encontrar la categoría más popular por tienda\n",
        "categoria_mas_popular = categorias_por_tienda.loc[categorias_por_tienda.groupby('tienda')['frecuencia'].idxmax()]\n",
        "\n",
        "# Mostrar el resultado\n",
        "print(\"\\nCategoría más popular por tienda:\")\n",
        "print(categoria_mas_popular)"
      ],
      "metadata": {
        "colab": {
          "base_uri": "https://localhost:8080/"
        },
        "id": "l7amt8Npxnxw",
        "outputId": "092f9935-0e80-44bf-875b-29e2caf42c11"
      },
      "execution_count": null,
      "outputs": [
        {
          "output_type": "stream",
          "name": "stdout",
          "text": [
            "\n",
            "Categoría más popular por tienda:\n",
            "      tienda Categoría del Producto  frecuencia\n",
            "7   Tienda 1                Muebles         465\n",
            "15  Tienda 2                Muebles         442\n",
            "23  Tienda 3                Muebles         499\n",
            "31  Tienda 4                Muebles         480\n"
          ]
        }
      ]
    },
    {
      "cell_type": "code",
      "source": [
        "# Guardar el análisis en un archivo CSV\n",
        "categoria_mas_popular.to_csv('categorias_mas_populares.csv', index=False)\n",
        "print(\"\\nEl análisis de categorías más populares ha sido guardado en 'categorias_mas_populares.csv'.\")"
      ],
      "metadata": {
        "colab": {
          "base_uri": "https://localhost:8080/"
        },
        "id": "bWbZirdRyF9P",
        "outputId": "e016bedf-bffc-4f72-e76d-49f9ed5be571"
      },
      "execution_count": null,
      "outputs": [
        {
          "output_type": "stream",
          "name": "stdout",
          "text": [
            "\n",
            "El análisis de categorías más populares ha sido guardado en 'categorias_mas_populares.csv'.\n"
          ]
        }
      ]
    },
    {
      "cell_type": "markdown",
      "source": [
        "# 3. Calificación promedio de la tienda\n"
      ],
      "metadata": {
        "id": "Rq6tU_xSY3jk"
      }
    },
    {
      "cell_type": "code",
      "source": [
        "# Mostrar las primeras filas de la columna 'Calificación'\n",
        "print(\"Primeras filas de la columna 'Calificación':\")\n",
        "print(tienda_unificada['Calificación'].head())\n",
        "\n",
        "# Resumen estadístico de la columna 'Calificación'\n",
        "print(\"\\nResumen estadístico de la columna 'Calificación':\")\n",
        "print(tienda_unificada['Calificación'].describe())"
      ],
      "metadata": {
        "id": "bh3jjjJwY5MU",
        "colab": {
          "base_uri": "https://localhost:8080/"
        },
        "outputId": "60db5a02-4a1f-4820-f955-635c77cd1f85"
      },
      "execution_count": null,
      "outputs": [
        {
          "output_type": "stream",
          "name": "stdout",
          "text": [
            "Primeras filas de la columna 'Calificación':\n",
            "0    4\n",
            "1    1\n",
            "2    1\n",
            "3    4\n",
            "4    5\n",
            "Name: Calificación, dtype: int64\n",
            "\n",
            "Resumen estadístico de la columna 'Calificación':\n",
            "count    9435.000000\n",
            "mean        4.014520\n",
            "std         1.390518\n",
            "min         1.000000\n",
            "25%         3.000000\n",
            "50%         5.000000\n",
            "75%         5.000000\n",
            "max         5.000000\n",
            "Name: Calificación, dtype: float64\n"
          ]
        }
      ]
    },
    {
      "cell_type": "code",
      "source": [
        "# Calcular el promedio de calificaciones por tienda\n",
        "promedio_calificaciones = tienda_unificada.groupby('tienda')['Calificación'].mean().reset_index()\n",
        "\n",
        "# Renombrar la columna para mayor claridad\n",
        "promedio_calificaciones.rename(columns={'Calificación': 'Promedio_Calificacion'}, inplace=True)\n",
        "\n",
        "# Mostrar el resultado\n",
        "print(\"\\nPromedio de calificaciones por tienda:\")\n",
        "print(promedio_calificaciones)"
      ],
      "metadata": {
        "id": "I0KkjPoTY88F",
        "colab": {
          "base_uri": "https://localhost:8080/"
        },
        "outputId": "b8b42f58-eb7b-4e9b-d4de-937a0fe7a39b"
      },
      "execution_count": null,
      "outputs": [
        {
          "output_type": "stream",
          "name": "stdout",
          "text": [
            "\n",
            "Promedio de calificaciones por tienda:\n",
            "     tienda  Promedio_Calificacion\n",
            "0  Tienda 1               3.976685\n",
            "1  Tienda 2               4.037304\n",
            "2  Tienda 3               4.048326\n",
            "3  Tienda 4               3.995759\n"
          ]
        }
      ]
    },
    {
      "cell_type": "code",
      "source": [
        "import matplotlib.pyplot as plt\n",
        "\n",
        "# Gráfico de barras para el promedio de calificaciones\n",
        "plt.figure(figsize=(10, 6))\n",
        "plt.bar(promedio_calificaciones['tienda'], promedio_calificaciones['Promedio_Calificacion'], color='orange')\n",
        "plt.title('Promedio de Calificaciones por Tienda')\n",
        "plt.xlabel('Tienda')\n",
        "plt.ylabel('Promedio de Calificaciones')\n",
        "plt.xticks(rotation=45)\n",
        "plt.show()"
      ],
      "metadata": {
        "colab": {
          "base_uri": "https://localhost:8080/",
          "height": 602
        },
        "id": "4J-IE6Z6yqnG",
        "outputId": "18ac48be-28a9-4e16-e0ef-5d534cfc35cd"
      },
      "execution_count": null,
      "outputs": [
        {
          "output_type": "display_data",
          "data": {
            "text/plain": [
              "<Figure size 1000x600 with 1 Axes>"
            ],
            "image/png": "[encoded data removed]"
          },
          "metadata": {}
        }
      ]
    },
    {
      "cell_type": "code",
      "source": [
        "# Guardar el análisis en un archivo CSV\n",
        "promedio_calificaciones.to_csv('promedio_calificaciones.csv', index=False)\n",
        "print(\"\\nEl análisis de promedio de calificaciones ha sido guardado en 'promedio_calificaciones.csv'.\")"
      ],
      "metadata": {
        "colab": {
          "base_uri": "https://localhost:8080/"
        },
        "id": "Uf6lw1hIyxaV",
        "outputId": "fd6476b2-0e3e-4891-9f72-974975abe5e1"
      },
      "execution_count": null,
      "outputs": [
        {
          "output_type": "stream",
          "name": "stdout",
          "text": [
            "\n",
            "El análisis de promedio de calificaciones ha sido guardado en 'promedio_calificaciones.csv'.\n"
          ]
        }
      ]
    },
    {
      "cell_type": "code",
      "source": [
        "# Opción 1: Usar print()\n",
        "print(promedio_calificaciones)"
      ],
      "metadata": {
        "colab": {
          "base_uri": "https://localhost:8080/"
        },
        "id": "D7T75IQkzWCW",
        "outputId": "599da1cc-86ae-48e2-f860-44cb2a4056f6"
      },
      "execution_count": null,
      "outputs": [
        {
          "output_type": "stream",
          "name": "stdout",
          "text": [
            "     tienda  Promedio_Calificacion\n",
            "0  Tienda 1               3.976685\n",
            "1  Tienda 2               4.037304\n",
            "2  Tienda 3               4.048326\n",
            "3  Tienda 4               3.995759\n"
          ]
        }
      ]
    },
    {
      "cell_type": "markdown",
      "source": [
        "# 4. Productos más y menos vendidos"
      ],
      "metadata": {
        "id": "DmNp1KPBZCm-"
      }
    },
    {
      "cell_type": "code",
      "source": [
        "# Contar las ventas de cada producto por tienda\n",
        "ventas_por_producto = tienda_unificada.groupby(['tienda', 'Producto']).size().reset_index(name='ventas')\n",
        "\n",
        "# Mostrar el resultado\n",
        "print(\"\\nVentas de cada producto por tienda:\")\n",
        "print(ventas_por_producto)"
      ],
      "metadata": {
        "id": "qoyjqijQZHfF",
        "colab": {
          "base_uri": "https://localhost:8080/"
        },
        "outputId": "05cbad8e-d58f-49e6-d4ae-706d47cfb79e"
      },
      "execution_count": null,
      "outputs": [
        {
          "output_type": "stream",
          "name": "stdout",
          "text": [
            "\n",
            "Ventas de cada producto por tienda:\n",
            "       tienda                   Producto  ventas\n",
            "0    Tienda 1          Ajedrez de madera      49\n",
            "1    Tienda 1                    Armario      60\n",
            "2    Tienda 1          Asistente virtual      40\n",
            "3    Tienda 1                Auriculares      50\n",
            "4    Tienda 1  Auriculares con micrófono      33\n",
            "..        ...                        ...     ...\n",
            "199  Tienda 4                 Smartwatch      39\n",
            "200  Tienda 4            Sofá reclinable      47\n",
            "201  Tienda 4              TV LED UHD 4K      40\n",
            "202  Tienda 4                Tablet ABXY      45\n",
            "203  Tienda 4               Vaso térmico      48\n",
            "\n",
            "[204 rows x 3 columns]\n"
          ]
        }
      ]
    },
    {
      "cell_type": "code",
      "source": [
        "# Encontrar el producto más vendido por tienda\n",
        "productos_mas_vendidos = ventas_por_producto.loc[ventas_por_producto.groupby('tienda')['ventas'].idxmax()]\n",
        "\n",
        "# Encontrar el producto menos vendido por tienda\n",
        "productos_menos_vendidos = ventas_por_producto.loc[ventas_por_producto.groupby('tienda')['ventas'].idxmin()]\n",
        "\n",
        "# Mostrar los resultados\n",
        "print(\"\\nProductos más vendidos por tienda:\")\n",
        "print(productos_mas_vendidos)\n",
        "\n",
        "print(\"\\nProductos menos vendidos por tienda:\")\n",
        "print(productos_menos_vendidos)"
      ],
      "metadata": {
        "id": "0Sw3sd4IZIGW",
        "colab": {
          "base_uri": "https://localhost:8080/"
        },
        "outputId": "8537c015-0918-470b-82ff-5711d100753e"
      },
      "execution_count": null,
      "outputs": [
        {
          "output_type": "stream",
          "name": "stdout",
          "text": [
            "\n",
            "Productos más vendidos por tienda:\n",
            "       tienda                   Producto  ventas\n",
            "1    Tienda 1                    Armario      60\n",
            "75   Tienda 2  Iniciando en programación      65\n",
            "129  Tienda 3              Kit de bancas      57\n",
            "163  Tienda 4                   Cama box      62\n",
            "\n",
            "Productos menos vendidos por tienda:\n",
            "       tienda                   Producto  ventas\n",
            "4    Tienda 1  Auriculares con micrófono      33\n",
            "77   Tienda 2              Juego de mesa      32\n",
            "111  Tienda 3    Bloques de construcción      35\n",
            "175  Tienda 4         Guitarra eléctrica      33\n"
          ]
        }
      ]
    },
    {
      "cell_type": "code",
      "source": [
        "# Contar las ventas de cada producto en el total\n",
        "ventas_totales = tienda_unificada.groupby('Producto').size().reset_index(name='ventas')\n",
        "\n",
        "# Encontrar el producto más vendido en el total\n",
        "producto_mas_vendido_total = ventas_totales.loc[ventas_totales['ventas'].idxmax()]\n",
        "\n",
        "# Encontrar el producto menos vendido en el total\n",
        "producto_menos_vendido_total = ventas_totales.loc[ventas_totales['ventas'].idxmin()]\n",
        "\n",
        "# Mostrar los resultados\n",
        "print(\"\\nProducto más vendido en el total:\")\n",
        "print(producto_mas_vendido_total)\n",
        "\n",
        "print(\"\\nProducto menos vendido en el total:\")\n",
        "print(producto_menos_vendido_total)"
      ],
      "metadata": {
        "colab": {
          "base_uri": "https://localhost:8080/"
        },
        "id": "DiuCfb7HDcek",
        "outputId": "5b35fba7-99c2-4d15-896d-35e6faa17569"
      },
      "execution_count": null,
      "outputs": [
        {
          "output_type": "stream",
          "name": "stdout",
          "text": [
            "\n",
            "Producto más vendido en el total:\n",
            "Producto    Mesa de noche\n",
            "ventas                210\n",
            "Name: 32, dtype: object\n",
            "\n",
            "Producto menos vendido en el total:\n",
            "Producto    Celular ABXY\n",
            "ventas               157\n",
            "Name: 13, dtype: object\n"
          ]
        }
      ]
    },
    {
      "cell_type": "code",
      "source": [
        "import matplotlib.pyplot as plt\n",
        "\n",
        "# Gráfico de barras para productos más vendidos por tienda\n",
        "plt.figure(figsize=(10, 6))\n",
        "plt.bar(productos_mas_vendidos['tienda'], productos_mas_vendidos['Producto'], color='skyblue')\n",
        "plt.title('Productos Más Vendidos por Tienda')\n",
        "plt.xlabel('Tienda')\n",
        "plt.ylabel('Producto Más Vendido')\n",
        "plt.xticks(rotation=45)\n",
        "plt.show()"
      ],
      "metadata": {
        "colab": {
          "base_uri": "https://localhost:8080/",
          "height": 603
        },
        "id": "OP7KGnVJDkVC",
        "outputId": "dceddd3e-9b87-45fa-bb3b-5c7971b46766"
      },
      "execution_count": null,
      "outputs": [
        {
          "output_type": "display_data",
          "data": {
            "text/plain": [
              "<Figure size 1000x600 with 1 Axes>"
            ],
            "image/png": "[encoded data removed]"
          },
          "metadata": {}
        }
      ]
    },
    {
      "cell_type": "code",
      "source": [
        "# Gráfico de barras para productos menos vendidos por tienda\n",
        "plt.figure(figsize=(10, 6))\n",
        "plt.bar(productos_menos_vendidos['tienda'], productos_menos_vendidos['Producto'], color='lightcoral')\n",
        "plt.title('Productos Menos Vendidos por Tienda')\n",
        "plt.xlabel('Tienda')\n",
        "plt.ylabel('Producto Menos Vendido')\n",
        "plt.xticks(rotation=45)\n",
        "plt.show()"
      ],
      "metadata": {
        "colab": {
          "base_uri": "https://localhost:8080/",
          "height": 602
        },
        "id": "n0IBWFFaDqX-",
        "outputId": "841f499f-f115-4b39-a2ea-2cc78e823654"
      },
      "execution_count": null,
      "outputs": [
        {
          "output_type": "display_data",
          "data": {
            "text/plain": [
              "<Figure size 1000x600 with 1 Axes>"
            ],
            "image/png": "[encoded data removed]"
          },
          "metadata": {}
        }
      ]
    },
    {
      "cell_type": "code",
      "source": [
        "# Guardar el análisis de productos más vendidos por tienda\n",
        "productos_mas_vendidos.to_csv('productos_mas_vendidos.csv', index=False)\n",
        "\n",
        "# Guardar el análisis de productos menos vendidos por tienda\n",
        "productos_menos_vendidos.to_csv('productos_menos_vendidos.csv', index=False)\n",
        "\n",
        "# Guardar el análisis de productos más y menos vendidos en el total\n",
        "ventas_totales.to_csv('ventas_totales.csv', index=False)\n",
        "\n",
        "print(\"\\nLos análisis han sido guardados en archivos CSV.\")"
      ],
      "metadata": {
        "colab": {
          "base_uri": "https://localhost:8080/"
        },
        "id": "FSkoy8GIDvEE",
        "outputId": "315774fc-b674-4432-ea1d-bb307e2a607a"
      },
      "execution_count": null,
      "outputs": [
        {
          "output_type": "stream",
          "name": "stdout",
          "text": [
            "\n",
            "Los análisis han sido guardados en archivos CSV.\n"
          ]
        }
      ]
    },
    {
      "cell_type": "code",
      "source": [
        "print (productos_mas_vendidos)"
      ],
      "metadata": {
        "colab": {
          "base_uri": "https://localhost:8080/"
        },
        "id": "NPq-8_DCEUEf",
        "outputId": "a68abddf-9e03-435c-d561-8fe26c06a1df"
      },
      "execution_count": null,
      "outputs": [
        {
          "output_type": "stream",
          "name": "stdout",
          "text": [
            "       tienda                   Producto  ventas\n",
            "1    Tienda 1                    Armario      60\n",
            "75   Tienda 2  Iniciando en programación      65\n",
            "129  Tienda 3              Kit de bancas      57\n",
            "163  Tienda 4                   Cama box      62\n"
          ]
        }
      ]
    },
    {
      "cell_type": "code",
      "source": [
        "print (productos_menos_vendidos)"
      ],
      "metadata": {
        "colab": {
          "base_uri": "https://localhost:8080/"
        },
        "id": "GsOxl3tqExu-",
        "outputId": "d777c63e-4b9e-4af7-ad97-a5d73bf4b37e"
      },
      "execution_count": null,
      "outputs": [
        {
          "output_type": "stream",
          "name": "stdout",
          "text": [
            "       tienda                   Producto  ventas\n",
            "4    Tienda 1  Auriculares con micrófono      33\n",
            "77   Tienda 2              Juego de mesa      32\n",
            "111  Tienda 3    Bloques de construcción      35\n",
            "175  Tienda 4         Guitarra eléctrica      33\n"
          ]
        }
      ]
    },
    {
      "cell_type": "code",
      "source": [
        "print (ventas_totales)"
      ],
      "metadata": {
        "colab": {
          "base_uri": "https://localhost:8080/"
        },
        "id": "N00K4nKSE3CM",
        "outputId": "2e068338-14a8-4128-bccd-9f9ea887fc4e"
      },
      "execution_count": null,
      "outputs": [
        {
          "output_type": "stream",
          "name": "stdout",
          "text": [
            "                       Producto  ventas\n",
            "0             Ajedrez de madera     180\n",
            "1                       Armario     197\n",
            "2             Asistente virtual     167\n",
            "3                   Auriculares     174\n",
            "4     Auriculares con micrófono     158\n",
            "5           Balón de baloncesto     197\n",
            "6             Balón de voleibol     184\n",
            "7                       Batería     203\n",
            "8                     Bicicleta     196\n",
            "9       Bloques de construcción     199\n",
            "10                     Cama box     199\n",
            "11                    Cama king     201\n",
            "12    Carrito de control remoto     206\n",
            "13                 Celular ABXY     157\n",
            "14  Ciencia de datos con Python     166\n",
            "15                   Cubertería     189\n",
            "16              Cubo mágico 8x8     180\n",
            "17           Cuerda para saltar     186\n",
            "18      Dashboards con Power BI     181\n",
            "19               Dinosaurio Rex     175\n",
            "20                       Estufa     187\n",
            "21            Guitarra acústica     188\n",
            "22           Guitarra eléctrica     165\n",
            "23                    Impresora     188\n",
            "24    Iniciando en programación     195\n",
            "25                    Iphone 15     198\n",
            "26                Juego de mesa     175\n",
            "27                Kit de bancas     188\n",
            "28             Lavadora de ropa     176\n",
            "29                 Lavavajillas     189\n",
            "30               Mesa de centro     175\n",
            "31              Mesa de comedor     185\n",
            "32                Mesa de noche     210\n",
            "33                   Microondas     206\n",
            "34                      Mochila     163\n",
            "35          Modelado predictivo     200\n",
            "36                  Muñeca bebé     175\n",
            "37              Olla de presión     172\n",
            "38                    Pandereta     197\n",
            "39                 Refrigerador     191\n",
            "40             Secadora de ropa     200\n",
            "41                 Set de ollas     200\n",
            "42                 Set de vasos     169\n",
            "43             Silla de oficina     181\n",
            "44                       Sillón     168\n",
            "45                     Smart TV     192\n",
            "46                   Smartwatch     172\n",
            "47              Sofá reclinable     182\n",
            "48                TV LED UHD 4K     187\n",
            "49                  Tablet ABXY     179\n",
            "50                 Vaso térmico     187\n"
          ]
        }
      ]
    },
    {
      "cell_type": "markdown",
      "source": [
        "# 5. Envío promedio por tienda"
      ],
      "metadata": {
        "id": "Fl0cGi3bZKqU"
      }
    },
    {
      "cell_type": "code",
      "source": [
        "# Mostrar las primeras filas de las columnas relevantes\n",
        "print(\"Primeras filas de las columnas 'Costo de envío' y 'Precio':\")\n",
        "print(tienda_unificada[['Costo de envío', 'Precio']].head())\n",
        "\n",
        "# Resumen estadístico de las columnas\n",
        "print(\"\\nResumen estadístico de 'Costo de envío' y 'Precio':\")\n",
        "print(tienda_unificada[['Costo de envío', 'Precio']].describe())"
      ],
      "metadata": {
        "id": "S2JeaCykZNy9",
        "colab": {
          "base_uri": "https://localhost:8080/"
        },
        "outputId": "8edde7d9-00aa-4580-b759-2b032c9b61d9"
      },
      "execution_count": null,
      "outputs": [
        {
          "output_type": "stream",
          "name": "stdout",
          "text": [
            "Primeras filas de las columnas 'Costo de envío' y 'Precio':\n",
            "   Costo de envío    Precio\n",
            "0          6900.0  164300.0\n",
            "1          8400.0  192300.0\n",
            "2         15900.0  209600.0\n",
            "3         41000.0  757500.0\n",
            "4         20200.0  335200.0\n",
            "\n",
            "Resumen estadístico de 'Costo de envío' y 'Precio':\n",
            "       Costo de envío        Precio\n",
            "count     9435.000000  9.435000e+03\n",
            "mean     24875.145734  4.667323e+05\n",
            "std      31480.036346  5.903207e+05\n",
            "min          0.000000  7.600000e+03\n",
            "25%       3000.000000  5.520000e+04\n",
            "50%      11700.000000  2.215000e+05\n",
            "75%      34900.000000  6.633000e+05\n",
            "max     162500.000000  2.977000e+06\n"
          ]
        }
      ]
    },
    {
      "cell_type": "code",
      "source": [
        "# Calcular el costo promedio de envío por tienda\n",
        "costo_envio_promedio_por_tienda = tienda_unificada.groupby('tienda')['Costo de envío'].mean().reset_index()\n",
        "costo_envio_promedio_por_tienda.rename(columns={'Costo de envío': 'Costo_Envio_Promedio'}, inplace=True)\n",
        "\n",
        "# Mostrar el resultado\n",
        "print(\"\\nCosto promedio de envío por tienda:\")\n",
        "print(costo_envio_promedio_por_tienda)"
      ],
      "metadata": {
        "id": "0tSdCie9ZQlt",
        "colab": {
          "base_uri": "https://localhost:8080/"
        },
        "outputId": "2ac62bae-6410-4252-e813-adc778210519"
      },
      "execution_count": null,
      "outputs": [
        {
          "output_type": "stream",
          "name": "stdout",
          "text": [
            "\n",
            "Costo promedio de envío por tienda:\n",
            "     tienda  Costo_Envio_Promedio\n",
            "0  Tienda 1          26018.609580\n",
            "1  Tienda 2          25216.235693\n",
            "2  Tienda 3          24805.680373\n",
            "3  Tienda 4          23459.457167\n"
          ]
        }
      ]
    },
    {
      "cell_type": "code",
      "source": [
        "# Calcular el costo promedio de envío en total\n",
        "costo_envio_promedio_total = tienda_unificada['Costo de envío'].mean()\n",
        "\n",
        "# Mostrar el resultado\n",
        "print(\"\\nCosto promedio de envío en total:\")\n",
        "print(costo_envio_promedio_total)"
      ],
      "metadata": {
        "colab": {
          "base_uri": "https://localhost:8080/"
        },
        "id": "xqxVDYtMGUJo",
        "outputId": "e3fec717-a75b-45b4-fe79-e53aaa9ab9ae"
      },
      "execution_count": null,
      "outputs": [
        {
          "output_type": "stream",
          "name": "stdout",
          "text": [
            "\n",
            "Costo promedio de envío en total:\n",
            "24875.145733969264\n"
          ]
        }
      ]
    },
    {
      "cell_type": "code",
      "source": [
        "# Encontrar el producto con el costo de envío más caro por tienda\n",
        "producto_envio_mas_caro_por_tienda = tienda_unificada.loc[\n",
        "    tienda_unificada.groupby('tienda')['Costo de envío'].idxmax()\n",
        "][['tienda', 'Producto', 'Costo de envío']]\n",
        "\n",
        "# Mostrar el resultado\n",
        "print(\"\\nProducto con el costo de envío más caro por tienda:\")\n",
        "print(producto_envio_mas_caro_por_tienda)"
      ],
      "metadata": {
        "colab": {
          "base_uri": "https://localhost:8080/"
        },
        "id": "FMVAav4qGZbS",
        "outputId": "f607488b-27c7-4a66-c962-25219c197580"
      },
      "execution_count": null,
      "outputs": [
        {
          "output_type": "stream",
          "name": "stdout",
          "text": [
            "\n",
            "Producto con el costo de envío más caro por tienda:\n",
            "        tienda       Producto  Costo de envío\n",
            "1020  Tienda 1  TV LED UHD 4K        160800.0\n",
            "2477  Tienda 2  TV LED UHD 4K        162500.0\n",
            "7013  Tienda 3  TV LED UHD 4K        158400.0\n",
            "7724  Tienda 4  TV LED UHD 4K        154700.0\n"
          ]
        }
      ]
    },
    {
      "cell_type": "code",
      "source": [
        "# Encontrar el producto con el costo de envío más caro en total\n",
        "producto_envio_mas_caro_total = tienda_unificada.loc[\n",
        "    tienda_unificada['Costo de envío'].idxmax()\n",
        "][['Producto', 'Costo de envío']]\n",
        "\n",
        "# Mostrar el resultado\n",
        "print(\"\\nProducto con el costo de envío más caro en total:\")\n",
        "print(producto_envio_mas_caro_total)"
      ],
      "metadata": {
        "colab": {
          "base_uri": "https://localhost:8080/"
        },
        "id": "-N6JcvzNGfDm",
        "outputId": "d8362472-3c31-4955-b481-7c9056b21d70"
      },
      "execution_count": null,
      "outputs": [
        {
          "output_type": "stream",
          "name": "stdout",
          "text": [
            "\n",
            "Producto con el costo de envío más caro en total:\n",
            "Producto          TV LED UHD 4K\n",
            "Costo de envío         162500.0\n",
            "Name: 2477, dtype: object\n"
          ]
        }
      ]
    },
    {
      "cell_type": "code",
      "source": [
        "# Crear una columna con el cociente entre precio y costo de envío\n",
        "tienda_unificada['Relacion_Costo'] = tienda_unificada['Precio'] / tienda_unificada['Costo de envío']\n",
        "\n",
        "# Mostrar las primeras filas con la nueva columna\n",
        "print(\"\\nPrimeras filas con la relación costo_producto / costo_envio:\")\n",
        "print(tienda_unificada[['Producto', 'Precio', 'Costo de envío', 'Relacion_Costo']].head())"
      ],
      "metadata": {
        "colab": {
          "base_uri": "https://localhost:8080/"
        },
        "id": "hko7epaKGk3W",
        "outputId": "4bb0bbae-f800-4b76-fb06-3e0a16600959"
      },
      "execution_count": null,
      "outputs": [
        {
          "output_type": "stream",
          "name": "stdout",
          "text": [
            "\n",
            "Primeras filas con la relación costo_producto / costo_envio:\n",
            "            Producto    Precio  Costo de envío  Relacion_Costo\n",
            "0  Asistente virtual  164300.0          6900.0       23.811594\n",
            "1    Mesa de comedor  192300.0          8400.0       22.892857\n",
            "2      Juego de mesa  209600.0         15900.0       13.182390\n",
            "3         Microondas  757500.0         41000.0       18.475610\n",
            "4   Silla de oficina  335200.0         20200.0       16.594059\n"
          ]
        }
      ]
    },
    {
      "cell_type": "code",
      "source": [
        "# Definir un umbral para la relación (por ejemplo, 2.0)\n",
        "umbral_relacion = 2.0\n",
        "\n",
        "# Filtrar los productos con una relación baja\n",
        "productos_a_eliminar = tienda_unificada[tienda_unificada['Relacion_Costo'] < umbral_relacion][\n",
        "    ['Producto', 'Precio', 'Costo de envío', 'Relacion_Costo']\n",
        "]\n",
        "\n",
        "# Mostrar los productos candidatos a eliminarse\n",
        "print(\"\\nProductos candidatos a eliminarse debido a altos costos de envío:\")\n",
        "print(productos_a_eliminar)"
      ],
      "metadata": {
        "colab": {
          "base_uri": "https://localhost:8080/"
        },
        "id": "VeC3VehjGvOq",
        "outputId": "9e86944f-a9e0-4a54-9078-3a86f6ceb22b"
      },
      "execution_count": null,
      "outputs": [
        {
          "output_type": "stream",
          "name": "stdout",
          "text": [
            "\n",
            "Productos candidatos a eliminarse debido a altos costos de envío:\n",
            "                Producto   Precio  Costo de envío  Relacion_Costo\n",
            "687      Cubo mágico 8x8  15400.0          8300.0        1.855422\n",
            "2268      Dinosaurio Rex  15300.0          9500.0        1.610526\n",
            "2293  Cuerda para saltar   9700.0          7700.0        1.259740\n",
            "2602     Cubo mágico 8x8   9500.0          7300.0        1.301370\n",
            "2750  Cuerda para saltar   8600.0          5100.0        1.686275\n",
            "3406     Cubo mágico 8x8  10500.0          7400.0        1.418919\n",
            "3437  Cuerda para saltar   7600.0          5200.0        1.461538\n",
            "4264  Cuerda para saltar   8900.0          5300.0        1.679245\n",
            "4334     Cubo mágico 8x8   8900.0          5300.0        1.679245\n",
            "5882      Dinosaurio Rex  18600.0          9700.0        1.917526\n",
            "8288     Cubo mágico 8x8  14400.0          7600.0        1.894737\n"
          ]
        }
      ]
    },
    {
      "cell_type": "code",
      "source": [
        "# Crear una columna con la relación costo/envío\n",
        "tienda_unificada['Relacion_Costo_Envio'] = tienda_unificada['Precio'] / tienda_unificada['Costo de envío']\n",
        "\n",
        "# Mostrar las primeras filas con la nueva columna\n",
        "print(\"\\nPrimeras filas con la relación costo/envío:\")\n",
        "print(tienda_unificada[['Producto', 'Precio', 'Costo de envío', 'Relacion_Costo_Envio']].head())"
      ],
      "metadata": {
        "colab": {
          "base_uri": "https://localhost:8080/"
        },
        "id": "4ybHQCxHHRZC",
        "outputId": "2a0a0f20-1452-44d5-e922-912cd561b3c2"
      },
      "execution_count": null,
      "outputs": [
        {
          "output_type": "stream",
          "name": "stdout",
          "text": [
            "\n",
            "Primeras filas con la relación costo/envío:\n",
            "            Producto    Precio  Costo de envío  Relacion_Costo_Envio\n",
            "0  Asistente virtual  164300.0          6900.0             23.811594\n",
            "1    Mesa de comedor  192300.0          8400.0             22.892857\n",
            "2      Juego de mesa  209600.0         15900.0             13.182390\n",
            "3         Microondas  757500.0         41000.0             18.475610\n",
            "4   Silla de oficina  335200.0         20200.0             16.594059\n"
          ]
        }
      ]
    },
    {
      "cell_type": "code",
      "source": [
        "# Función para obtener los 10 mejores y peores productos por tienda\n",
        "def mejores_peores_por_tienda(df, columna_relacion):\n",
        "    mejores = df.loc[df.groupby('tienda')[columna_relacion].nlargest(10).index.get_level_values(1)]\n",
        "    peores = df.loc[df.groupby('tienda')[columna_relacion].nsmallest(10).index.get_level_values(1)]\n",
        "    return mejores, peores\n",
        "\n",
        "# Obtener los 10 mejores y peores productos por tienda\n",
        "mejores_por_tienda, peores_por_tienda = mejores_peores_por_tienda(tienda_unificada, 'Relacion_Costo_Envio')\n",
        "\n",
        "# Mostrar los resultados\n",
        "print(\"\\n10 productos con mejor relación costo/envío por tienda:\")\n",
        "print(mejores_por_tienda[['tienda', 'Producto', 'Relacion_Costo_Envio']])\n",
        "\n",
        "print(\"\\n10 productos con peor relación costo/envío por tienda:\")\n",
        "print(peores_por_tienda[['tienda', 'Producto', 'Relacion_Costo_Envio']])"
      ],
      "metadata": {
        "colab": {
          "base_uri": "https://localhost:8080/"
        },
        "id": "Exf_TieyHWFr",
        "outputId": "5f309f5f-dc04-40eb-e229-9a6d66d827be"
      },
      "execution_count": null,
      "outputs": [
        {
          "output_type": "stream",
          "name": "stdout",
          "text": [
            "\n",
            "10 productos con mejor relación costo/envío por tienda:\n",
            "        tienda                     Producto  Relacion_Costo_Envio\n",
            "5     Tienda 1      Bloques de construcción                   inf\n",
            "6     Tienda 1                  Muñeca bebé                   inf\n",
            "24    Tienda 1      Dashboards con Power BI                   inf\n",
            "54    Tienda 1              Cubo mágico 8x8                   inf\n",
            "60    Tienda 1           Cuerda para saltar                   inf\n",
            "90    Tienda 1                  Muñeca bebé                   inf\n",
            "103   Tienda 1      Dashboards con Power BI                   inf\n",
            "116   Tienda 1      Dashboards con Power BI                   inf\n",
            "117   Tienda 1      Bloques de construcción                   inf\n",
            "135   Tienda 1      Dashboards con Power BI                   inf\n",
            "2377  Tienda 2      Dashboards con Power BI                   inf\n",
            "2379  Tienda 2                 Set de vasos                   inf\n",
            "2381  Tienda 2  Ciencia de datos con Python                   inf\n",
            "2385  Tienda 2                 Vaso térmico                   inf\n",
            "2392  Tienda 2                  Muñeca bebé                   inf\n",
            "2405  Tienda 2                    Pandereta                   inf\n",
            "2413  Tienda 2      Dashboards con Power BI                   inf\n",
            "2417  Tienda 2                 Set de vasos                   inf\n",
            "2427  Tienda 2      Bloques de construcción                   inf\n",
            "2443  Tienda 2                   Cubertería                   inf\n",
            "4727  Tienda 3                   Cubertería                   inf\n",
            "4728  Tienda 3                  Muñeca bebé                   inf\n",
            "4740  Tienda 3               Dinosaurio Rex                   inf\n",
            "4755  Tienda 3                 Set de vasos                   inf\n",
            "4786  Tienda 3            Ajedrez de madera                   inf\n",
            "4791  Tienda 3            Ajedrez de madera                   inf\n",
            "4792  Tienda 3           Cuerda para saltar                   inf\n",
            "4798  Tienda 3      Dashboards con Power BI                   inf\n",
            "4828  Tienda 3  Ciencia de datos con Python                   inf\n",
            "4833  Tienda 3      Dashboards con Power BI                   inf\n",
            "7079  Tienda 4          Balón de baloncesto                   inf\n",
            "7088  Tienda 4                  Muñeca bebé                   inf\n",
            "7097  Tienda 4           Cuerda para saltar                   inf\n",
            "7107  Tienda 4      Dashboards con Power BI                   inf\n",
            "7151  Tienda 4            Balón de voleibol                   inf\n",
            "7161  Tienda 4                  Muñeca bebé                   inf\n",
            "7162  Tienda 4            Ajedrez de madera                   inf\n",
            "7165  Tienda 4          Balón de baloncesto                   inf\n",
            "7172  Tienda 4          Balón de baloncesto                   inf\n",
            "7193  Tienda 4      Dashboards con Power BI                   inf\n",
            "\n",
            "10 productos con peor relación costo/envío por tienda:\n",
            "        tienda             Producto  Relacion_Costo_Envio\n",
            "2293  Tienda 1   Cuerda para saltar              1.259740\n",
            "2268  Tienda 1       Dinosaurio Rex              1.610526\n",
            "687   Tienda 1      Cubo mágico 8x8              1.855422\n",
            "2143  Tienda 1      Cubo mágico 8x8              2.112245\n",
            "343   Tienda 1       Dinosaurio Rex              2.122449\n",
            "260   Tienda 1   Cuerda para saltar              2.282051\n",
            "1459  Tienda 1   Cuerda para saltar              2.474359\n",
            "480   Tienda 1   Cuerda para saltar              2.491803\n",
            "848   Tienda 1   Cuerda para saltar              2.705882\n",
            "1215  Tienda 1  Balón de baloncesto              2.705882\n",
            "2602  Tienda 2      Cubo mágico 8x8              1.301370\n",
            "3406  Tienda 2      Cubo mágico 8x8              1.418919\n",
            "3437  Tienda 2   Cuerda para saltar              1.461538\n",
            "4264  Tienda 2   Cuerda para saltar              1.679245\n",
            "4334  Tienda 2      Cubo mágico 8x8              1.679245\n",
            "2750  Tienda 2   Cuerda para saltar              1.686275\n",
            "3312  Tienda 2   Cuerda para saltar              2.000000\n",
            "2987  Tienda 2   Cuerda para saltar              2.184211\n",
            "2368  Tienda 2      Cubo mágico 8x8              2.394737\n",
            "2504  Tienda 2       Dinosaurio Rex              2.642857\n",
            "5882  Tienda 3       Dinosaurio Rex              1.917526\n",
            "6732  Tienda 3       Dinosaurio Rex              2.060606\n",
            "6948  Tienda 3      Cubo mágico 8x8              2.358491\n",
            "6863  Tienda 3      Cubo mágico 8x8              2.425926\n",
            "5371  Tienda 3   Cuerda para saltar              2.454545\n",
            "5002  Tienda 3   Cuerda para saltar              2.839286\n",
            "6605  Tienda 3       Dinosaurio Rex              2.945455\n",
            "5318  Tienda 3      Cubo mágico 8x8              3.568966\n",
            "6361  Tienda 3   Cuerda para saltar              3.593220\n",
            "6353  Tienda 3      Cubo mágico 8x8              3.620690\n",
            "8288  Tienda 4      Cubo mágico 8x8              1.894737\n",
            "7773  Tienda 4       Dinosaurio Rex              2.020408\n",
            "8590  Tienda 4      Cubo mágico 8x8              2.214286\n",
            "7194  Tienda 4   Cuerda para saltar              2.307692\n",
            "7617  Tienda 4   Cuerda para saltar              2.614286\n",
            "8296  Tienda 4       Dinosaurio Rex              2.666667\n",
            "7208  Tienda 4       Dinosaurio Rex              2.704225\n",
            "7387  Tienda 4         Set de vasos              2.715686\n",
            "9266  Tienda 4   Cuerda para saltar              2.787879\n",
            "7826  Tienda 4       Dinosaurio Rex              2.985507\n"
          ]
        }
      ]
    },
    {
      "cell_type": "code",
      "source": [
        "# Obtener los 10 mejores productos en total\n",
        "mejores_totales = tienda_unificada.nlargest(10, 'Relacion_Costo_Envio')[['Producto', 'Relacion_Costo_Envio']]\n",
        "\n",
        "# Obtener los 10 peores productos en total\n",
        "peores_totales = tienda_unificada.nsmallest(10, 'Relacion_Costo_Envio')[['Producto', 'Relacion_Costo_Envio']]\n",
        "\n",
        "# Mostrar los resultados\n",
        "print(\"\\n10 productos con mejor relación costo/envío en total:\")\n",
        "print(mejores_totales)\n",
        "\n",
        "print(\"\\n10 productos con peor relación costo/envío en total:\")\n",
        "print(peores_totales)"
      ],
      "metadata": {
        "colab": {
          "base_uri": "https://localhost:8080/"
        },
        "id": "UU-MZk84Hifo",
        "outputId": "e8e80488-f4e3-4687-9856-ccc1c5ed497c"
      },
      "execution_count": null,
      "outputs": [
        {
          "output_type": "stream",
          "name": "stdout",
          "text": [
            "\n",
            "10 productos con mejor relación costo/envío en total:\n",
            "                    Producto  Relacion_Costo_Envio\n",
            "5    Bloques de construcción                   inf\n",
            "6                Muñeca bebé                   inf\n",
            "24   Dashboards con Power BI                   inf\n",
            "54           Cubo mágico 8x8                   inf\n",
            "60        Cuerda para saltar                   inf\n",
            "90               Muñeca bebé                   inf\n",
            "103  Dashboards con Power BI                   inf\n",
            "116  Dashboards con Power BI                   inf\n",
            "117  Bloques de construcción                   inf\n",
            "135  Dashboards con Power BI                   inf\n",
            "\n",
            "10 productos con peor relación costo/envío en total:\n",
            "                Producto  Relacion_Costo_Envio\n",
            "2293  Cuerda para saltar              1.259740\n",
            "2602     Cubo mágico 8x8              1.301370\n",
            "3406     Cubo mágico 8x8              1.418919\n",
            "3437  Cuerda para saltar              1.461538\n",
            "2268      Dinosaurio Rex              1.610526\n",
            "4264  Cuerda para saltar              1.679245\n",
            "4334     Cubo mágico 8x8              1.679245\n",
            "2750  Cuerda para saltar              1.686275\n",
            "687      Cubo mágico 8x8              1.855422\n",
            "8288     Cubo mágico 8x8              1.894737\n"
          ]
        }
      ]
    },
    {
      "cell_type": "code",
      "source": [
        "# Mostrar las columnas del DataFrame\n",
        "print(\"Columnas disponibles en el DataFrame:\")\n",
        "print(tienda_unificada.columns)"
      ],
      "metadata": {
        "colab": {
          "base_uri": "https://localhost:8080/"
        },
        "id": "eBCVILWjH-5V",
        "outputId": "f07cc192-94c6-46eb-8dbb-435255472cbe"
      },
      "execution_count": null,
      "outputs": [
        {
          "output_type": "stream",
          "name": "stdout",
          "text": [
            "Columnas disponibles en el DataFrame:\n",
            "Index(['Producto', 'Categoría del Producto', 'Precio', 'Costo de envío',\n",
            "       'Fecha de Compra', 'Vendedor', 'Lugar de Compra', 'Calificación',\n",
            "       'Método de pago', 'Cantidad de cuotas', 'lat', 'lon', 'tienda',\n",
            "       'Relacion_Costo', 'Relacion_Costo_Envio'],\n",
            "      dtype='object')\n"
          ]
        }
      ]
    },
    {
      "cell_type": "code",
      "source": [
        "# Agrupar por tienda y calcular promedios\n",
        "promedios_por_tienda = tienda_unificada.groupby('tienda').agg(\n",
        "    Costo_Envio_Promedio=('Costo de envío', 'mean'),\n",
        "    Calificacion_Promedio=('Calificación', 'mean')\n",
        ").reset_index()\n",
        "\n",
        "# Mostrar los resultados\n",
        "print(\"\\nPromedios de costo de envío y calificación por tienda:\")\n",
        "print(promedios_por_tienda)\n",
        "\n",
        "# Calcular la correlación entre costo de envío y calificación\n",
        "correlacion = promedios_por_tienda['Costo_Envio_Promedio'].corr(promedios_por_tienda['Calificacion_Promedio'])\n",
        "\n",
        "# Mostrar la correlación\n",
        "print(f\"\\nCorrelación entre costo de envío y calificación: {correlacion:.2f}\")"
      ],
      "metadata": {
        "colab": {
          "base_uri": "https://localhost:8080/"
        },
        "id": "iBxDZSTvIU3e",
        "outputId": "c2ba6863-b408-4621-d9fd-412e83fd5edf"
      },
      "execution_count": null,
      "outputs": [
        {
          "output_type": "stream",
          "name": "stdout",
          "text": [
            "\n",
            "Promedios de costo de envío y calificación por tienda:\n",
            "     tienda  Costo_Envio_Promedio  Calificacion_Promedio\n",
            "0  Tienda 1          26018.609580               3.976685\n",
            "1  Tienda 2          25216.235693               4.037304\n",
            "2  Tienda 3          24805.680373               4.048326\n",
            "3  Tienda 4          23459.457167               3.995759\n",
            "\n",
            "Correlación entre costo de envío y calificación: -0.10\n"
          ]
        }
      ]
    },
    {
      "cell_type": "code",
      "source": [
        "# Mostrar las primeras filas de las columnas 'lat' y 'lon'\n",
        "print(\"Primeras filas de las columnas 'lat' y 'lon':\")\n",
        "print(tienda_unificada[['lat', 'lon']].head())\n",
        "\n",
        "# Resumen estadístico de las columnas\n",
        "print(\"\\nResumen estadístico de 'lat' y 'lon':\")\n",
        "print(tienda_unificada[['lat', 'lon']].describe())"
      ],
      "metadata": {
        "colab": {
          "base_uri": "https://localhost:8080/"
        },
        "id": "XrltGrRgJWvt",
        "outputId": "23dc4927-37d0-4e27-86fc-2904caf56c5e"
      },
      "execution_count": null,
      "outputs": [
        {
          "output_type": "stream",
          "name": "stdout",
          "text": [
            "Primeras filas de las columnas 'lat' y 'lon':\n",
            "        lat       lon\n",
            "0   4.60971 -74.08175\n",
            "1   6.25184 -75.56359\n",
            "2  10.39972 -75.51444\n",
            "3   3.43722 -76.52250\n",
            "4   6.25184 -75.56359\n",
            "\n",
            "Resumen estadístico de 'lat' y 'lon':\n",
            "               lat          lon\n",
            "count  9435.000000  9435.000000\n",
            "mean      5.428909   -74.760108\n",
            "std       2.355663     1.207155\n",
            "min      -4.215280   -77.281110\n",
            "25%       4.609710   -75.563590\n",
            "50%       4.609710   -74.199040\n",
            "75%       6.251840   -74.081750\n",
            "max      11.544440   -67.923900\n"
          ]
        }
      ]
    },
    {
      "cell_type": "code",
      "source": [
        "# Agrupar por latitud y longitud y calcular el promedio de calificación\n",
        "calificacion_por_ubicacion = tienda_unificada.groupby(['lat', 'lon'])['Calificación'].mean().reset_index()\n",
        "\n",
        "# Renombrar la columna para mayor claridad\n",
        "calificacion_por_ubicacion.rename(columns={'Calificación': 'Calificacion_Promedio'}, inplace=True)\n",
        "\n",
        "# Mostrar los resultados\n",
        "print(\"\\nPromedio de calificación por ubicación geográfica:\")\n",
        "print(calificacion_por_ubicacion)"
      ],
      "metadata": {
        "colab": {
          "base_uri": "https://localhost:8080/"
        },
        "id": "M56WQjOyJeMb",
        "outputId": "37b23314-6b55-4e8c-db1c-b8dcd437a768"
      },
      "execution_count": null,
      "outputs": [
        {
          "output_type": "stream",
          "name": "stdout",
          "text": [
            "\n",
            "Promedio de calificación por ubicación geográfica:\n",
            "         lat       lon  Calificacion_Promedio\n",
            "0   -4.21528 -69.94056               3.922535\n",
            "1    1.21361 -77.28111               4.148936\n",
            "2    2.92730 -75.28189               3.800000\n",
            "3    3.43722 -76.52250               4.046673\n",
            "4    3.86530 -67.92390               3.642857\n",
            "5    4.14200 -73.62664               3.827586\n",
            "6    4.53389 -75.68111               3.464286\n",
            "7    4.57937 -74.21682               3.894737\n",
            "8    4.60971 -74.08175               4.113619\n",
            "9    4.81333 -75.69611               4.013540\n",
            "10   5.06889 -75.51738               3.634146\n",
            "11   6.25184 -75.56359               3.926534\n",
            "12   7.12539 -73.11980               3.977901\n",
            "13   7.89391 -72.50782               3.940860\n",
            "14  10.39972 -75.51444               4.020661\n",
            "15  10.46314 -73.25322               4.071429\n",
            "16  10.96854 -74.78132               3.803226\n",
            "17  11.24079 -74.19904               3.596026\n",
            "18  11.54444 -72.90722               3.895706\n"
          ]
        }
      ]
    },
    {
      "cell_type": "code",
      "source": [
        "import matplotlib.pyplot as plt\n",
        "\n",
        "# Crear un gráfico de dispersión geográfico\n",
        "plt.figure(figsize=(10, 8))\n",
        "plt.scatter(calificacion_por_ubicacion['lon'], calificacion_por_ubicacion['lat'],\n",
        "            c=calificacion_por_ubicacion['Calificacion_Promedio'], cmap='coolwarm', s=100, alpha=0.7)\n",
        "plt.colorbar(label='Calificación Promedio')\n",
        "plt.title('Calificación Promedio por Ubicación Geográfica')\n",
        "plt.xlabel('Longitud')\n",
        "plt.ylabel('Latitud')\n",
        "plt.grid()\n",
        "plt.show()"
      ],
      "metadata": {
        "colab": {
          "base_uri": "https://localhost:8080/",
          "height": 719
        },
        "id": "1lqg8aBdJkA2",
        "outputId": "e96a1152-a3a9-4a61-c3f1-db009950933c"
      },
      "execution_count": null,
      "outputs": [
        {
          "output_type": "display_data",
          "data": {
            "text/plain": [
              "<Figure size 1000x800 with 2 Axes>"
            ],
            "image/png": "[encoded data removed]"
          },
          "metadata": {}
        }
      ]
    },
    {
      "cell_type": "code",
      "source": [
        "# Calcular correlaciones\n",
        "correlacion_lat_calificacion = calificacion_por_ubicacion['lat'].corr(calificacion_por_ubicacion['Calificacion_Promedio'])\n",
        "correlacion_lon_calificacion = calificacion_por_ubicacion['lon'].corr(calificacion_por_ubicacion['Calificacion_Promedio'])\n",
        "\n",
        "# Mostrar las correlaciones\n",
        "print(f\"\\nCorrelación entre latitud y calificación: {correlacion_lat_calificacion:.2f}\")\n",
        "print(f\"Correlación entre longitud y calificación: {correlacion_lon_calificacion:.2f}\")"
      ],
      "metadata": {
        "colab": {
          "base_uri": "https://localhost:8080/"
        },
        "id": "FEfnnZruJ2N3",
        "outputId": "d68ebd7f-092b-44b1-9a56-72387d20ca61"
      },
      "execution_count": null,
      "outputs": [
        {
          "output_type": "stream",
          "name": "stdout",
          "text": [
            "\n",
            "Correlación entre latitud y calificación: -0.08\n",
            "Correlación entre longitud y calificación: -0.20\n"
          ]
        }
      ]
    },
    {
      "cell_type": "code",
      "source": [
        "import folium\n",
        "\n",
        "# Crear un mapa centrado en una ubicación específica\n",
        "mapa = folium.Map(location=[calificacion_por_ubicacion['lat'].mean(), calificacion_por_ubicacion['lon'].mean()], zoom_start=10)\n",
        "\n",
        "# Agregar marcadores al mapa\n",
        "for _, row in calificacion_por_ubicacion.iterrows():\n",
        "    folium.CircleMarker(\n",
        "        location=[row['lat'], row['lon']],\n",
        "        radius=8,\n",
        "        color='blue' if row['Calificacion_Promedio'] > 4 else 'red',\n",
        "        fill=True,\n",
        "        fill_color='blue' if row['Calificacion_Promedio'] > 4 else 'red',\n",
        "        popup=f\"Calificación: {row['Calificacion_Promedio']:.2f}\"\n",
        "    ).add_to(mapa)\n",
        "\n",
        "# Mostrar el mapa\n",
        "mapa"
      ],
      "metadata": {
        "colab": {
          "base_uri": "https://localhost:8080/",
          "height": 506
        },
        "id": "Uo9M7VGcJ9pm",
        "outputId": "23bf6438-aed0-4296-f7fa-eaac7af25ac5"
      },
      "execution_count": null,
      "outputs": [
        {
          "output_type": "execute_result",
          "data": {
            "text/plain": [
              "<folium.folium.Map at 0x7dee258a8e10>"
            ],
            "text/html": [
              "<div style=\"width:100%;\"><div style=\"position:relative;width:100%;height:0;padding-bottom:60%;\"><span style=\"color:#565656\">Make this Notebook Trusted to load map: File -> Trust Notebook</span><iframe srcdoc=\"&lt;!DOCTYPE html&gt;\n",
              "&lt;html&gt;\n",
              "&lt;head&gt;\n",
              "    \n",
              "    &lt;meta http-equiv=&quot;content-type&quot; content=&quot;text/html; charset=UTF-8&quot; /&gt;\n",
              "    \n",
              "        &lt;script&gt;\n",
              "            L_NO_TOUCH = false;\n",
              "            L_DISABLE_3D = false;\n",
              "        &lt;/script&gt;\n",
              "    \n",
              "    &lt;style&gt;html, body {width: 100%;height: 100%;margin: 0;padding: 0;}&lt;/style&gt;\n",
              "    &lt;style&gt;#map {position:absolute;top:0;bottom:0;right:0;left:0;}&lt;/style&gt;\n",
              "    &lt;script src=&quot;https://cdn.jsdelivr.net/npm/leaflet@1.9.3/dist/leaflet.js&quot;&gt;&lt;/script&gt;\n",
              "    &lt;script src=&quot;https://code.jquery.com/jquery-3.7.1.min.js&quot;&gt;&lt;/script&gt;\n",
              "    &lt;script src=&quot;https://cdn.jsdelivr.net/npm/bootstrap@5.2.2/dist/js/bootstrap.bundle.min.js&quot;&gt;&lt;/script&gt;\n",
              "    &lt;script src=&quot;https://cdnjs.cloudflare.com/ajax/libs/Leaflet.awesome-markers/2.0.2/leaflet.awesome-markers.js&quot;&gt;&lt;/script&gt;\n",
              "    &lt;link rel=&quot;stylesheet&quot; href=&quot;https://cdn.jsdelivr.net/npm/leaflet@1.9.3/dist/leaflet.css&quot;/&gt;\n",
              "    &lt;link rel=&quot;stylesheet&quot; href=&quot;https://cdn.jsdelivr.net/npm/bootstrap@5.2.2/dist/css/bootstrap.min.css&quot;/&gt;\n",
              "    &lt;link rel=&quot;stylesheet&quot; href=&quot;https://netdna.bootstrapcdn.com/bootstrap/3.0.0/css/bootstrap-glyphicons.css&quot;/&gt;\n",
              "    &lt;link rel=&quot;stylesheet&quot; href=&quot;https://cdn.jsdelivr.net/npm/@fortawesome/fontawesome-free@6.2.0/css/all.min.css&quot;/&gt;\n",
              "    &lt;link rel=&quot;stylesheet&quot; href=&quot;https://cdnjs.cloudflare.com/ajax/libs/Leaflet.awesome-markers/2.0.2/leaflet.awesome-markers.css&quot;/&gt;\n",
              "    &lt;link rel=&quot;stylesheet&quot; href=&quot;https://cdn.jsdelivr.net/gh/python-visualization/folium/folium/templates/leaflet.awesome.rotate.min.css&quot;/&gt;\n",
              "    \n",
              "            &lt;meta name=&quot;viewport&quot; content=&quot;width=device-width,\n",
              "                initial-scale=1.0, maximum-scale=1.0, user-scalable=no&quot; /&gt;\n",
              "            &lt;style&gt;\n",
              "                #map_79b333c2f1b2b39bf149905b313c3bc6 {\n",
              "                    position: relative;\n",
              "                    width: 100.0%;\n",
              "                    height: 100.0%;\n",
              "                    left: 0.0%;\n",
              "                    top: 0.0%;\n",
              "                }\n",
              "                .leaflet-container { font-size: 1rem; }\n",
              "            &lt;/style&gt;\n",
              "        \n",
              "&lt;/head&gt;\n",
              "&lt;body&gt;\n",
              "    \n",
              "    \n",
              "            &lt;div class=&quot;folium-map&quot; id=&quot;map_79b333c2f1b2b39bf149905b313c3bc6&quot; &gt;&lt;/div&gt;\n",
              "        \n",
              "&lt;/body&gt;\n",
              "&lt;script&gt;\n",
              "    \n",
              "    \n",
              "            var map_79b333c2f1b2b39bf149905b313c3bc6 = L.map(\n",
              "                &quot;map_79b333c2f1b2b39bf149905b313c3bc6&quot;,\n",
              "                {\n",
              "                    center: [5.834900526315789, -74.08506421052633],\n",
              "                    crs: L.CRS.EPSG3857,\n",
              "                    ...{\n",
              "  &quot;zoom&quot;: 10,\n",
              "  &quot;zoomControl&quot;: true,\n",
              "  &quot;preferCanvas&quot;: false,\n",
              "}\n",
              "\n",
              "                }\n",
              "            );\n",
              "\n",
              "            \n",
              "\n",
              "        \n",
              "    \n",
              "            var tile_layer_a572aacc70e025fb7098c4355f65676c = L.tileLayer(\n",
              "                &quot;https://tile.openstreetmap.org/{z}/{x}/{y}.png&quot;,\n",
              "                {\n",
              "  &quot;minZoom&quot;: 0,\n",
              "  &quot;maxZoom&quot;: 19,\n",
              "  &quot;maxNativeZoom&quot;: 19,\n",
              "  &quot;noWrap&quot;: false,\n",
              "  &quot;attribution&quot;: &quot;\\u0026copy; \\u003ca href=\\&quot;https://www.openstreetmap.org/copyright\\&quot;\\u003eOpenStreetMap\\u003c/a\\u003e contributors&quot;,\n",
              "  &quot;subdomains&quot;: &quot;abc&quot;,\n",
              "  &quot;detectRetina&quot;: false,\n",
              "  &quot;tms&quot;: false,\n",
              "  &quot;opacity&quot;: 1,\n",
              "}\n",
              "\n",
              "            );\n",
              "        \n",
              "    \n",
              "            tile_layer_a572aacc70e025fb7098c4355f65676c.addTo(map_79b333c2f1b2b39bf149905b313c3bc6);\n",
              "        \n",
              "    \n",
              "            var circle_marker_9229c41ccdb5c9d4e1564c4eb2ac69ce = L.circleMarker(\n",
              "                [-4.21528, -69.94056],\n",
              "                {&quot;bubblingMouseEvents&quot;: true, &quot;color&quot;: &quot;red&quot;, &quot;dashArray&quot;: null, &quot;dashOffset&quot;: null, &quot;fill&quot;: true, &quot;fillColor&quot;: &quot;red&quot;, &quot;fillOpacity&quot;: 0.2, &quot;fillRule&quot;: &quot;evenodd&quot;, &quot;lineCap&quot;: &quot;round&quot;, &quot;lineJoin&quot;: &quot;round&quot;, &quot;opacity&quot;: 1.0, &quot;radius&quot;: 8, &quot;stroke&quot;: true, &quot;weight&quot;: 3}\n",
              "            ).addTo(map_79b333c2f1b2b39bf149905b313c3bc6);\n",
              "        \n",
              "    \n",
              "        var popup_44ea452956c9c377bf06879ed466823a = L.popup({\n",
              "  &quot;maxWidth&quot;: &quot;100%&quot;,\n",
              "});\n",
              "\n",
              "        \n",
              "            \n",
              "                var html_a2f3f20d40f1891fe153f815a8e5ef6f = $(`&lt;div id=&quot;html_a2f3f20d40f1891fe153f815a8e5ef6f&quot; style=&quot;width: 100.0%; height: 100.0%;&quot;&gt;Calificación: 3.92&lt;/div&gt;`)[0];\n",
              "                popup_44ea452956c9c377bf06879ed466823a.setContent(html_a2f3f20d40f1891fe153f815a8e5ef6f);\n",
              "            \n",
              "        \n",
              "\n",
              "        circle_marker_9229c41ccdb5c9d4e1564c4eb2ac69ce.bindPopup(popup_44ea452956c9c377bf06879ed466823a)\n",
              "        ;\n",
              "\n",
              "        \n",
              "    \n",
              "    \n",
              "            var circle_marker_ce3e51dc0875951aaaa17c0a0adbacd8 = L.circleMarker(\n",
              "                [1.21361, -77.28111],\n",
              "                {&quot;bubblingMouseEvents&quot;: true, &quot;color&quot;: &quot;blue&quot;, &quot;dashArray&quot;: null, &quot;dashOffset&quot;: null, &quot;fill&quot;: true, &quot;fillColor&quot;: &quot;blue&quot;, &quot;fillOpacity&quot;: 0.2, &quot;fillRule&quot;: &quot;evenodd&quot;, &quot;lineCap&quot;: &quot;round&quot;, &quot;lineJoin&quot;: &quot;round&quot;, &quot;opacity&quot;: 1.0, &quot;radius&quot;: 8, &quot;stroke&quot;: true, &quot;weight&quot;: 3}\n",
              "            ).addTo(map_79b333c2f1b2b39bf149905b313c3bc6);\n",
              "        \n",
              "    \n",
              "        var popup_e185f2f76c916b85aff315a3d9fd11f4 = L.popup({\n",
              "  &quot;maxWidth&quot;: &quot;100%&quot;,\n",
              "});\n",
              "\n",
              "        \n",
              "            \n",
              "                var html_f805bdf8a220777310a008164cdf855d = $(`&lt;div id=&quot;html_f805bdf8a220777310a008164cdf855d&quot; style=&quot;width: 100.0%; height: 100.0%;&quot;&gt;Calificación: 4.15&lt;/div&gt;`)[0];\n",
              "                popup_e185f2f76c916b85aff315a3d9fd11f4.setContent(html_f805bdf8a220777310a008164cdf855d);\n",
              "            \n",
              "        \n",
              "\n",
              "        circle_marker_ce3e51dc0875951aaaa17c0a0adbacd8.bindPopup(popup_e185f2f76c916b85aff315a3d9fd11f4)\n",
              "        ;\n",
              "\n",
              "        \n",
              "    \n",
              "    \n",
              "            var circle_marker_56cd4953c076ce71939f87f42d2e13b8 = L.circleMarker(\n",
              "                [2.9273, -75.28189],\n",
              "                {&quot;bubblingMouseEvents&quot;: true, &quot;color&quot;: &quot;red&quot;, &quot;dashArray&quot;: null, &quot;dashOffset&quot;: null, &quot;fill&quot;: true, &quot;fillColor&quot;: &quot;red&quot;, &quot;fillOpacity&quot;: 0.2, &quot;fillRule&quot;: &quot;evenodd&quot;, &quot;lineCap&quot;: &quot;round&quot;, &quot;lineJoin&quot;: &quot;round&quot;, &quot;opacity&quot;: 1.0, &quot;radius&quot;: 8, &quot;stroke&quot;: true, &quot;weight&quot;: 3}\n",
              "            ).addTo(map_79b333c2f1b2b39bf149905b313c3bc6);\n",
              "        \n",
              "    \n",
              "        var popup_1ac23fa9c0ee847b3476249151a0ce41 = L.popup({\n",
              "  &quot;maxWidth&quot;: &quot;100%&quot;,\n",
              "});\n",
              "\n",
              "        \n",
              "            \n",
              "                var html_fa2e3f1e195f4be58242aed9430e58b8 = $(`&lt;div id=&quot;html_fa2e3f1e195f4be58242aed9430e58b8&quot; style=&quot;width: 100.0%; height: 100.0%;&quot;&gt;Calificación: 3.80&lt;/div&gt;`)[0];\n",
              "                popup_1ac23fa9c0ee847b3476249151a0ce41.setContent(html_fa2e3f1e195f4be58242aed9430e58b8);\n",
              "            \n",
              "        \n",
              "\n",
              "        circle_marker_56cd4953c076ce71939f87f42d2e13b8.bindPopup(popup_1ac23fa9c0ee847b3476249151a0ce41)\n",
              "        ;\n",
              "\n",
              "        \n",
              "    \n",
              "    \n",
              "            var circle_marker_edc836c41d5c4c047e61c7ad16fefead = L.circleMarker(\n",
              "                [3.43722, -76.5225],\n",
              "                {&quot;bubblingMouseEvents&quot;: true, &quot;color&quot;: &quot;blue&quot;, &quot;dashArray&quot;: null, &quot;dashOffset&quot;: null, &quot;fill&quot;: true, &quot;fillColor&quot;: &quot;blue&quot;, &quot;fillOpacity&quot;: 0.2, &quot;fillRule&quot;: &quot;evenodd&quot;, &quot;lineCap&quot;: &quot;round&quot;, &quot;lineJoin&quot;: &quot;round&quot;, &quot;opacity&quot;: 1.0, &quot;radius&quot;: 8, &quot;stroke&quot;: true, &quot;weight&quot;: 3}\n",
              "            ).addTo(map_79b333c2f1b2b39bf149905b313c3bc6);\n",
              "        \n",
              "    \n",
              "        var popup_363eeb931e402dddeba621d51f206319 = L.popup({\n",
              "  &quot;maxWidth&quot;: &quot;100%&quot;,\n",
              "});\n",
              "\n",
              "        \n",
              "            \n",
              "                var html_3fa80a0907feadc942012cebf9c1c5c2 = $(`&lt;div id=&quot;html_3fa80a0907feadc942012cebf9c1c5c2&quot; style=&quot;width: 100.0%; height: 100.0%;&quot;&gt;Calificación: 4.05&lt;/div&gt;`)[0];\n",
              "                popup_363eeb931e402dddeba621d51f206319.setContent(html_3fa80a0907feadc942012cebf9c1c5c2);\n",
              "            \n",
              "        \n",
              "\n",
              "        circle_marker_edc836c41d5c4c047e61c7ad16fefead.bindPopup(popup_363eeb931e402dddeba621d51f206319)\n",
              "        ;\n",
              "\n",
              "        \n",
              "    \n",
              "    \n",
              "            var circle_marker_4b71adc279447aeed980125ee9e5f9c6 = L.circleMarker(\n",
              "                [3.8653, -67.9239],\n",
              "                {&quot;bubblingMouseEvents&quot;: true, &quot;color&quot;: &quot;red&quot;, &quot;dashArray&quot;: null, &quot;dashOffset&quot;: null, &quot;fill&quot;: true, &quot;fillColor&quot;: &quot;red&quot;, &quot;fillOpacity&quot;: 0.2, &quot;fillRule&quot;: &quot;evenodd&quot;, &quot;lineCap&quot;: &quot;round&quot;, &quot;lineJoin&quot;: &quot;round&quot;, &quot;opacity&quot;: 1.0, &quot;radius&quot;: 8, &quot;stroke&quot;: true, &quot;weight&quot;: 3}\n",
              "            ).addTo(map_79b333c2f1b2b39bf149905b313c3bc6);\n",
              "        \n",
              "    \n",
              "        var popup_ba6f8cd26e9d5f3463e9193e97bbe634 = L.popup({\n",
              "  &quot;maxWidth&quot;: &quot;100%&quot;,\n",
              "});\n",
              "\n",
              "        \n",
              "            \n",
              "                var html_1c1e963359732d43bee9c7e783c310eb = $(`&lt;div id=&quot;html_1c1e963359732d43bee9c7e783c310eb&quot; style=&quot;width: 100.0%; height: 100.0%;&quot;&gt;Calificación: 3.64&lt;/div&gt;`)[0];\n",
              "                popup_ba6f8cd26e9d5f3463e9193e97bbe634.setContent(html_1c1e963359732d43bee9c7e783c310eb);\n",
              "            \n",
              "        \n",
              "\n",
              "        circle_marker_4b71adc279447aeed980125ee9e5f9c6.bindPopup(popup_ba6f8cd26e9d5f3463e9193e97bbe634)\n",
              "        ;\n",
              "\n",
              "        \n",
              "    \n",
              "    \n",
              "            var circle_marker_0b5d71c7f39076552f2aeaf2d4c5ca9c = L.circleMarker(\n",
              "                [4.142, -73.62664],\n",
              "                {&quot;bubblingMouseEvents&quot;: true, &quot;color&quot;: &quot;red&quot;, &quot;dashArray&quot;: null, &quot;dashOffset&quot;: null, &quot;fill&quot;: true, &quot;fillColor&quot;: &quot;red&quot;, &quot;fillOpacity&quot;: 0.2, &quot;fillRule&quot;: &quot;evenodd&quot;, &quot;lineCap&quot;: &quot;round&quot;, &quot;lineJoin&quot;: &quot;round&quot;, &quot;opacity&quot;: 1.0, &quot;radius&quot;: 8, &quot;stroke&quot;: true, &quot;weight&quot;: 3}\n",
              "            ).addTo(map_79b333c2f1b2b39bf149905b313c3bc6);\n",
              "        \n",
              "    \n",
              "        var popup_ccc4a5141addafacebcb399802d48e06 = L.popup({\n",
              "  &quot;maxWidth&quot;: &quot;100%&quot;,\n",
              "});\n",
              "\n",
              "        \n",
              "            \n",
              "                var html_46e83fc48a3320a8d7df29fe3d903984 = $(`&lt;div id=&quot;html_46e83fc48a3320a8d7df29fe3d903984&quot; style=&quot;width: 100.0%; height: 100.0%;&quot;&gt;Calificación: 3.83&lt;/div&gt;`)[0];\n",
              "                popup_ccc4a5141addafacebcb399802d48e06.setContent(html_46e83fc48a3320a8d7df29fe3d903984);\n",
              "            \n",
              "        \n",
              "\n",
              "        circle_marker_0b5d71c7f39076552f2aeaf2d4c5ca9c.bindPopup(popup_ccc4a5141addafacebcb399802d48e06)\n",
              "        ;\n",
              "\n",
              "        \n",
              "    \n",
              "    \n",
              "            var circle_marker_10c5ca7df85c4e31ddc86e9005f02851 = L.circleMarker(\n",
              "                [4.53389, -75.68111],\n",
              "                {&quot;bubblingMouseEvents&quot;: true, &quot;color&quot;: &quot;red&quot;, &quot;dashArray&quot;: null, &quot;dashOffset&quot;: null, &quot;fill&quot;: true, &quot;fillColor&quot;: &quot;red&quot;, &quot;fillOpacity&quot;: 0.2, &quot;fillRule&quot;: &quot;evenodd&quot;, &quot;lineCap&quot;: &quot;round&quot;, &quot;lineJoin&quot;: &quot;round&quot;, &quot;opacity&quot;: 1.0, &quot;radius&quot;: 8, &quot;stroke&quot;: true, &quot;weight&quot;: 3}\n",
              "            ).addTo(map_79b333c2f1b2b39bf149905b313c3bc6);\n",
              "        \n",
              "    \n",
              "        var popup_a6d51e977de9d2f975bad3a411ac9738 = L.popup({\n",
              "  &quot;maxWidth&quot;: &quot;100%&quot;,\n",
              "});\n",
              "\n",
              "        \n",
              "            \n",
              "                var html_cc0a391306351cb808493ef69266af85 = $(`&lt;div id=&quot;html_cc0a391306351cb808493ef69266af85&quot; style=&quot;width: 100.0%; height: 100.0%;&quot;&gt;Calificación: 3.46&lt;/div&gt;`)[0];\n",
              "                popup_a6d51e977de9d2f975bad3a411ac9738.setContent(html_cc0a391306351cb808493ef69266af85);\n",
              "            \n",
              "        \n",
              "\n",
              "        circle_marker_10c5ca7df85c4e31ddc86e9005f02851.bindPopup(popup_a6d51e977de9d2f975bad3a411ac9738)\n",
              "        ;\n",
              "\n",
              "        \n",
              "    \n",
              "    \n",
              "            var circle_marker_6b3299c1bfba60d648882dbb90eccfcc = L.circleMarker(\n",
              "                [4.57937, -74.21682],\n",
              "                {&quot;bubblingMouseEvents&quot;: true, &quot;color&quot;: &quot;red&quot;, &quot;dashArray&quot;: null, &quot;dashOffset&quot;: null, &quot;fill&quot;: true, &quot;fillColor&quot;: &quot;red&quot;, &quot;fillOpacity&quot;: 0.2, &quot;fillRule&quot;: &quot;evenodd&quot;, &quot;lineCap&quot;: &quot;round&quot;, &quot;lineJoin&quot;: &quot;round&quot;, &quot;opacity&quot;: 1.0, &quot;radius&quot;: 8, &quot;stroke&quot;: true, &quot;weight&quot;: 3}\n",
              "            ).addTo(map_79b333c2f1b2b39bf149905b313c3bc6);\n",
              "        \n",
              "    \n",
              "        var popup_7aa7eccbb0461113552ecc955474f3ab = L.popup({\n",
              "  &quot;maxWidth&quot;: &quot;100%&quot;,\n",
              "});\n",
              "\n",
              "        \n",
              "            \n",
              "                var html_2f79bd8fea21e8dd1ff49dc7cd1292f7 = $(`&lt;div id=&quot;html_2f79bd8fea21e8dd1ff49dc7cd1292f7&quot; style=&quot;width: 100.0%; height: 100.0%;&quot;&gt;Calificación: 3.89&lt;/div&gt;`)[0];\n",
              "                popup_7aa7eccbb0461113552ecc955474f3ab.setContent(html_2f79bd8fea21e8dd1ff49dc7cd1292f7);\n",
              "            \n",
              "        \n",
              "\n",
              "        circle_marker_6b3299c1bfba60d648882dbb90eccfcc.bindPopup(popup_7aa7eccbb0461113552ecc955474f3ab)\n",
              "        ;\n",
              "\n",
              "        \n",
              "    \n",
              "    \n",
              "            var circle_marker_d5a104541b551c98707c5f7426417ae3 = L.circleMarker(\n",
              "                [4.60971, -74.08175],\n",
              "                {&quot;bubblingMouseEvents&quot;: true, &quot;color&quot;: &quot;blue&quot;, &quot;dashArray&quot;: null, &quot;dashOffset&quot;: null, &quot;fill&quot;: true, &quot;fillColor&quot;: &quot;blue&quot;, &quot;fillOpacity&quot;: 0.2, &quot;fillRule&quot;: &quot;evenodd&quot;, &quot;lineCap&quot;: &quot;round&quot;, &quot;lineJoin&quot;: &quot;round&quot;, &quot;opacity&quot;: 1.0, &quot;radius&quot;: 8, &quot;stroke&quot;: true, &quot;weight&quot;: 3}\n",
              "            ).addTo(map_79b333c2f1b2b39bf149905b313c3bc6);\n",
              "        \n",
              "    \n",
              "        var popup_e561cfe1b3c3009c2b13666db132d2cf = L.popup({\n",
              "  &quot;maxWidth&quot;: &quot;100%&quot;,\n",
              "});\n",
              "\n",
              "        \n",
              "            \n",
              "                var html_4b225378ed819a279a61d3de37117334 = $(`&lt;div id=&quot;html_4b225378ed819a279a61d3de37117334&quot; style=&quot;width: 100.0%; height: 100.0%;&quot;&gt;Calificación: 4.11&lt;/div&gt;`)[0];\n",
              "                popup_e561cfe1b3c3009c2b13666db132d2cf.setContent(html_4b225378ed819a279a61d3de37117334);\n",
              "            \n",
              "        \n",
              "\n",
              "        circle_marker_d5a104541b551c98707c5f7426417ae3.bindPopup(popup_e561cfe1b3c3009c2b13666db132d2cf)\n",
              "        ;\n",
              "\n",
              "        \n",
              "    \n",
              "    \n",
              "            var circle_marker_56531afc255f9f057da5ddaabd632669 = L.circleMarker(\n",
              "                [4.81333, -75.69611],\n",
              "                {&quot;bubblingMouseEvents&quot;: true, &quot;color&quot;: &quot;blue&quot;, &quot;dashArray&quot;: null, &quot;dashOffset&quot;: null, &quot;fill&quot;: true, &quot;fillColor&quot;: &quot;blue&quot;, &quot;fillOpacity&quot;: 0.2, &quot;fillRule&quot;: &quot;evenodd&quot;, &quot;lineCap&quot;: &quot;round&quot;, &quot;lineJoin&quot;: &quot;round&quot;, &quot;opacity&quot;: 1.0, &quot;radius&quot;: 8, &quot;stroke&quot;: true, &quot;weight&quot;: 3}\n",
              "            ).addTo(map_79b333c2f1b2b39bf149905b313c3bc6);\n",
              "        \n",
              "    \n",
              "        var popup_aee5dc1b4f2aa81df152aaebfc10c429 = L.popup({\n",
              "  &quot;maxWidth&quot;: &quot;100%&quot;,\n",
              "});\n",
              "\n",
              "        \n",
              "            \n",
              "                var html_33944f28c3cc8ef1e3ea3d28b1de704f = $(`&lt;div id=&quot;html_33944f28c3cc8ef1e3ea3d28b1de704f&quot; style=&quot;width: 100.0%; height: 100.0%;&quot;&gt;Calificación: 4.01&lt;/div&gt;`)[0];\n",
              "                popup_aee5dc1b4f2aa81df152aaebfc10c429.setContent(html_33944f28c3cc8ef1e3ea3d28b1de704f);\n",
              "            \n",
              "        \n",
              "\n",
              "        circle_marker_56531afc255f9f057da5ddaabd632669.bindPopup(popup_aee5dc1b4f2aa81df152aaebfc10c429)\n",
              "        ;\n",
              "\n",
              "        \n",
              "    \n",
              "    \n",
              "            var circle_marker_8c8205647c549b56b0e0cb1bf0c7f6a2 = L.circleMarker(\n",
              "                [5.06889, -75.51738],\n",
              "                {&quot;bubblingMouseEvents&quot;: true, &quot;color&quot;: &quot;red&quot;, &quot;dashArray&quot;: null, &quot;dashOffset&quot;: null, &quot;fill&quot;: true, &quot;fillColor&quot;: &quot;red&quot;, &quot;fillOpacity&quot;: 0.2, &quot;fillRule&quot;: &quot;evenodd&quot;, &quot;lineCap&quot;: &quot;round&quot;, &quot;lineJoin&quot;: &quot;round&quot;, &quot;opacity&quot;: 1.0, &quot;radius&quot;: 8, &quot;stroke&quot;: true, &quot;weight&quot;: 3}\n",
              "            ).addTo(map_79b333c2f1b2b39bf149905b313c3bc6);\n",
              "        \n",
              "    \n",
              "        var popup_2dd7a0bd8920f6c451e4586fabc515ed = L.popup({\n",
              "  &quot;maxWidth&quot;: &quot;100%&quot;,\n",
              "});\n",
              "\n",
              "        \n",
              "            \n",
              "                var html_466252bb618d0b68837ec3d792904c54 = $(`&lt;div id=&quot;html_466252bb618d0b68837ec3d792904c54&quot; style=&quot;width: 100.0%; height: 100.0%;&quot;&gt;Calificación: 3.63&lt;/div&gt;`)[0];\n",
              "                popup_2dd7a0bd8920f6c451e4586fabc515ed.setContent(html_466252bb618d0b68837ec3d792904c54);\n",
              "            \n",
              "        \n",
              "\n",
              "        circle_marker_8c8205647c549b56b0e0cb1bf0c7f6a2.bindPopup(popup_2dd7a0bd8920f6c451e4586fabc515ed)\n",
              "        ;\n",
              "\n",
              "        \n",
              "    \n",
              "    \n",
              "            var circle_marker_9bf74ff35164b36c4a351e06a591a16a = L.circleMarker(\n",
              "                [6.25184, -75.56359],\n",
              "                {&quot;bubblingMouseEvents&quot;: true, &quot;color&quot;: &quot;red&quot;, &quot;dashArray&quot;: null, &quot;dashOffset&quot;: null, &quot;fill&quot;: true, &quot;fillColor&quot;: &quot;red&quot;, &quot;fillOpacity&quot;: 0.2, &quot;fillRule&quot;: &quot;evenodd&quot;, &quot;lineCap&quot;: &quot;round&quot;, &quot;lineJoin&quot;: &quot;round&quot;, &quot;opacity&quot;: 1.0, &quot;radius&quot;: 8, &quot;stroke&quot;: true, &quot;weight&quot;: 3}\n",
              "            ).addTo(map_79b333c2f1b2b39bf149905b313c3bc6);\n",
              "        \n",
              "    \n",
              "        var popup_5d13f34612536d657ef11e6e2263d390 = L.popup({\n",
              "  &quot;maxWidth&quot;: &quot;100%&quot;,\n",
              "});\n",
              "\n",
              "        \n",
              "            \n",
              "                var html_f14f58be3d3dbebf7e845abf43e7a1f6 = $(`&lt;div id=&quot;html_f14f58be3d3dbebf7e845abf43e7a1f6&quot; style=&quot;width: 100.0%; height: 100.0%;&quot;&gt;Calificación: 3.93&lt;/div&gt;`)[0];\n",
              "                popup_5d13f34612536d657ef11e6e2263d390.setContent(html_f14f58be3d3dbebf7e845abf43e7a1f6);\n",
              "            \n",
              "        \n",
              "\n",
              "        circle_marker_9bf74ff35164b36c4a351e06a591a16a.bindPopup(popup_5d13f34612536d657ef11e6e2263d390)\n",
              "        ;\n",
              "\n",
              "        \n",
              "    \n",
              "    \n",
              "            var circle_marker_7740949ac320d154cd297574cbac2d81 = L.circleMarker(\n",
              "                [7.12539, -73.1198],\n",
              "                {&quot;bubblingMouseEvents&quot;: true, &quot;color&quot;: &quot;red&quot;, &quot;dashArray&quot;: null, &quot;dashOffset&quot;: null, &quot;fill&quot;: true, &quot;fillColor&quot;: &quot;red&quot;, &quot;fillOpacity&quot;: 0.2, &quot;fillRule&quot;: &quot;evenodd&quot;, &quot;lineCap&quot;: &quot;round&quot;, &quot;lineJoin&quot;: &quot;round&quot;, &quot;opacity&quot;: 1.0, &quot;radius&quot;: 8, &quot;stroke&quot;: true, &quot;weight&quot;: 3}\n",
              "            ).addTo(map_79b333c2f1b2b39bf149905b313c3bc6);\n",
              "        \n",
              "    \n",
              "        var popup_6b394ab5528d1bb27d8a47d34efff63a = L.popup({\n",
              "  &quot;maxWidth&quot;: &quot;100%&quot;,\n",
              "});\n",
              "\n",
              "        \n",
              "            \n",
              "                var html_379724327d1b728a8c1e86851452e6d6 = $(`&lt;div id=&quot;html_379724327d1b728a8c1e86851452e6d6&quot; style=&quot;width: 100.0%; height: 100.0%;&quot;&gt;Calificación: 3.98&lt;/div&gt;`)[0];\n",
              "                popup_6b394ab5528d1bb27d8a47d34efff63a.setContent(html_379724327d1b728a8c1e86851452e6d6);\n",
              "            \n",
              "        \n",
              "\n",
              "        circle_marker_7740949ac320d154cd297574cbac2d81.bindPopup(popup_6b394ab5528d1bb27d8a47d34efff63a)\n",
              "        ;\n",
              "\n",
              "        \n",
              "    \n",
              "    \n",
              "            var circle_marker_448db350c0f5150cfc0c2ccf4457562a = L.circleMarker(\n",
              "                [7.89391, -72.50782],\n",
              "                {&quot;bubblingMouseEvents&quot;: true, &quot;color&quot;: &quot;red&quot;, &quot;dashArray&quot;: null, &quot;dashOffset&quot;: null, &quot;fill&quot;: true, &quot;fillColor&quot;: &quot;red&quot;, &quot;fillOpacity&quot;: 0.2, &quot;fillRule&quot;: &quot;evenodd&quot;, &quot;lineCap&quot;: &quot;round&quot;, &quot;lineJoin&quot;: &quot;round&quot;, &quot;opacity&quot;: 1.0, &quot;radius&quot;: 8, &quot;stroke&quot;: true, &quot;weight&quot;: 3}\n",
              "            ).addTo(map_79b333c2f1b2b39bf149905b313c3bc6);\n",
              "        \n",
              "    \n",
              "        var popup_03703133a2f1df85c9d202caa8429ecb = L.popup({\n",
              "  &quot;maxWidth&quot;: &quot;100%&quot;,\n",
              "});\n",
              "\n",
              "        \n",
              "            \n",
              "                var html_8555e8b7cefc2c908072f6862ead0796 = $(`&lt;div id=&quot;html_8555e8b7cefc2c908072f6862ead0796&quot; style=&quot;width: 100.0%; height: 100.0%;&quot;&gt;Calificación: 3.94&lt;/div&gt;`)[0];\n",
              "                popup_03703133a2f1df85c9d202caa8429ecb.setContent(html_8555e8b7cefc2c908072f6862ead0796);\n",
              "            \n",
              "        \n",
              "\n",
              "        circle_marker_448db350c0f5150cfc0c2ccf4457562a.bindPopup(popup_03703133a2f1df85c9d202caa8429ecb)\n",
              "        ;\n",
              "\n",
              "        \n",
              "    \n",
              "    \n",
              "            var circle_marker_a8b05350d32fd5a09f84cfd5c3ad8c7d = L.circleMarker(\n",
              "                [10.39972, -75.51444],\n",
              "                {&quot;bubblingMouseEvents&quot;: true, &quot;color&quot;: &quot;blue&quot;, &quot;dashArray&quot;: null, &quot;dashOffset&quot;: null, &quot;fill&quot;: true, &quot;fillColor&quot;: &quot;blue&quot;, &quot;fillOpacity&quot;: 0.2, &quot;fillRule&quot;: &quot;evenodd&quot;, &quot;lineCap&quot;: &quot;round&quot;, &quot;lineJoin&quot;: &quot;round&quot;, &quot;opacity&quot;: 1.0, &quot;radius&quot;: 8, &quot;stroke&quot;: true, &quot;weight&quot;: 3}\n",
              "            ).addTo(map_79b333c2f1b2b39bf149905b313c3bc6);\n",
              "        \n",
              "    \n",
              "        var popup_a842fd14342ff25c5e2f634f6f5d5648 = L.popup({\n",
              "  &quot;maxWidth&quot;: &quot;100%&quot;,\n",
              "});\n",
              "\n",
              "        \n",
              "            \n",
              "                var html_b13b2ff381bf5927c5279f22e17d6896 = $(`&lt;div id=&quot;html_b13b2ff381bf5927c5279f22e17d6896&quot; style=&quot;width: 100.0%; height: 100.0%;&quot;&gt;Calificación: 4.02&lt;/div&gt;`)[0];\n",
              "                popup_a842fd14342ff25c5e2f634f6f5d5648.setContent(html_b13b2ff381bf5927c5279f22e17d6896);\n",
              "            \n",
              "        \n",
              "\n",
              "        circle_marker_a8b05350d32fd5a09f84cfd5c3ad8c7d.bindPopup(popup_a842fd14342ff25c5e2f634f6f5d5648)\n",
              "        ;\n",
              "\n",
              "        \n",
              "    \n",
              "    \n",
              "            var circle_marker_d1de7b2063ee85c58f3ea011b5162a01 = L.circleMarker(\n",
              "                [10.46314, -73.25322],\n",
              "                {&quot;bubblingMouseEvents&quot;: true, &quot;color&quot;: &quot;blue&quot;, &quot;dashArray&quot;: null, &quot;dashOffset&quot;: null, &quot;fill&quot;: true, &quot;fillColor&quot;: &quot;blue&quot;, &quot;fillOpacity&quot;: 0.2, &quot;fillRule&quot;: &quot;evenodd&quot;, &quot;lineCap&quot;: &quot;round&quot;, &quot;lineJoin&quot;: &quot;round&quot;, &quot;opacity&quot;: 1.0, &quot;radius&quot;: 8, &quot;stroke&quot;: true, &quot;weight&quot;: 3}\n",
              "            ).addTo(map_79b333c2f1b2b39bf149905b313c3bc6);\n",
              "        \n",
              "    \n",
              "        var popup_8aa681082412637eecc647d17e3710e8 = L.popup({\n",
              "  &quot;maxWidth&quot;: &quot;100%&quot;,\n",
              "});\n",
              "\n",
              "        \n",
              "            \n",
              "                var html_e68f99627bfac7a7d6be628cb1dc16e1 = $(`&lt;div id=&quot;html_e68f99627bfac7a7d6be628cb1dc16e1&quot; style=&quot;width: 100.0%; height: 100.0%;&quot;&gt;Calificación: 4.07&lt;/div&gt;`)[0];\n",
              "                popup_8aa681082412637eecc647d17e3710e8.setContent(html_e68f99627bfac7a7d6be628cb1dc16e1);\n",
              "            \n",
              "        \n",
              "\n",
              "        circle_marker_d1de7b2063ee85c58f3ea011b5162a01.bindPopup(popup_8aa681082412637eecc647d17e3710e8)\n",
              "        ;\n",
              "\n",
              "        \n",
              "    \n",
              "    \n",
              "            var circle_marker_1a5320c7d09d6341f97d3b726c312614 = L.circleMarker(\n",
              "                [10.96854, -74.78132],\n",
              "                {&quot;bubblingMouseEvents&quot;: true, &quot;color&quot;: &quot;red&quot;, &quot;dashArray&quot;: null, &quot;dashOffset&quot;: null, &quot;fill&quot;: true, &quot;fillColor&quot;: &quot;red&quot;, &quot;fillOpacity&quot;: 0.2, &quot;fillRule&quot;: &quot;evenodd&quot;, &quot;lineCap&quot;: &quot;round&quot;, &quot;lineJoin&quot;: &quot;round&quot;, &quot;opacity&quot;: 1.0, &quot;radius&quot;: 8, &quot;stroke&quot;: true, &quot;weight&quot;: 3}\n",
              "            ).addTo(map_79b333c2f1b2b39bf149905b313c3bc6);\n",
              "        \n",
              "    \n",
              "        var popup_6cba583e641be33df2da0b65f0ff997d = L.popup({\n",
              "  &quot;maxWidth&quot;: &quot;100%&quot;,\n",
              "});\n",
              "\n",
              "        \n",
              "            \n",
              "                var html_fec7d482730ce790036c282a7ed34b8b = $(`&lt;div id=&quot;html_fec7d482730ce790036c282a7ed34b8b&quot; style=&quot;width: 100.0%; height: 100.0%;&quot;&gt;Calificación: 3.80&lt;/div&gt;`)[0];\n",
              "                popup_6cba583e641be33df2da0b65f0ff997d.setContent(html_fec7d482730ce790036c282a7ed34b8b);\n",
              "            \n",
              "        \n",
              "\n",
              "        circle_marker_1a5320c7d09d6341f97d3b726c312614.bindPopup(popup_6cba583e641be33df2da0b65f0ff997d)\n",
              "        ;\n",
              "\n",
              "        \n",
              "    \n",
              "    \n",
              "            var circle_marker_11f6849a61538e5a723cafb9507efc99 = L.circleMarker(\n",
              "                [11.24079, -74.19904],\n",
              "                {&quot;bubblingMouseEvents&quot;: true, &quot;color&quot;: &quot;red&quot;, &quot;dashArray&quot;: null, &quot;dashOffset&quot;: null, &quot;fill&quot;: true, &quot;fillColor&quot;: &quot;red&quot;, &quot;fillOpacity&quot;: 0.2, &quot;fillRule&quot;: &quot;evenodd&quot;, &quot;lineCap&quot;: &quot;round&quot;, &quot;lineJoin&quot;: &quot;round&quot;, &quot;opacity&quot;: 1.0, &quot;radius&quot;: 8, &quot;stroke&quot;: true, &quot;weight&quot;: 3}\n",
              "            ).addTo(map_79b333c2f1b2b39bf149905b313c3bc6);\n",
              "        \n",
              "    \n",
              "        var popup_831f548ba2c08c6c992760d9304694fb = L.popup({\n",
              "  &quot;maxWidth&quot;: &quot;100%&quot;,\n",
              "});\n",
              "\n",
              "        \n",
              "            \n",
              "                var html_d75bb070ff9ee1a366ae8c7a3002e537 = $(`&lt;div id=&quot;html_d75bb070ff9ee1a366ae8c7a3002e537&quot; style=&quot;width: 100.0%; height: 100.0%;&quot;&gt;Calificación: 3.60&lt;/div&gt;`)[0];\n",
              "                popup_831f548ba2c08c6c992760d9304694fb.setContent(html_d75bb070ff9ee1a366ae8c7a3002e537);\n",
              "            \n",
              "        \n",
              "\n",
              "        circle_marker_11f6849a61538e5a723cafb9507efc99.bindPopup(popup_831f548ba2c08c6c992760d9304694fb)\n",
              "        ;\n",
              "\n",
              "        \n",
              "    \n",
              "    \n",
              "            var circle_marker_ee5381bdd7dbe2bad1d101be29da2f77 = L.circleMarker(\n",
              "                [11.54444, -72.90722],\n",
              "                {&quot;bubblingMouseEvents&quot;: true, &quot;color&quot;: &quot;red&quot;, &quot;dashArray&quot;: null, &quot;dashOffset&quot;: null, &quot;fill&quot;: true, &quot;fillColor&quot;: &quot;red&quot;, &quot;fillOpacity&quot;: 0.2, &quot;fillRule&quot;: &quot;evenodd&quot;, &quot;lineCap&quot;: &quot;round&quot;, &quot;lineJoin&quot;: &quot;round&quot;, &quot;opacity&quot;: 1.0, &quot;radius&quot;: 8, &quot;stroke&quot;: true, &quot;weight&quot;: 3}\n",
              "            ).addTo(map_79b333c2f1b2b39bf149905b313c3bc6);\n",
              "        \n",
              "    \n",
              "        var popup_27de9092847389b71d0e9cef421a2071 = L.popup({\n",
              "  &quot;maxWidth&quot;: &quot;100%&quot;,\n",
              "});\n",
              "\n",
              "        \n",
              "            \n",
              "                var html_b3f0181531e91e8a8bd7775439337c7c = $(`&lt;div id=&quot;html_b3f0181531e91e8a8bd7775439337c7c&quot; style=&quot;width: 100.0%; height: 100.0%;&quot;&gt;Calificación: 3.90&lt;/div&gt;`)[0];\n",
              "                popup_27de9092847389b71d0e9cef421a2071.setContent(html_b3f0181531e91e8a8bd7775439337c7c);\n",
              "            \n",
              "        \n",
              "\n",
              "        circle_marker_ee5381bdd7dbe2bad1d101be29da2f77.bindPopup(popup_27de9092847389b71d0e9cef421a2071)\n",
              "        ;\n",
              "\n",
              "        \n",
              "    \n",
              "&lt;/script&gt;\n",
              "&lt;/html&gt;\" style=\"position:absolute;width:100%;height:100%;left:0;top:0;border:none !important;\" allowfullscreen webkitallowfullscreen mozallowfullscreen></iframe></div></div>"
            ]
          },
          "metadata": {},
          "execution_count": 58
        }
      ]
    },
    {
      "cell_type": "code",
      "source": [
        "# Guardar el análisis de calificación por ubicación\n",
        "calificacion_por_ubicacion.to_csv('calificacion_por_ubicacion.csv', index=False)\n",
        "\n",
        "print(\"\\nEl análisis de calificación por ubicación ha sido guardado en 'calificacion_por_ubicacion.csv'.\")"
      ],
      "metadata": {
        "colab": {
          "base_uri": "https://localhost:8080/"
        },
        "id": "lbMeXHzUKWhL",
        "outputId": "fdc36de7-ef27-4d57-db50-5abd8a7e99da"
      },
      "execution_count": null,
      "outputs": [
        {
          "output_type": "stream",
          "name": "stdout",
          "text": [
            "\n",
            "El análisis de calificación por ubicación ha sido guardado en 'calificacion_por_ubicacion.csv'.\n"
          ]
        }
      ]
    },
    {
      "cell_type": "code",
      "source": [
        "# Calcular el total de ventas por tienda\n",
        "ventas_totales_por_tienda = tienda_unificada.groupby('tienda')['Precio'].sum().reset_index()\n",
        "ventas_totales_por_tienda.rename(columns={'Precio': 'Ventas_Totales'}, inplace=True)"
      ],
      "metadata": {
        "id": "-u5AWPsdMItN"
      },
      "execution_count": null,
      "outputs": []
    },
    {
      "cell_type": "code",
      "source": [
        "# Contar las ventas por categoría y tienda\n",
        "ventas_por_categoria = tienda_unificada.groupby(['tienda', 'Categoría del Producto']).size().reset_index(name='Ventas_Categoria')"
      ],
      "metadata": {
        "id": "ojtwozx8MNhN"
      },
      "execution_count": null,
      "outputs": []
    },
    {
      "cell_type": "code",
      "source": [
        "# Calcular la calificación promedio por tienda\n",
        "calificacion_promedio_por_tienda = tienda_unificada.groupby('tienda')['Calificación'].mean().reset_index()\n",
        "calificacion_promedio_por_tienda.rename(columns={'Calificación': 'Calificacion_Promedio'}, inplace=True)"
      ],
      "metadata": {
        "id": "tfjitMukMQ17"
      },
      "execution_count": null,
      "outputs": []
    },
    {
      "cell_type": "code",
      "source": [
        "# Contar las ventas por producto y tienda\n",
        "ventas_por_producto = tienda_unificada.groupby(['tienda', 'Producto']).size().reset_index(name='Ventas_Producto')\n",
        "\n",
        "# Encontrar el producto más vendido por tienda\n",
        "productos_mas_vendidos = ventas_por_producto.loc[ventas_por_producto.groupby('tienda')['Ventas_Producto'].idxmax()]\n",
        "\n",
        "# Encontrar el producto menos vendido por tienda\n",
        "productos_menos_vendidos = ventas_por_producto.loc[ventas_por_producto.groupby('tienda')['Ventas_Producto'].idxmin()]"
      ],
      "metadata": {
        "id": "ctdHGUBxMUXQ"
      },
      "execution_count": null,
      "outputs": []
    },
    {
      "cell_type": "code",
      "source": [
        "# Calcular el costo de envío promedio por tienda\n",
        "costo_envio_promedio_por_tienda = tienda_unificada.groupby('tienda')['Costo de envío'].mean().reset_index()\n",
        "costo_envio_promedio_por_tienda.rename(columns={'Costo de envío': 'Costo_Envio_Promedio'}, inplace=True)"
      ],
      "metadata": {
        "id": "9Io7fNsqMW-u"
      },
      "execution_count": null,
      "outputs": []
    },
    {
      "cell_type": "code",
      "source": [
        "# Combinar los DataFrames\n",
        "analisis_rentabilidad = (\n",
        "    ventas_totales_por_tienda\n",
        "    .merge(calificacion_promedio_por_tienda, on='tienda', how='left')\n",
        "    .merge(costo_envio_promedio_por_tienda, on='tienda', how='left')\n",
        ")\n",
        "\n",
        "# Mostrar el DataFrame combinado\n",
        "print(\"\\nAnálisis de rentabilidad por tienda:\")\n",
        "print(analisis_rentabilidad)"
      ],
      "metadata": {
        "colab": {
          "base_uri": "https://localhost:8080/"
        },
        "id": "axXg2AOuMZic",
        "outputId": "764a8f58-da14-4249-b82f-819bf6f43116"
      },
      "execution_count": null,
      "outputs": [
        {
          "output_type": "stream",
          "name": "stdout",
          "text": [
            "\n",
            "Análisis de rentabilidad por tienda:\n",
            "     tienda  Ventas_Totales  Calificacion_Promedio  Costo_Envio_Promedio\n",
            "0  Tienda 1    1.150880e+09               3.976685          26018.609580\n",
            "1  Tienda 2    1.116344e+09               4.037304          25216.235693\n",
            "2  Tienda 3    1.098020e+09               4.048326          24805.680373\n",
            "3  Tienda 4    1.038376e+09               3.995759          23459.457167\n"
          ]
        }
      ]
    },
    {
      "cell_type": "code",
      "source": [
        "from sklearn.preprocessing import MinMaxScaler\n",
        "\n",
        "# Normalizar los valores\n",
        "scaler = MinMaxScaler()\n",
        "\n",
        "analisis_rentabilidad['Puntaje_Ventas'] = scaler.fit_transform(analisis_rentabilidad[['Ventas_Totales']])\n",
        "analisis_rentabilidad['Puntaje_Calificacion'] = scaler.fit_transform(analisis_rentabilidad[['Calificacion_Promedio']])\n",
        "analisis_rentabilidad['Puntaje_Costo_Envio'] = 1 - scaler.fit_transform(analisis_rentabilidad[['Costo_Envio_Promedio']])\n",
        "\n",
        "# Calcular el puntaje de rentabilidad total (suma ponderada)\n",
        "analisis_rentabilidad['Puntaje_Rentabilidad'] = (\n",
        "    analisis_rentabilidad['Puntaje_Ventas'] * 0.4 +  # Mayor peso a las ventas\n",
        "    analisis_rentabilidad['Puntaje_Calificacion'] * 0.3 +  # Peso moderado a la calificación\n",
        "    analisis_rentabilidad['Puntaje_Costo_Envio'] * 0.3  # Peso moderado al costo de envío\n",
        ")\n",
        "\n",
        "# Identificar la tienda menos rentable\n",
        "tienda_menos_rentable = analisis_rentabilidad.loc[analisis_rentabilidad['Puntaje_Rentabilidad'].idxmin()]\n",
        "\n",
        "# Mostrar el resultado\n",
        "print(\"\\nTienda menos rentable:\")\n",
        "print(tienda_menos_rentable)"
      ],
      "metadata": {
        "colab": {
          "base_uri": "https://localhost:8080/"
        },
        "id": "wYu_bIvHMihc",
        "outputId": "63701abc-7553-46aa-c97f-c1c6a8a1e7f5"
      },
      "execution_count": null,
      "outputs": [
        {
          "output_type": "stream",
          "name": "stdout",
          "text": [
            "\n",
            "Tienda menos rentable:\n",
            "tienda                       Tienda 4\n",
            "Ventas_Totales           1038375700.0\n",
            "Calificacion_Promedio        3.995759\n",
            "Costo_Envio_Promedio     23459.457167\n",
            "Puntaje_Ventas                    0.0\n",
            "Puntaje_Calificacion         0.266247\n",
            "Puntaje_Costo_Envio               1.0\n",
            "Puntaje_Rentabilidad         0.379874\n",
            "Name: 3, dtype: object\n"
          ]
        }
      ]
    },
    {
      "cell_type": "code",
      "source": [
        "import matplotlib.pyplot as plt\n",
        "\n",
        "# Gráfico de barras para el puntaje de rentabilidad\n",
        "plt.figure(figsize=(10, 6))\n",
        "plt.bar(analisis_rentabilidad['tienda'], analisis_rentabilidad['Puntaje_Rentabilidad'], color='skyblue')\n",
        "plt.title('Puntaje de Rentabilidad por Tienda')\n",
        "plt.xlabel('Tienda')\n",
        "plt.ylabel('Puntaje de Rentabilidad')\n",
        "plt.xticks(rotation=45)\n",
        "plt.show()"
      ],
      "metadata": {
        "colab": {
          "base_uri": "https://localhost:8080/",
          "height": 602
        },
        "id": "Mo0KBtJpMnRI",
        "outputId": "3770fdc7-4cd5-431f-ad4e-ce9d857196b1"
      },
      "execution_count": null,
      "outputs": [
        {
          "output_type": "display_data",
          "data": {
            "text/plain": [
              "<Figure size 1000x600 with 1 Axes>"
            ],
            "image/png": "[encoded data removed]"
          },
          "metadata": {}
        }
      ]
    },
    {
      "cell_type": "code",
      "source": [
        "# Guardar el análisis de rentabilidad\n",
        "analisis_rentabilidad.to_csv('analisis_rentabilidad.csv', index=False)\n",
        "\n",
        "print(\"\\nEl análisis de rentabilidad ha sido guardado en 'analisis_rentabilidad.csv'.\")"
      ],
      "metadata": {
        "colab": {
          "base_uri": "https://localhost:8080/"
        },
        "id": "eyUsOTSnMyUP",
        "outputId": "f03dd853-74da-4038-8b88-27051dc89caf"
      },
      "execution_count": null,
      "outputs": [
        {
          "output_type": "stream",
          "name": "stdout",
          "text": [
            "\n",
            "El análisis de rentabilidad ha sido guardado en 'analisis_rentabilidad.csv'.\n"
          ]
        }
      ]
    },
    {
      "cell_type": "code",
      "source": [
        "# Crear la tabla resumen\n",
        "tabla_resumen = analisis_rentabilidad[['tienda', 'Ventas_Totales', 'Calificacion_Promedio',\n",
        "                                        'Costo_Envio_Promedio', 'Puntaje_Rentabilidad']].copy()\n",
        "\n",
        "# Mostrar la tabla resumen\n",
        "print(\"\\nTabla resumen de rentabilidad:\")\n",
        "print(tabla_resumen)"
      ],
      "metadata": {
        "colab": {
          "base_uri": "https://localhost:8080/"
        },
        "id": "FrkJXs2vcvrn",
        "outputId": "954c1c28-d84a-46da-b8a9-ae6ac66efff3"
      },
      "execution_count": null,
      "outputs": [
        {
          "output_type": "stream",
          "name": "stdout",
          "text": [
            "\n",
            "Tabla resumen de rentabilidad:\n",
            "     tienda  Ventas_Totales  Calificacion_Promedio  Costo_Envio_Promedio  \\\n",
            "0  Tienda 1    1.150880e+09               3.976685          26018.609580   \n",
            "1  Tienda 2    1.116344e+09               4.037304          25216.235693   \n",
            "2  Tienda 3    1.098020e+09               4.048326          24805.680373   \n",
            "3  Tienda 4    1.038376e+09               3.995759          23459.457167   \n",
            "\n",
            "   Puntaje_Rentabilidad  \n",
            "0              0.400000  \n",
            "1              0.625113  \n",
            "2              0.654246  \n",
            "3              0.379874  \n"
          ]
        }
      ]
    },
    {
      "cell_type": "code",
      "source": [
        "# Función para aplicar estilos condicionales\n",
        "def resaltar_mejor_peor(s):\n",
        "    # Identificar el mejor y peor valor en la columna\n",
        "    es_mejor = s == s.max()  # Mejor valor (máximo o mínimo dependiendo del caso)\n",
        "    es_peor = s == s.min()   # Peor valor (mínimo o máximo dependiendo del caso)\n",
        "\n",
        "    # Crear un estilo para cada celda\n",
        "    return ['background-color: lightgreen' if v else\n",
        "            'background-color: lightcoral' if p else ''\n",
        "            for v, p in zip(es_mejor, es_peor)]\n",
        "\n",
        "# Aplicar estilos condicionales a la tabla resumen\n",
        "tabla_resumen_estilizada = tabla_resumen.style.apply(resaltar_mejor_peor, subset=['Ventas_Totales', 'Calificacion_Promedio', 'Puntaje_Rentabilidad']) \\\n",
        "                                            .apply(lambda s: resaltar_mejor_peor(-s), subset=['Costo_Envio_Promedio'])\n",
        "\n",
        "# Mostrar la tabla resumen estilizada\n",
        "tabla_resumen_estilizada"
      ],
      "metadata": {
        "colab": {
          "base_uri": "https://localhost:8080/",
          "height": 175
        },
        "id": "D-uLTIbgdHNO",
        "outputId": "847a6117-8b45-46d1-a067-f5e4149a8c6a"
      },
      "execution_count": null,
      "outputs": [
        {
          "output_type": "execute_result",
          "data": {
            "text/plain": [
              "<pandas.io.formats.style.Styler at 0x7e2814596b10>"
            ],
            "text/html": [
              "<style type=\"text/css\">\n",
              "#T_49c54_row0_col1, #T_49c54_row2_col2, #T_49c54_row2_col4, #T_49c54_row3_col3 {\n",
              "  background-color: lightgreen;\n",
              "}\n",
              "#T_49c54_row0_col2, #T_49c54_row0_col3, #T_49c54_row3_col1, #T_49c54_row3_col4 {\n",
              "  background-color: lightcoral;\n",
              "}\n",
              "</style>\n",
              "<table id=\"T_49c54\" class=\"dataframe\">\n",
              "  <thead>\n",
              "    <tr>\n",
              "      <th class=\"blank level0\" >&nbsp;</th>\n",
              "      <th id=\"T_49c54_level0_col0\" class=\"col_heading level0 col0\" >tienda</th>\n",
              "      <th id=\"T_49c54_level0_col1\" class=\"col_heading level0 col1\" >Ventas_Totales</th>\n",
              "      <th id=\"T_49c54_level0_col2\" class=\"col_heading level0 col2\" >Calificacion_Promedio</th>\n",
              "      <th id=\"T_49c54_level0_col3\" class=\"col_heading level0 col3\" >Costo_Envio_Promedio</th>\n",
              "      <th id=\"T_49c54_level0_col4\" class=\"col_heading level0 col4\" >Puntaje_Rentabilidad</th>\n",
              "    </tr>\n",
              "  </thead>\n",
              "  <tbody>\n",
              "    <tr>\n",
              "      <th id=\"T_49c54_level0_row0\" class=\"row_heading level0 row0\" >0</th>\n",
              "      <td id=\"T_49c54_row0_col0\" class=\"data row0 col0\" >Tienda 1</td>\n",
              "      <td id=\"T_49c54_row0_col1\" class=\"data row0 col1\" >1150880400.000000</td>\n",
              "      <td id=\"T_49c54_row0_col2\" class=\"data row0 col2\" >3.976685</td>\n",
              "      <td id=\"T_49c54_row0_col3\" class=\"data row0 col3\" >26018.609580</td>\n",
              "      <td id=\"T_49c54_row0_col4\" class=\"data row0 col4\" >0.400000</td>\n",
              "    </tr>\n",
              "    <tr>\n",
              "      <th id=\"T_49c54_level0_row1\" class=\"row_heading level0 row1\" >1</th>\n",
              "      <td id=\"T_49c54_row1_col0\" class=\"data row1 col0\" >Tienda 2</td>\n",
              "      <td id=\"T_49c54_row1_col1\" class=\"data row1 col1\" >1116343500.000000</td>\n",
              "      <td id=\"T_49c54_row1_col2\" class=\"data row1 col2\" >4.037304</td>\n",
              "      <td id=\"T_49c54_row1_col3\" class=\"data row1 col3\" >25216.235693</td>\n",
              "      <td id=\"T_49c54_row1_col4\" class=\"data row1 col4\" >0.625113</td>\n",
              "    </tr>\n",
              "    <tr>\n",
              "      <th id=\"T_49c54_level0_row2\" class=\"row_heading level0 row2\" >2</th>\n",
              "      <td id=\"T_49c54_row2_col0\" class=\"data row2 col0\" >Tienda 3</td>\n",
              "      <td id=\"T_49c54_row2_col1\" class=\"data row2 col1\" >1098019600.000000</td>\n",
              "      <td id=\"T_49c54_row2_col2\" class=\"data row2 col2\" >4.048326</td>\n",
              "      <td id=\"T_49c54_row2_col3\" class=\"data row2 col3\" >24805.680373</td>\n",
              "      <td id=\"T_49c54_row2_col4\" class=\"data row2 col4\" >0.654246</td>\n",
              "    </tr>\n",
              "    <tr>\n",
              "      <th id=\"T_49c54_level0_row3\" class=\"row_heading level0 row3\" >3</th>\n",
              "      <td id=\"T_49c54_row3_col0\" class=\"data row3 col0\" >Tienda 4</td>\n",
              "      <td id=\"T_49c54_row3_col1\" class=\"data row3 col1\" >1038375700.000000</td>\n",
              "      <td id=\"T_49c54_row3_col2\" class=\"data row3 col2\" >3.995759</td>\n",
              "      <td id=\"T_49c54_row3_col3\" class=\"data row3 col3\" >23459.457167</td>\n",
              "      <td id=\"T_49c54_row3_col4\" class=\"data row3 col4\" >0.379874</td>\n",
              "    </tr>\n",
              "  </tbody>\n",
              "</table>\n"
            ]
          },
          "metadata": {},
          "execution_count": 43
        }
      ]
    },
    {
      "cell_type": "code",
      "source": [
        "# Guardar la tabla resumen sin estilos\n",
        "tabla_resumen.to_csv('tabla_resumen_rentabilidad.csv', index=False)\n",
        "\n",
        "print(\"\\nLa tabla resumen ha sido guardada en 'tabla_resumen_rentabilidad.csv'.\")"
      ],
      "metadata": {
        "colab": {
          "base_uri": "https://localhost:8080/"
        },
        "id": "prfMgO8tdVjJ",
        "outputId": "59bfdf09-24e5-45c0-e363-78508a1bf36c"
      },
      "execution_count": null,
      "outputs": [
        {
          "output_type": "stream",
          "name": "stdout",
          "text": [
            "\n",
            "La tabla resumen ha sido guardada en 'tabla_resumen_rentabilidad.csv'.\n"
          ]
        }
      ]
    },
    {
      "cell_type": "code",
      "source": [
        "# Recalcular el puntaje de rentabilidad con los nuevos pesos\n",
        "analisis_rentabilidad['Puntaje_Rentabilidad'] = (\n",
        "    analisis_rentabilidad['Puntaje_Ventas'] * 0.4 +       # Peso a ventas\n",
        "    analisis_rentabilidad['Puntaje_Calificacion'] * 0.4 + # Peso a calificación\n",
        "    analisis_rentabilidad['Puntaje_Costo_Envio'] * 0.2    # Peso a costo de envío\n",
        ")\n",
        "\n",
        "# Mostrar el DataFrame actualizado\n",
        "print(\"\\nAnálisis de rentabilidad con nuevos pesos:\")\n",
        "print(analisis_rentabilidad[['tienda', 'Ventas_Totales', 'Calificacion_Promedio',\n",
        "                              'Costo_Envio_Promedio', 'Puntaje_Rentabilidad']])"
      ],
      "metadata": {
        "colab": {
          "base_uri": "https://localhost:8080/"
        },
        "id": "TJ50ja9meNh_",
        "outputId": "06fed6d7-7ecb-4ece-f10c-710375b058c7"
      },
      "execution_count": null,
      "outputs": [
        {
          "output_type": "stream",
          "name": "stdout",
          "text": [
            "\n",
            "Análisis de rentabilidad con nuevos pesos:\n",
            "     tienda  Ventas_Totales  Calificacion_Promedio  Costo_Envio_Promedio  \\\n",
            "0  Tienda 1    1.150880e+09               3.976685          26018.609580   \n",
            "1  Tienda 2    1.116344e+09               4.037304          25216.235693   \n",
            "2  Tienda 3    1.098020e+09               4.048326          24805.680373   \n",
            "3  Tienda 4    1.038376e+09               3.995759          23459.457167   \n",
            "\n",
            "   Puntaje_Rentabilidad  \n",
            "0              0.400000  \n",
            "1              0.678375  \n",
            "2              0.706850  \n",
            "3              0.306499  \n"
          ]
        }
      ]
    },
    {
      "cell_type": "code",
      "source": [
        "# Identificar la tienda menos rentable con los nuevos pesos\n",
        "tienda_menos_rentable = analisis_rentabilidad.loc[analisis_rentabilidad['Puntaje_Rentabilidad'].idxmin()]\n",
        "\n",
        "# Mostrar el resultado\n",
        "print(\"\\nTienda menos rentable con nuevos pesos:\")\n",
        "print(tienda_menos_rentable)"
      ],
      "metadata": {
        "colab": {
          "base_uri": "https://localhost:8080/"
        },
        "id": "2cX2rJFRead2",
        "outputId": "3f7a2109-e7c0-4d80-d443-5bf4604de4ac"
      },
      "execution_count": null,
      "outputs": [
        {
          "output_type": "stream",
          "name": "stdout",
          "text": [
            "\n",
            "Tienda menos rentable con nuevos pesos:\n",
            "tienda                       Tienda 4\n",
            "Ventas_Totales           1038375700.0\n",
            "Calificacion_Promedio        3.995759\n",
            "Costo_Envio_Promedio     23459.457167\n",
            "Puntaje_Ventas                    0.0\n",
            "Puntaje_Calificacion         0.266247\n",
            "Puntaje_Costo_Envio               1.0\n",
            "Puntaje_Rentabilidad         0.306499\n",
            "Name: 3, dtype: object\n"
          ]
        }
      ]
    },
    {
      "cell_type": "code",
      "source": [
        "# Obtener los 3 mejores vendedores en total\n",
        "mejores_totales = vendedores_por_tienda.nlargest(3, 'Puntaje_Final')[['Vendedor', 'Puntaje_Final']]\n",
        "\n",
        "# Obtener los 3 peores vendedores en total\n",
        "peores_totales = vendedores_por_tienda.nsmallest(3, 'Puntaje_Final')[['Vendedor', 'Puntaje_Final']]\n",
        "\n",
        "# Mostrar los resultados\n",
        "print(\"\\n3 mejores vendedores en total:\")\n",
        "print(mejores_totales)\n",
        "\n",
        "print(\"\\n3 peores vendedores en total:\")\n",
        "print(peores_totales)"
      ],
      "metadata": {
        "colab": {
          "base_uri": "https://localhost:8080/"
        },
        "id": "xWu91l9EisG9",
        "outputId": "4f2fe7b5-a0c9-4fc6-d800-fa8f7caf7ca2"
      },
      "execution_count": null,
      "outputs": [
        {
          "output_type": "stream",
          "name": "stdout",
          "text": [
            "\n",
            "3 mejores vendedores en total:\n",
            "           Vendedor  Puntaje_Final\n",
            "45    Felipe Santos       0.848405\n",
            "18  Izabela de León       0.802928\n",
            "36    Maria Alfonso       0.756248\n",
            "\n",
            "3 peores vendedores en total:\n",
            "           Vendedor  Puntaje_Final\n",
            "53    Rafael Acosta       0.196647\n",
            "42  Beatriz Morales       0.209456\n",
            "52      Pedro Gomez       0.213285\n"
          ]
        }
      ]
    },
    {
      "cell_type": "code",
      "source": [
        "# Guardar los 3 mejores y peores vendedores por tienda\n",
        "mejores_por_tienda.to_csv('mejores_vendedores_por_tienda.csv', index=False)\n",
        "peores_por_tienda.to_csv('peores_vendedores_por_tienda.csv', index=False)\n",
        "\n",
        "# Guardar los 3 mejores y peores vendedores en total\n",
        "mejores_totales.to_csv('mejores_vendedores_totales.csv', index=False)\n",
        "peores_totales.to_csv('peores_vendedores_totales.csv', index=False)\n",
        "\n",
        "print(\"\\nLos análisis han sido guardados en archivos CSV.\")"
      ],
      "metadata": {
        "colab": {
          "base_uri": "https://localhost:8080/"
        },
        "id": "oCWxDZUcjIxB",
        "outputId": "8211bd6d-ffca-448f-a476-c4588f46d99c"
      },
      "execution_count": null,
      "outputs": [
        {
          "output_type": "stream",
          "name": "stdout",
          "text": [
            "\n",
            "Los análisis han sido guardados en archivos CSV.\n"
          ]
        }
      ]
    },
    {
      "cell_type": "code",
      "source": [
        "# Calcular métricas para cada vendedor\n",
        "analisis_vendedores = tienda_unificada.groupby('Vendedor').agg(\n",
        "    total_ventas=('Precio', 'sum'),  # Total de ventas\n",
        "    numero_transacciones=('Precio', 'count'),  # Número de transacciones\n",
        "    promedio_precio=('Precio', 'mean')  # Promedio de precio de producto vendido\n",
        ").reset_index()\n",
        "\n",
        "# Calcular el cuociente (eficiencia): total_ventas / numero_transacciones\n",
        "analisis_vendedores['cuociente_eficiencia'] = analisis_vendedores['total_ventas'] / analisis_vendedores['numero_transacciones']\n",
        "\n",
        "# Ordenar por eficiencia descendente (mayor cuociente primero)\n",
        "analisis_vendedores = analisis_vendedores.sort_values(by='cuociente_eficiencia', ascending=False)\n",
        "\n",
        "# Mostrar el análisis completo\n",
        "print(\"\\nAnálisis de eficiencia de vendedores:\")\n",
        "print(analisis_vendedores)"
      ],
      "metadata": {
        "colab": {
          "base_uri": "https://localhost:8080/"
        },
        "id": "ZwsFfhf06Qfb",
        "outputId": "75ae48f7-f6d1-43e5-d995-780ae6565e87"
      },
      "execution_count": null,
      "outputs": [
        {
          "output_type": "stream",
          "name": "stdout",
          "text": [
            "\n",
            "Análisis de eficiencia de vendedores:\n",
            "           Vendedor  total_ventas  numero_transacciones  promedio_precio  \\\n",
            "8     Maria Alfonso   349694800.0                   679    515014.432990   \n",
            "3     Felipe Santos   353796000.0                   701    504701.854494   \n",
            "6     Juliana Costa   338364700.0                   677    499800.147710   \n",
            "11    Rafael Acosta   310292300.0                   625    496467.680000   \n",
            "10      Pedro Gomez   313350900.0                   655    478398.320611   \n",
            "4   Izabela de León   350342400.0                   744    470890.322581   \n",
            "0   Beatriz Morales   302695600.0                   650    465685.538462   \n",
            "2     Camila Rivera   303184200.0                   667    454549.025487   \n",
            "7     Lucas Olivera   305403600.0                   674    453121.068249   \n",
            "12   Santiago Silva   293418200.0                   650    451412.615385   \n",
            "5    Juan Fernandez   308562100.0                   694    444613.976945   \n",
            "1    Blanca Ramirez   299586600.0                   679    441217.378498   \n",
            "9   Mariana Herrera   283302600.0                   656    431863.719512   \n",
            "13  Ángel Rodriguez   291625200.0                   684    426352.631579   \n",
            "\n",
            "    cuociente_eficiencia  \n",
            "8          515014.432990  \n",
            "3          504701.854494  \n",
            "6          499800.147710  \n",
            "11         496467.680000  \n",
            "10         478398.320611  \n",
            "4          470890.322581  \n",
            "0          465685.538462  \n",
            "2          454549.025487  \n",
            "7          453121.068249  \n",
            "12         451412.615385  \n",
            "5          444613.976945  \n",
            "1          441217.378498  \n",
            "9          431863.719512  \n",
            "13         426352.631579  \n"
          ]
        }
      ]
    },
    {
      "cell_type": "code",
      "source": [
        "# Calcular métricas para cada vendedor\n",
        "analisis_vendedores = tienda_unificada.groupby(['Vendedor', 'tienda']).agg(\n",
        "    total_ventas=('Precio', 'sum'),  # Total de ventas\n",
        "    numero_transacciones=('Precio', 'count'),  # Número de transacciones\n",
        "    promedio_precio=('Precio', 'mean'),  # Promedio de precio de producto vendido\n",
        "    producto_mas_caro=('Precio', 'max')  # Producto más caro vendido\n",
        ").reset_index()\n",
        "\n",
        "# Calcular el cuociente (eficiencia): total_ventas / numero_transacciones\n",
        "analisis_vendedores['cuociente_eficiencia'] = analisis_vendedores['total_ventas'] / analisis_vendedores['numero_transacciones']\n",
        "\n",
        "# Ordenar por cuociente descendente (mayor cuociente primero)\n",
        "analisis_vendedores = analisis_vendedores.sort_values(by='cuociente_eficiencia', ascending=False)\n",
        "\n",
        "# Mostrar el análisis completo\n",
        "print(\"\\nAnálisis de eficiencia de vendedores:\")\n",
        "print(analisis_vendedores.head())"
      ],
      "metadata": {
        "colab": {
          "base_uri": "https://localhost:8080/"
        },
        "id": "1IxIs4S369Ot",
        "outputId": "a2c73411-13ac-44c6-ee19-623ba62e6674"
      },
      "execution_count": null,
      "outputs": [
        {
          "output_type": "stream",
          "name": "stdout",
          "text": [
            "\n",
            "Análisis de eficiencia de vendedores:\n",
            "           Vendedor    tienda  total_ventas  numero_transacciones  \\\n",
            "32    Maria Alfonso  Tienda 1   101528700.0                   173   \n",
            "44    Rafael Acosta  Tienda 1    96271300.0                   171   \n",
            "37  Mariana Herrera  Tienda 2    84490100.0                   157   \n",
            "12    Felipe Santos  Tienda 1    90206900.0                   170   \n",
            "13    Felipe Santos  Tienda 2    87861800.0                   166   \n",
            "\n",
            "    promedio_precio  producto_mas_caro  cuociente_eficiencia  \n",
            "32    586871.098266          2809600.0         586871.098266  \n",
            "44    562990.058480          2761500.0         562990.058480  \n",
            "37    538153.503185          2607700.0         538153.503185  \n",
            "12    530628.823529          2806900.0         530628.823529  \n",
            "13    529287.951807          2925400.0         529287.951807  \n"
          ]
        }
      ]
    },
    {
      "cell_type": "code",
      "source": [
        "# Seleccionar los 10 mejores vendedores por cuociente\n",
        "mejores_vendedores = analisis_vendedores.head(10)\n",
        "\n",
        "# Mostrar los 10 mejores vendedores\n",
        "print(\"\\n10 vendedores con mejor cuociente de eficiencia:\")\n",
        "print(mejores_vendedores[['Vendedor', 'tienda', 'cuociente_eficiencia', 'producto_mas_caro']])"
      ],
      "metadata": {
        "colab": {
          "base_uri": "https://localhost:8080/"
        },
        "id": "a3V_zjav7Cgs",
        "outputId": "95b922a4-fcf5-4b0f-a960-a5f7286b5eaf"
      },
      "execution_count": null,
      "outputs": [
        {
          "output_type": "stream",
          "name": "stdout",
          "text": [
            "\n",
            "10 vendedores con mejor cuociente de eficiencia:\n",
            "           Vendedor    tienda  cuociente_eficiencia  producto_mas_caro\n",
            "32    Maria Alfonso  Tienda 1         586871.098266          2809600.0\n",
            "44    Rafael Acosta  Tienda 1         562990.058480          2761500.0\n",
            "37  Mariana Herrera  Tienda 2         538153.503185          2607700.0\n",
            "12    Felipe Santos  Tienda 1         530628.823529          2806900.0\n",
            "13    Felipe Santos  Tienda 2         529287.951807          2925400.0\n",
            "41      Pedro Gomez  Tienda 2         527136.842105          2953400.0\n",
            "26    Juliana Costa  Tienda 3         521640.000000          2968200.0\n",
            "34    Maria Alfonso  Tienda 3         517895.161290          2799500.0\n",
            "1   Beatriz Morales  Tienda 2         514958.823529          2580500.0\n",
            "28    Lucas Olivera  Tienda 1         511342.168675          2872800.0\n"
          ]
        }
      ]
    },
    {
      "cell_type": "code",
      "source": [
        "# Seleccionar los 10 peores vendedores por cuociente\n",
        "peores_vendedores = analisis_vendedores.tail(10)\n",
        "\n",
        "# Mostrar los 10 peores vendedores\n",
        "print(\"\\n10 vendedores con menor cuociente de eficiencia:\")\n",
        "print(peores_vendedores[['Vendedor', 'tienda', 'cuociente_eficiencia', 'producto_mas_caro']])"
      ],
      "metadata": {
        "colab": {
          "base_uri": "https://localhost:8080/"
        },
        "id": "ZTakxrMU7Z1j",
        "outputId": "67fc7b1b-9443-46d1-8664-548542007111"
      },
      "execution_count": null,
      "outputs": [
        {
          "output_type": "stream",
          "name": "stdout",
          "text": [
            "\n",
            "10 vendedores con menor cuociente de eficiencia:\n",
            "           Vendedor    tienda  cuociente_eficiencia  producto_mas_caro\n",
            "30    Lucas Olivera  Tienda 3         417154.819277          2383900.0\n",
            "4    Blanca Ramirez  Tienda 1         415368.333333          2636500.0\n",
            "9     Camila Rivera  Tienda 2         414464.596273          2771400.0\n",
            "5    Blanca Ramirez  Tienda 2         409775.301205          2545500.0\n",
            "38  Mariana Herrera  Tienda 3         408718.750000          2250000.0\n",
            "21   Juan Fernandez  Tienda 2         403032.515337          2224300.0\n",
            "52  Ángel Rodriguez  Tienda 1         391208.284024          2556200.0\n",
            "51   Santiago Silva  Tienda 4         382244.827586          2861000.0\n",
            "3   Beatriz Morales  Tienda 4         358610.828025          2151200.0\n",
            "39  Mariana Herrera  Tienda 4         339154.644809          2553200.0\n"
          ]
        }
      ]
    },
    {
      "cell_type": "markdown",
      "source": [
        "# Conclusión con los datos existentes:\n",
        "\n",
        "**La Tienda 1 es más productiva :**\n",
        "\n",
        "*   Genera 10.83% más ventas totales que la Tienda 4, lo que sugiere que sus vendedores son más eficientes o que la tienda tiene una mejor estrategia comercial.\n",
        "\n",
        "*   La Tienda 4 tiene una \"ventaja\" en satisfacción del cliente :\n",
        "Aunque la Tienda 1 tiene más ventas, la calificación promedio de la Tienda 4 (4.00) es ligeramente superior a la de la Tienda 1 (3.98 ). Lo anterior no supera el 0,5 % de diferencia lo que es marginal.\n",
        "\n",
        "**Rentabilidad final :**\n",
        "\n",
        "---\n",
        "\n",
        "\n",
        "\n",
        "*   Para determinar qué tienda es realmente más rentable, necesitaríamos considerar otros factores, como los costos operativos totales (no solo el costo de envío) y los márgenes de ganancia por venta, y las comisiones de los vendedores. Sin embargo, en términos de ingresos brutos , **la Tienda 4 es la de menor rendimiento.**\n",
        "\n",
        "*   Se recomienda evaluar la continuidad de la tienda N°4, y evaluar a los vendedores con menor puntaje de la cadena de tiendas, que pertenecen a la tienda N°4 : Rafael Acosta, Beatriz Morales y Pedro Gomez ( en base a ventas, puntaje y costo de envio). Cabe destacar que hay vendedores repetidos en las tiendas de las bases de datos recibidas, como lo son precisamente los tres vendedores mencionados. Lo anterior entre otras cosas puede indicar una mala depuración de las bases de datos, o que por ejemplo los tres trabajadores rotan en las 4 tiendas, lo que hace que su desepeño sea menor en la tienda 4 debido a su alta carga laboral.\n",
        "\n",
        "*   Si analizamos a los vendedores respecto a su total de ventas vs cantidad de transacciones, el rendimiento de Rafael Acosta en la Tienda 1, Beatriz Morales y Pedro Gomez en la Tienda 2 respectivamente, están en el top 10 de vendedores del global de las tiendas. No asi el rendimiento de Beatriz morales en la tienda 4 , en la cual aprece en el top 10 de menor rendimiento. Lo anterior apoya la idea de que la sobrecarga laboral en el caso de Beatriz es alta, pero también demuestra que Rafael y Pedro abordan esta sobrecarga de una manera mas eficiente.\n",
        "\n",
        "\n",
        "*   Se debe reevaluar los costos de envío en general, ya que el peso de éste parámetro, hace que la tienda 1 baje su rendimiento, a pesar de que es la de mayor facturación, se debe bsucar un equilibrio como las tiendas 2 y 3. Además se adjunta un listado con productos sugeridos a eliminar del catálogo, ya que los costos de envío en algunos casos son similares al valor del producto.\n",
        "\n",
        "\n",
        "\n",
        "\n",
        "\n",
        "\n",
        "\n",
        "\n",
        "\n",
        "\n"
      ],
      "metadata": {
        "id": "eqy6TWu1gRuJ"
      }
    }
  ]
}